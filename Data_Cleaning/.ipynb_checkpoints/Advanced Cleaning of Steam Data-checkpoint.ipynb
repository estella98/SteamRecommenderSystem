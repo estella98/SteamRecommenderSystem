{
 "cells": [
  {
   "cell_type": "markdown",
   "metadata": {},
   "source": [
    "## Advanced Cleaning of Steam Games Data\n",
    "\n",
    "In this notebook we try out two different recommenders on [Steam dataset on Kaggle](https://www.kaggle.com/tamber/steam-video-games). We will use:\n",
    "- ```numpy, pandas, sklearn``` for data preprocessing\n",
    "\n",
    "The dataset has no header but comes in 5 columns:\n",
    "- User ID: integer\n",
    "- Game title: string\n",
    "- Activity: string (purchase/play)\n",
    "- Status: float (1.0 if activity is purchase, total number of hours in game if activity is play)\n",
    "- A column full of 0's, will discard"
   ]
  },
  {
   "cell_type": "code",
   "execution_count": 1,
   "metadata": {},
   "outputs": [],
   "source": [
    "import pandas as pd\n",
    "import numpy as np \n",
    "import matplotlib\n",
    "# import matplotlib.pyplot as plt \n",
    "import seaborn as sns\n",
    "import turicreate\n",
    "import sklearn as sk\n",
    "from sklearn.preprocessing import Imputer\n",
    "from sklearn.model_selection import train_test_split"
   ]
  },
  {
   "cell_type": "code",
   "execution_count": 2,
   "metadata": {},
   "outputs": [
    {
     "data": {
      "text/html": [
       "<div>\n",
       "<style scoped>\n",
       "    .dataframe tbody tr th:only-of-type {\n",
       "        vertical-align: middle;\n",
       "    }\n",
       "\n",
       "    .dataframe tbody tr th {\n",
       "        vertical-align: top;\n",
       "    }\n",
       "\n",
       "    .dataframe thead th {\n",
       "        text-align: right;\n",
       "    }\n",
       "</style>\n",
       "<table border=\"1\" class=\"dataframe\">\n",
       "  <thead>\n",
       "    <tr style=\"text-align: right;\">\n",
       "      <th></th>\n",
       "      <th>userId</th>\n",
       "      <th>gameName</th>\n",
       "      <th>purchase</th>\n",
       "      <th>Actions</th>\n",
       "    </tr>\n",
       "  </thead>\n",
       "  <tbody>\n",
       "    <tr>\n",
       "      <th>0</th>\n",
       "      <td>151603712</td>\n",
       "      <td>The Elder Scrolls V Skyrim</td>\n",
       "      <td>play</td>\n",
       "      <td>273.0</td>\n",
       "    </tr>\n",
       "    <tr>\n",
       "      <th>1</th>\n",
       "      <td>151603712</td>\n",
       "      <td>Fallout 4</td>\n",
       "      <td>purchase</td>\n",
       "      <td>1.0</td>\n",
       "    </tr>\n",
       "    <tr>\n",
       "      <th>2</th>\n",
       "      <td>151603712</td>\n",
       "      <td>Fallout 4</td>\n",
       "      <td>play</td>\n",
       "      <td>87.0</td>\n",
       "    </tr>\n",
       "    <tr>\n",
       "      <th>3</th>\n",
       "      <td>151603712</td>\n",
       "      <td>Spore</td>\n",
       "      <td>purchase</td>\n",
       "      <td>1.0</td>\n",
       "    </tr>\n",
       "    <tr>\n",
       "      <th>4</th>\n",
       "      <td>151603712</td>\n",
       "      <td>Spore</td>\n",
       "      <td>play</td>\n",
       "      <td>14.9</td>\n",
       "    </tr>\n",
       "  </tbody>\n",
       "</table>\n",
       "</div>"
      ],
      "text/plain": [
       "      userId                    gameName  purchase  Actions\n",
       "0  151603712  The Elder Scrolls V Skyrim      play    273.0\n",
       "1  151603712                   Fallout 4  purchase      1.0\n",
       "2  151603712                   Fallout 4      play     87.0\n",
       "3  151603712                       Spore  purchase      1.0\n",
       "4  151603712                       Spore      play     14.9"
      ]
     },
     "execution_count": 2,
     "metadata": {},
     "output_type": "execute_result"
    }
   ],
   "source": [
    "games = pd.read_csv('../steam-200k.csv')\n",
    "games = games.rename({'151603712':'userId', 'The Elder Scrolls V Skyrim': 'gameName', '1.0':'Actions'}, axis = 1)\n",
    "games.drop(['0'],axis = 1, inplace = True)\n",
    "games.head()"
   ]
  },
  {
   "cell_type": "markdown",
   "metadata": {},
   "source": [
    "### get a sense of the data by displaying some basic properties"
   ]
  },
  {
   "cell_type": "code",
   "execution_count": 3,
   "metadata": {},
   "outputs": [
    {
     "name": "stdout",
     "output_type": "stream",
     "text": [
      "<class 'pandas.core.frame.DataFrame'>\n",
      "RangeIndex: 199999 entries, 0 to 199998\n",
      "Data columns (total 4 columns):\n",
      "userId      199999 non-null int64\n",
      "gameName    199999 non-null object\n",
      "purchase    199999 non-null object\n",
      "Actions     199999 non-null float64\n",
      "dtypes: float64(1), int64(1), object(2)\n",
      "memory usage: 6.1+ MB\n",
      "number of distinct users = 12393\n",
      "number of distinct games = 5155\n"
     ]
    }
   ],
   "source": [
    "games.info()\n",
    "print(\"number of distinct users = %d\" %games['userId'].nunique()) \n",
    "print(\"number of distinct games = %d\" %games['gameName'].nunique()) "
   ]
  },
  {
   "cell_type": "markdown",
   "metadata": {},
   "source": [
    "According to the description of the dataset, when the value under purchase column is equal to 'purchase', the Actions will always be 1.0. Therefore, those information is considered as redundant and could be nicely cleaned if we split the purchase column into two individual columns representing 'purchase' and 'play'"
   ]
  },
  {
   "cell_type": "code",
   "execution_count": 4,
   "metadata": {},
   "outputs": [
    {
     "name": "stdout",
     "output_type": "stream",
     "text": [
      "           userId                    gameName  purchase  play  Actions\n",
      "129534  151603712  The Elder Scrolls V Skyrim       NaN   1.0    273.0\n"
     ]
    }
   ],
   "source": [
    "# split the purchase column to two dataframes and perform an outer join to group highly duplicated row\n",
    "games_temp = games[games['purchase'] == 'play']\n",
    "games_temp =games_temp.rename({'purchase':'play'}, axis = 1)\n",
    "games = games[games.purchase =='purchase']\n",
    "games.drop(columns = 'Actions', inplace = True)\n",
    "result = pd.merge(games,games_temp, how='outer', on=['userId','gameName'])\n",
    "# reindex to group the data associated with the same user together\n",
    "reindex_result = result.sort_values(by = 'userId')\n",
    "reindex_result.set_index(np.arange(len(reindex_result.index)))\n",
    "reindex_result.purchase.replace(['purchase'], [1], inplace=True)\n",
    "reindex_result.play.replace(['play'], [1], inplace=True)\n",
    "# check whether the data has been fully merged \n",
    "check= reindex_result[reindex_result.purchase != 1]\n",
    "print(check)"
   ]
  },
  {
   "cell_type": "markdown",
   "metadata": {},
   "source": [
    "This is very likely an input mistake as it is the only occasion when a game is played but not yet purchased by the user.  we will manually change purchase value to 1 in this case"
   ]
  },
  {
   "cell_type": "code",
   "execution_count": 5,
   "metadata": {},
   "outputs": [
    {
     "name": "stdout",
     "output_type": "stream",
     "text": [
      "<class 'pandas.core.frame.DataFrame'>\n",
      "Int64Index: 129535 entries, 41879 to 83172\n",
      "Data columns (total 5 columns):\n",
      "userId      129535 non-null int64\n",
      "gameName    129535 non-null object\n",
      "purchase    129535 non-null float64\n",
      "play        70785 non-null float64\n",
      "Actions     70785 non-null float64\n",
      "dtypes: float64(3), int64(1), object(1)\n",
      "memory usage: 10.9+ MB\n"
     ]
    }
   ],
   "source": [
    "reindex_result.loc[129534,'purchase'] = 1\n",
    "reindex_result.info()"
   ]
  },
  {
   "cell_type": "markdown",
   "metadata": {},
   "source": [
    "now we have finish the basic data cleaning.  We could take a deeper look into the data and start some advanced data training to prepare for our recommender system"
   ]
  },
  {
   "cell_type": "code",
   "execution_count": 6,
   "metadata": {},
   "outputs": [],
   "source": [
    "data_copy = reindex_result"
   ]
  },
  {
   "cell_type": "markdown",
   "metadata": {},
   "source": [
    " Again, we can easily get basic information about the data in each column "
   ]
  },
  {
   "cell_type": "code",
   "execution_count": 7,
   "metadata": {},
   "outputs": [
    {
     "data": {
      "text/html": [
       "<div>\n",
       "<style scoped>\n",
       "    .dataframe tbody tr th:only-of-type {\n",
       "        vertical-align: middle;\n",
       "    }\n",
       "\n",
       "    .dataframe tbody tr th {\n",
       "        vertical-align: top;\n",
       "    }\n",
       "\n",
       "    .dataframe thead th {\n",
       "        text-align: right;\n",
       "    }\n",
       "</style>\n",
       "<table border=\"1\" class=\"dataframe\">\n",
       "  <thead>\n",
       "    <tr style=\"text-align: right;\">\n",
       "      <th></th>\n",
       "      <th>userId</th>\n",
       "      <th>purchase</th>\n",
       "      <th>play</th>\n",
       "      <th>Actions</th>\n",
       "    </tr>\n",
       "  </thead>\n",
       "  <tbody>\n",
       "    <tr>\n",
       "      <th>count</th>\n",
       "      <td>1.295350e+05</td>\n",
       "      <td>129535.0</td>\n",
       "      <td>70785.0</td>\n",
       "      <td>70785.000000</td>\n",
       "    </tr>\n",
       "    <tr>\n",
       "      <th>mean</th>\n",
       "      <td>1.024410e+08</td>\n",
       "      <td>1.0</td>\n",
       "      <td>1.0</td>\n",
       "      <td>48.770761</td>\n",
       "    </tr>\n",
       "    <tr>\n",
       "      <th>std</th>\n",
       "      <td>7.236206e+07</td>\n",
       "      <td>0.0</td>\n",
       "      <td>0.0</td>\n",
       "      <td>228.927258</td>\n",
       "    </tr>\n",
       "    <tr>\n",
       "      <th>min</th>\n",
       "      <td>5.250000e+03</td>\n",
       "      <td>1.0</td>\n",
       "      <td>1.0</td>\n",
       "      <td>0.100000</td>\n",
       "    </tr>\n",
       "    <tr>\n",
       "      <th>25%</th>\n",
       "      <td>4.548346e+07</td>\n",
       "      <td>1.0</td>\n",
       "      <td>1.0</td>\n",
       "      <td>1.000000</td>\n",
       "    </tr>\n",
       "    <tr>\n",
       "      <th>50%</th>\n",
       "      <td>8.605570e+07</td>\n",
       "      <td>1.0</td>\n",
       "      <td>1.0</td>\n",
       "      <td>4.500000</td>\n",
       "    </tr>\n",
       "    <tr>\n",
       "      <th>75%</th>\n",
       "      <td>1.542307e+08</td>\n",
       "      <td>1.0</td>\n",
       "      <td>1.0</td>\n",
       "      <td>19.100000</td>\n",
       "    </tr>\n",
       "    <tr>\n",
       "      <th>max</th>\n",
       "      <td>3.099031e+08</td>\n",
       "      <td>1.0</td>\n",
       "      <td>1.0</td>\n",
       "      <td>11754.000000</td>\n",
       "    </tr>\n",
       "  </tbody>\n",
       "</table>\n",
       "</div>"
      ],
      "text/plain": [
       "             userId  purchase     play       Actions\n",
       "count  1.295350e+05  129535.0  70785.0  70785.000000\n",
       "mean   1.024410e+08       1.0      1.0     48.770761\n",
       "std    7.236206e+07       0.0      0.0    228.927258\n",
       "min    5.250000e+03       1.0      1.0      0.100000\n",
       "25%    4.548346e+07       1.0      1.0      1.000000\n",
       "50%    8.605570e+07       1.0      1.0      4.500000\n",
       "75%    1.542307e+08       1.0      1.0     19.100000\n",
       "max    3.099031e+08       1.0      1.0  11754.000000"
      ]
     },
     "execution_count": 7,
     "metadata": {},
     "output_type": "execute_result"
    }
   ],
   "source": [
    "data_copy.describe()"
   ]
  },
  {
   "cell_type": "markdown",
   "metadata": {},
   "source": [
    "### Some obervations\n",
    "\n",
    "Above summary shows that ```purchase``` has only a single value 1.0. We will **not** include purchase status in building our recommender, for two reasons:\n",
    "1. number of hours played is more interesting to look at - it is an implicit feedback of the user's preference for games he/she has purchased\n",
    "2. if using [Jaccard similarity](https://apple.github.io/turicreate/docs/api/generated/turicreate.recommender.item_similarity_recommender.ItemSimilarityRecommender.html) when measuring the similarity between two sets of elements, the number of hours played are treated as binary purchase status (1/0)\n",
    "\n",
    "For ```play``` column, the data is heavily skewed and has a large range. There are different ways to do normalization. Since we are going to use it to represent the user's ranking of preference within his / her own purchases, let's convert it to the percentage of hours each user spends on each game he / she owns. \n",
    "\n",
    "But before doing that, notice there are 128804 purchase records and only 70489 play records, meaning some users bought certain games but never played them. We need to find a score for those less-favoured games too. To differentiate them from the games that a user has never bought, we can impute the corresponding play fields with a small value less than the min 0.1, say 0.05. Then we can move on to calculate the percentage as planned."
   ]
  },
  {
   "cell_type": "code",
   "execution_count": 8,
   "metadata": {},
   "outputs": [],
   "source": [
    "data_copy.drop(\"purchase\", axis = 1, inplace = True)\n",
    "data_copy[\"Actions\"].fillna(0.05, inplace=True)\n",
    "data_copy[\"play\"].fillna(0, inplace=True)\n"
   ]
  },
  {
   "cell_type": "markdown",
   "metadata": {},
   "source": [
    "just in case there is duplicated row in the dataframe, we implement the following function to ensure that every row in our dataframe will be distinct"
   ]
  },
  {
   "cell_type": "code",
   "execution_count": 9,
   "metadata": {},
   "outputs": [],
   "source": [
    "#remove duplicates \n",
    "data_copy = data_copy.drop_duplicates(subset=None,keep=\"first\")"
   ]
  },
  {
   "cell_type": "markdown",
   "metadata": {},
   "source": [
    "besides, we could also have duplicated rows with the same userId and gameName appearing together. This might be some mistakes that happen during the data collection stage so that the hours has not been fully merged and accumulated. we wanna sum up the number of hours for the corrections"
   ]
  },
  {
   "cell_type": "code",
   "execution_count": 10,
   "metadata": {},
   "outputs": [
    {
     "name": "stdout",
     "output_type": "stream",
     "text": [
      "       userId                                      gameName  Actions\n",
      "0    28472068                          Grand Theft Auto III      0.5\n",
      "1    28472068                  Grand Theft Auto San Andreas      0.9\n",
      "2    28472068                    Grand Theft Auto Vice City      5.7\n",
      "3    33865373                   Sid Meier's Civilization IV    137.0\n",
      "4    50769696                  Grand Theft Auto San Andreas     14.0\n",
      "5    59925638                       Tom Clancy's H.A.W.X. 2      7.4\n",
      "6    71411882                          Grand Theft Auto III      1.3\n",
      "7    71510748                  Grand Theft Auto San Andreas      0.8\n",
      "8   118664413                  Grand Theft Auto San Andreas      2.1\n",
      "9   148362155                  Grand Theft Auto San Andreas     26.3\n",
      "10  176261926                   Sid Meier's Civilization IV     14.8\n",
      "11  176261926  Sid Meier's Civilization IV Beyond the Sword    564.4\n"
     ]
    },
    {
     "name": "stderr",
     "output_type": "stream",
     "text": [
      "/Library/Frameworks/Python.framework/Versions/3.6/lib/python3.6/site-packages/pandas/core/frame.py:5516: SettingWithCopyWarning: \n",
      "A value is trying to be set on a copy of a slice from a DataFrame.\n",
      "Try using .loc[row_indexer,col_indexer] = value instead\n",
      "\n",
      "See the caveats in the documentation: http://pandas.pydata.org/pandas-docs/stable/indexing.html#indexing-view-versus-copy\n",
      "  self[col] = expressions.where(mask, this, that)\n"
     ]
    }
   ],
   "source": [
    "dp = data_copy[data_copy.duplicated(subset=['userId','gameName'], keep=False)]\n",
    "dp = dp.groupby(['userId','gameName'], as_index=False)['Actions'].sum()\n",
    "print(dp)\n",
    "dp = dp.groupby(['userId','gameName'], as_index=False)['Actions'].sum()\n",
    "data_copy.update(dp)\n",
    "data_copy = data_copy.drop_duplicates(subset=['userId','gameName'],keep=\"first\")"
   ]
  },
  {
   "cell_type": "markdown",
   "metadata": {},
   "source": [
    "Save the dataframe for our popularity model"
   ]
  },
  {
   "cell_type": "code",
   "execution_count": 11,
   "metadata": {},
   "outputs": [],
   "source": [
    "data_copy.to_pickle('clean_steam_basic.pkl')"
   ]
  },
  {
   "cell_type": "markdown",
   "metadata": {},
   "source": [
    "We want to standarize our data before feed it into the item similarity collabrative filtering model, there are many ways of doing it. In this case, we replace actual hours played with percentage of hours on a game for each user"
   ]
  },
  {
   "cell_type": "code",
   "execution_count": 12,
   "metadata": {},
   "outputs": [],
   "source": [
    "d = data_copy.groupby('userId')['Actions'].apply(lambda x: x/ x.sum())\n",
    "data_copy.update(d)\n",
    "# convert userId to int\n",
    "data_copy['userId'] = data_copy['userId'].astype(int)"
   ]
  },
  {
   "cell_type": "markdown",
   "metadata": {},
   "source": [
    "### Before building the recommender, here is an optional step - indexing the game names with integers\n",
    "Based on doc of turicreate.recommender.create, the user ID and item ID columns can be either int or str, meaning that keeping the game title as is should be fine. Here let's do an extra step that indexes those strings with integers. (Maybe when we feel less lazy we can try spark.ml's recommender on it too.)\n",
    "\n",
    "However indexing is essential when you build models with Spark's machine learning libraries."
   ]
  },
  {
   "cell_type": "code",
   "execution_count": 13,
   "metadata": {},
   "outputs": [],
   "source": [
    "data_copy['gameId']= data_copy.gameName.astype('category').cat.codes"
   ]
  },
  {
   "cell_type": "markdown",
   "metadata": {},
   "source": [
    "### Output and save the dataframe"
   ]
  },
  {
   "cell_type": "code",
   "execution_count": 14,
   "metadata": {},
   "outputs": [],
   "source": [
    "data_copy.to_pickle('clean_steam_advanced.pkl')"
   ]
  },
  {
   "cell_type": "markdown",
   "metadata": {},
   "source": [
    "### we want to create a look up table for the gameName and gameId columns"
   ]
  },
  {
   "cell_type": "code",
   "execution_count": 15,
   "metadata": {},
   "outputs": [
    {
     "name": "stdout",
     "output_type": "stream",
     "text": [
      "<class 'pandas.core.frame.DataFrame'>\n",
      "Int64Index: 128792 entries, 41879 to 83172\n",
      "Data columns (total 5 columns):\n",
      "userId      128792 non-null int64\n",
      "gameName    128792 non-null object\n",
      "play        128792 non-null float64\n",
      "Actions     128792 non-null float64\n",
      "gameId      128792 non-null int16\n",
      "dtypes: float64(2), int16(1), int64(1), object(1)\n",
      "memory usage: 5.2+ MB\n"
     ]
    }
   ],
   "source": [
    "data_copy.info()"
   ]
  },
  {
   "cell_type": "code",
   "execution_count": 16,
   "metadata": {},
   "outputs": [],
   "source": [
    "game_map = data_copy[['gameName','gameId']].copy().drop_duplicates().sort_values(by=['gameId'])\n",
    "game_map.head()\n",
    "game_map.to_pickle('gameMap.pkl')\n",
    "export_csv = game_map.to_csv ('gameList.csv', index = None, header=True)"
   ]
  }
 ],
 "metadata": {
  "kernelspec": {
   "display_name": "Python 3",
   "language": "python",
   "name": "python3"
  },
  "language_info": {
   "codemirror_mode": {
    "name": "ipython",
    "version": 3
   },
   "file_extension": ".py",
   "mimetype": "text/x-python",
   "name": "python",
   "nbconvert_exporter": "python",
   "pygments_lexer": "ipython3",
   "version": "3.6.4"
  }
 },
 "nbformat": 4,
 "nbformat_minor": 2
}

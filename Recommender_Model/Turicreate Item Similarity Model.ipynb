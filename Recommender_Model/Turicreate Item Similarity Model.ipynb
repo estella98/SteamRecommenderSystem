{
 "cells": [
  {
   "cell_type": "code",
   "execution_count": 2,
   "metadata": {},
   "outputs": [],
   "source": [
    "import pandas as pd\n",
    "import numpy as np \n",
    "import matplotlib\n",
    "# import matplotlib.pyplot as plt \n",
    "import seaborn as sns\n",
    "import turicreate\n",
    "import sklearn as sk\n",
    "from sklearn.preprocessing import Imputer\n",
    "from sklearn.model_selection import train_test_split"
   ]
  },
  {
   "cell_type": "markdown",
   "metadata": {},
   "source": [
    "### Item - Item similarity model in Turicreate"
   ]
  },
  {
   "cell_type": "code",
   "execution_count": 3,
   "metadata": {},
   "outputs": [],
   "source": [
    "data_copy = pd.read_pickle(\"../Data_Cleaning/clean_steam_advanced.pkl\")\n",
    "game_map = pd.read_pickle(\"../Data_Cleaning/gameMap.pkl\")"
   ]
  },
  {
   "cell_type": "code",
   "execution_count": 4,
   "metadata": {},
   "outputs": [
    {
     "data": {
      "text/html": [
       "<div>\n",
       "<style scoped>\n",
       "    .dataframe tbody tr th:only-of-type {\n",
       "        vertical-align: middle;\n",
       "    }\n",
       "\n",
       "    .dataframe tbody tr th {\n",
       "        vertical-align: top;\n",
       "    }\n",
       "\n",
       "    .dataframe thead th {\n",
       "        text-align: right;\n",
       "    }\n",
       "</style>\n",
       "<table border=\"1\" class=\"dataframe\">\n",
       "  <thead>\n",
       "    <tr style=\"text-align: right;\">\n",
       "      <th></th>\n",
       "      <th>userId</th>\n",
       "      <th>gameName</th>\n",
       "      <th>play</th>\n",
       "      <th>Actions</th>\n",
       "      <th>gameId</th>\n",
       "    </tr>\n",
       "  </thead>\n",
       "  <tbody>\n",
       "    <tr>\n",
       "      <th>41879</th>\n",
       "      <td>5250</td>\n",
       "      <td>Portal 2</td>\n",
       "      <td>1.0</td>\n",
       "      <td>0.060110</td>\n",
       "      <td>3223</td>\n",
       "    </tr>\n",
       "    <tr>\n",
       "      <th>41877</th>\n",
       "      <td>5250</td>\n",
       "      <td>Cities Skylines</td>\n",
       "      <td>1.0</td>\n",
       "      <td>0.636464</td>\n",
       "      <td>852</td>\n",
       "    </tr>\n",
       "    <tr>\n",
       "      <th>41878</th>\n",
       "      <td>5250</td>\n",
       "      <td>Deus Ex Human Revolution</td>\n",
       "      <td>1.0</td>\n",
       "      <td>0.274033</td>\n",
       "      <td>1248</td>\n",
       "    </tr>\n",
       "    <tr>\n",
       "      <th>41880</th>\n",
       "      <td>5250</td>\n",
       "      <td>Alien Swarm</td>\n",
       "      <td>1.0</td>\n",
       "      <td>0.021657</td>\n",
       "      <td>227</td>\n",
       "    </tr>\n",
       "    <tr>\n",
       "      <th>41881</th>\n",
       "      <td>5250</td>\n",
       "      <td>Team Fortress 2</td>\n",
       "      <td>1.0</td>\n",
       "      <td>0.003536</td>\n",
       "      <td>4257</td>\n",
       "    </tr>\n",
       "  </tbody>\n",
       "</table>\n",
       "</div>"
      ],
      "text/plain": [
       "       userId                  gameName  play   Actions  gameId\n",
       "41879    5250                  Portal 2   1.0  0.060110    3223\n",
       "41877    5250           Cities Skylines   1.0  0.636464     852\n",
       "41878    5250  Deus Ex Human Revolution   1.0  0.274033    1248\n",
       "41880    5250               Alien Swarm   1.0  0.021657     227\n",
       "41881    5250           Team Fortress 2   1.0  0.003536    4257"
      ]
     },
     "execution_count": 4,
     "metadata": {},
     "output_type": "execute_result"
    }
   ],
   "source": [
    "data_copy.head()"
   ]
  },
  {
   "cell_type": "markdown",
   "metadata": {},
   "source": [
    "According to the documentation [here](https://apple.github.io/turicreate/docs/userguide/recommender/using-trained-models.html), turicreate excludes the items that are observed for each user. In order to test the accuracy of the model, it is important to split a proportion of user's data into train and test for validation. \n",
    "but for now, let us just feed all the data in to our model.\n",
    "\n",
    "There are 3 similarity measurements for similarity type - jaccard, cosine and pearson. In our case, We choose Pearson to measure the loss."
   ]
  },
  {
   "cell_type": "code",
   "execution_count": 5,
   "metadata": {},
   "outputs": [
    {
     "data": {
      "text/html": [
       "<pre>Warning: Ignoring columns gameName, play;</pre>"
      ],
      "text/plain": [
       "Warning: Ignoring columns gameName, play;"
      ]
     },
     "metadata": {},
     "output_type": "display_data"
    },
    {
     "data": {
      "text/html": [
       "<pre>    To use these columns in scoring predictions, use a model that allows the use of additional features.</pre>"
      ],
      "text/plain": [
       "    To use these columns in scoring predictions, use a model that allows the use of additional features."
      ]
     },
     "metadata": {},
     "output_type": "display_data"
    },
    {
     "data": {
      "text/html": [
       "<pre>Preparing data set.</pre>"
      ],
      "text/plain": [
       "Preparing data set."
      ]
     },
     "metadata": {},
     "output_type": "display_data"
    },
    {
     "data": {
      "text/html": [
       "<pre>    Data has 128792 observations with 12393 users and 5155 items.</pre>"
      ],
      "text/plain": [
       "    Data has 128792 observations with 12393 users and 5155 items."
      ]
     },
     "metadata": {},
     "output_type": "display_data"
    },
    {
     "data": {
      "text/html": [
       "<pre>    Data prepared in: 0.164861s</pre>"
      ],
      "text/plain": [
       "    Data prepared in: 0.164861s"
      ]
     },
     "metadata": {},
     "output_type": "display_data"
    },
    {
     "data": {
      "text/html": [
       "<pre>Training model from provided data.</pre>"
      ],
      "text/plain": [
       "Training model from provided data."
      ]
     },
     "metadata": {},
     "output_type": "display_data"
    },
    {
     "data": {
      "text/html": [
       "<pre>Gathering per-item and per-user statistics.</pre>"
      ],
      "text/plain": [
       "Gathering per-item and per-user statistics."
      ]
     },
     "metadata": {},
     "output_type": "display_data"
    },
    {
     "data": {
      "text/html": [
       "<pre>+--------------------------------+------------+</pre>"
      ],
      "text/plain": [
       "+--------------------------------+------------+"
      ]
     },
     "metadata": {},
     "output_type": "display_data"
    },
    {
     "data": {
      "text/html": [
       "<pre>| Elapsed Time (Item Statistics) | % Complete |</pre>"
      ],
      "text/plain": [
       "| Elapsed Time (Item Statistics) | % Complete |"
      ]
     },
     "metadata": {},
     "output_type": "display_data"
    },
    {
     "data": {
      "text/html": [
       "<pre>+--------------------------------+------------+</pre>"
      ],
      "text/plain": [
       "+--------------------------------+------------+"
      ]
     },
     "metadata": {},
     "output_type": "display_data"
    },
    {
     "data": {
      "text/html": [
       "<pre>| 3.478ms                        | 8          |</pre>"
      ],
      "text/plain": [
       "| 3.478ms                        | 8          |"
      ]
     },
     "metadata": {},
     "output_type": "display_data"
    },
    {
     "data": {
      "text/html": [
       "<pre>| 16.987ms                       | 100        |</pre>"
      ],
      "text/plain": [
       "| 16.987ms                       | 100        |"
      ]
     },
     "metadata": {},
     "output_type": "display_data"
    },
    {
     "data": {
      "text/html": [
       "<pre>+--------------------------------+------------+</pre>"
      ],
      "text/plain": [
       "+--------------------------------+------------+"
      ]
     },
     "metadata": {},
     "output_type": "display_data"
    },
    {
     "data": {
      "text/html": [
       "<pre>Setting up lookup tables.</pre>"
      ],
      "text/plain": [
       "Setting up lookup tables."
      ]
     },
     "metadata": {},
     "output_type": "display_data"
    },
    {
     "data": {
      "text/html": [
       "<pre>Processing data in one pass using dense lookup tables.</pre>"
      ],
      "text/plain": [
       "Processing data in one pass using dense lookup tables."
      ]
     },
     "metadata": {},
     "output_type": "display_data"
    },
    {
     "data": {
      "text/html": [
       "<pre>+-------------------------------------+------------------+-----------------+</pre>"
      ],
      "text/plain": [
       "+-------------------------------------+------------------+-----------------+"
      ]
     },
     "metadata": {},
     "output_type": "display_data"
    },
    {
     "data": {
      "text/html": [
       "<pre>| Elapsed Time (Constructing Lookups) | Total % Complete | Items Processed |</pre>"
      ],
      "text/plain": [
       "| Elapsed Time (Constructing Lookups) | Total % Complete | Items Processed |"
      ]
     },
     "metadata": {},
     "output_type": "display_data"
    },
    {
     "data": {
      "text/html": [
       "<pre>+-------------------------------------+------------------+-----------------+</pre>"
      ],
      "text/plain": [
       "+-------------------------------------+------------------+-----------------+"
      ]
     },
     "metadata": {},
     "output_type": "display_data"
    },
    {
     "data": {
      "text/html": [
       "<pre>| 80.236ms                            | 0                | 0               |</pre>"
      ],
      "text/plain": [
       "| 80.236ms                            | 0                | 0               |"
      ]
     },
     "metadata": {},
     "output_type": "display_data"
    },
    {
     "data": {
      "text/html": [
       "<pre>| 840.665ms                           | 100              | 5155            |</pre>"
      ],
      "text/plain": [
       "| 840.665ms                           | 100              | 5155            |"
      ]
     },
     "metadata": {},
     "output_type": "display_data"
    },
    {
     "data": {
      "text/html": [
       "<pre>+-------------------------------------+------------------+-----------------+</pre>"
      ],
      "text/plain": [
       "+-------------------------------------+------------------+-----------------+"
      ]
     },
     "metadata": {},
     "output_type": "display_data"
    },
    {
     "data": {
      "text/html": [
       "<pre>Finalizing lookup tables.</pre>"
      ],
      "text/plain": [
       "Finalizing lookup tables."
      ]
     },
     "metadata": {},
     "output_type": "display_data"
    },
    {
     "data": {
      "text/html": [
       "<pre>Generating candidate set for working with new users.</pre>"
      ],
      "text/plain": [
       "Generating candidate set for working with new users."
      ]
     },
     "metadata": {},
     "output_type": "display_data"
    },
    {
     "data": {
      "text/html": [
       "<pre>Finished training in 1.86367s</pre>"
      ],
      "text/plain": [
       "Finished training in 1.86367s"
      ]
     },
     "metadata": {},
     "output_type": "display_data"
    }
   ],
   "source": [
    "# create SFrame from DataFrame\n",
    "from turicreate import SFrame\n",
    "\n",
    "game_sf = SFrame(data=data_copy)\n",
    "\n",
    "item_item_reco = turicreate.recommender.item_similarity_recommender.create( \\\n",
    "    game_sf, user_id='userId', item_id='gameId', \\\n",
    "    target=\"Actions\", similarity_type='pearson')"
   ]
  },
  {
   "cell_type": "code",
   "execution_count": 6,
   "metadata": {},
   "outputs": [],
   "source": [
    "# Get the k most similar items for each item in items. Default number is 10.\n",
    "similar_games = item_item_reco.get_similar_items()"
   ]
  },
  {
   "cell_type": "markdown",
   "metadata": {},
   "source": [
    "now We have created the model. Turicreate provides a nice functionality for users to check the k most similar items of an input. We would like to expriment our model with a few sample inputs."
   ]
  },
  {
   "cell_type": "code",
   "execution_count": 7,
   "metadata": {},
   "outputs": [
    {
     "name": "stdout",
     "output_type": "stream",
     "text": [
      "+--------+-------------------------+---------+-------------------------------+\n",
      "| gameId |         gameName        | similar |          similar_game         |\n",
      "+--------+-------------------------+---------+-------------------------------+\n",
      "|  2072  | Half-Life 2 Episode One |   2070  |          Half-Life 2          |\n",
      "|  2072  | Half-Life 2 Episode One |   2077  |  Half-Life Deathmatch Source  |\n",
      "|  2072  | Half-Life 2 Episode One |   2073  |    Half-Life 2 Episode Two    |\n",
      "|  2072  | Half-Life 2 Episode One |   2074  |     Half-Life 2 Lost Coast    |\n",
      "|  2072  | Half-Life 2 Episode One |   3627  |       SEGA Bass Fishing       |\n",
      "|  2072  | Half-Life 2 Episode One |   1003  |           Crazy Taxi          |\n",
      "|  2072  | Half-Life 2 Episode One |   480   | Battlefield Bad Company 2 ... |\n",
      "|  2072  | Half-Life 2 Episode One |   3222  |             Portal            |\n",
      "|  2072  | Half-Life 2 Episode One |   1336  |             Dota 2            |\n",
      "|  2072  | Half-Life 2 Episode One |   2076  |      Half-Life Blue Shift     |\n",
      "+--------+-------------------------+---------+-------------------------------+\n",
      "+----------------------+------+\n",
      "|        score         | rank |\n",
      "+----------------------+------+\n",
      "| 0.12549066543579102  |  1   |\n",
      "| 0.11610662937164307  |  2   |\n",
      "| 0.09407681226730347  |  3   |\n",
      "| 0.07755649089813232  |  4   |\n",
      "| 0.07511734962463379  |  5   |\n",
      "| 0.06992805004119873  |  6   |\n",
      "| 0.05807262659072876  |  7   |\n",
      "| 0.055140018463134766 |  8   |\n",
      "| 0.04800492525100708  |  9   |\n",
      "| 0.04686927795410156  |  10  |\n",
      "+----------------------+------+\n",
      "[10 rows x 6 columns]\n",
      "\n"
     ]
    }
   ],
   "source": [
    "# for example to check some results\n",
    "game_map_sframe = turicreate.SFrame(game_map)\n",
    "similar_games_named = similar_games.join(game_map_sframe, on=\"gameId\", how=\"left\") \\\n",
    "    .join(game_map_sframe, on={\"similar\":\"gameId\"}, how=\"left\")\\\n",
    "    .rename({\"gameName.1\":\"similar_game\"}, True) \\\n",
    "    .select_columns([\"gameId\", \"gameName\", \"similar\", \"similar_game\", \"score\", \"rank\"])\n",
    "\n",
    "# print the result of one game for testing\n",
    "a =similar_games_named[similar_games_named['gameName']== \"Half-Life 2 Episode One\"]\n",
    "a.print_rows(num_rows=10, num_columns=6) "
   ]
  },
  {
   "cell_type": "code",
   "execution_count": 8,
   "metadata": {},
   "outputs": [
    {
     "name": "stdout",
     "output_type": "stream",
     "text": [
      "+--------+---------------+---------+-------------------------------+\n",
      "| gameId |    gameName   | similar |          similar_game         |\n",
      "+--------+---------------+---------+-------------------------------+\n",
      "|  3570  | Rocket League |   602   |           Bloons TD5          |\n",
      "|  3570  | Rocket League |   3564  | Robot Roller-Derby Disco D... |\n",
      "|  3570  | Rocket League |   1049  |           Cubemen 2           |\n",
      "|  3570  | Rocket League |   1718  |        Fight The Dragon       |\n",
      "|  3570  | Rocket League |   4305  |        The Banner Saga        |\n",
      "|  3570  | Rocket League |   3508  |     Retro City Rampage DX     |\n",
      "|  3570  | Rocket League |   3569  |          Rock of Ages         |\n",
      "|  3570  | Rocket League |   4656  |   Tony Hawk's Pro Skater HD   |\n",
      "|  3570  | Rocket League |   1938  | Glorkian Warrior The Trial... |\n",
      "|  3570  | Rocket League |   3809  | Shower With Your Dad Simul... |\n",
      "+--------+---------------+---------+-------------------------------+\n",
      "+---------------------+------+\n",
      "|        score        | rank |\n",
      "+---------------------+------+\n",
      "|  0.1632865071296692 |  1   |\n",
      "| 0.13244855403900146 |  2   |\n",
      "| 0.12068629264831543 |  3   |\n",
      "| 0.11624598503112793 |  4   |\n",
      "| 0.11081314086914062 |  5   |\n",
      "| 0.10843992233276367 |  6   |\n",
      "| 0.08459198474884033 |  7   |\n",
      "|  0.070903480052948  |  8   |\n",
      "| 0.06440675258636475 |  9   |\n",
      "| 0.05340045690536499 |  10  |\n",
      "+---------------------+------+\n",
      "[10 rows x 6 columns]\n",
      "\n"
     ]
    }
   ],
   "source": [
    "# print the result of one game for testing\n",
    "b =similar_games_named[similar_games_named['gameName']==  'Rocket League']\n",
    "b.print_rows(num_rows=10, num_columns=6) "
   ]
  },
  {
   "cell_type": "markdown",
   "metadata": {},
   "source": [
    "It seems the result we get is actually reasonable and impressive.  The model is able to find games in similar genres, and sometimes even the same game of other versions. This proves that our model we build is able to capture the relationships embedded behind the mappings of items and users."
   ]
  },
  {
   "cell_type": "markdown",
   "metadata": {},
   "source": [
    "### Let's pick a user and see what recommendations he / she gets:"
   ]
  },
  {
   "cell_type": "code",
   "execution_count": 8,
   "metadata": {},
   "outputs": [
    {
     "data": {
      "text/html": [
       "<pre>recommendations finished on 1000/12393 queries. users per second: 24624.5</pre>"
      ],
      "text/plain": [
       "recommendations finished on 1000/12393 queries. users per second: 24624.5"
      ]
     },
     "metadata": {},
     "output_type": "display_data"
    },
    {
     "data": {
      "text/html": [
       "<pre>recommendations finished on 2000/12393 queries. users per second: 23909.7</pre>"
      ],
      "text/plain": [
       "recommendations finished on 2000/12393 queries. users per second: 23909.7"
      ]
     },
     "metadata": {},
     "output_type": "display_data"
    },
    {
     "data": {
      "text/html": [
       "<pre>recommendations finished on 3000/12393 queries. users per second: 23264.5</pre>"
      ],
      "text/plain": [
       "recommendations finished on 3000/12393 queries. users per second: 23264.5"
      ]
     },
     "metadata": {},
     "output_type": "display_data"
    },
    {
     "data": {
      "text/html": [
       "<pre>recommendations finished on 4000/12393 queries. users per second: 21904.4</pre>"
      ],
      "text/plain": [
       "recommendations finished on 4000/12393 queries. users per second: 21904.4"
      ]
     },
     "metadata": {},
     "output_type": "display_data"
    },
    {
     "data": {
      "text/html": [
       "<pre>recommendations finished on 5000/12393 queries. users per second: 20778.1</pre>"
      ],
      "text/plain": [
       "recommendations finished on 5000/12393 queries. users per second: 20778.1"
      ]
     },
     "metadata": {},
     "output_type": "display_data"
    },
    {
     "data": {
      "text/html": [
       "<pre>recommendations finished on 6000/12393 queries. users per second: 19765.7</pre>"
      ],
      "text/plain": [
       "recommendations finished on 6000/12393 queries. users per second: 19765.7"
      ]
     },
     "metadata": {},
     "output_type": "display_data"
    },
    {
     "data": {
      "text/html": [
       "<pre>recommendations finished on 7000/12393 queries. users per second: 20035.5</pre>"
      ],
      "text/plain": [
       "recommendations finished on 7000/12393 queries. users per second: 20035.5"
      ]
     },
     "metadata": {},
     "output_type": "display_data"
    },
    {
     "data": {
      "text/html": [
       "<pre>recommendations finished on 8000/12393 queries. users per second: 19787</pre>"
      ],
      "text/plain": [
       "recommendations finished on 8000/12393 queries. users per second: 19787"
      ]
     },
     "metadata": {},
     "output_type": "display_data"
    },
    {
     "data": {
      "text/html": [
       "<pre>recommendations finished on 9000/12393 queries. users per second: 20324.7</pre>"
      ],
      "text/plain": [
       "recommendations finished on 9000/12393 queries. users per second: 20324.7"
      ]
     },
     "metadata": {},
     "output_type": "display_data"
    },
    {
     "data": {
      "text/html": [
       "<pre>recommendations finished on 10000/12393 queries. users per second: 19863.8</pre>"
      ],
      "text/plain": [
       "recommendations finished on 10000/12393 queries. users per second: 19863.8"
      ]
     },
     "metadata": {},
     "output_type": "display_data"
    },
    {
     "data": {
      "text/html": [
       "<pre>recommendations finished on 11000/12393 queries. users per second: 19769.4</pre>"
      ],
      "text/plain": [
       "recommendations finished on 11000/12393 queries. users per second: 19769.4"
      ]
     },
     "metadata": {},
     "output_type": "display_data"
    },
    {
     "data": {
      "text/html": [
       "<pre>recommendations finished on 12000/12393 queries. users per second: 19677.2</pre>"
      ],
      "text/plain": [
       "recommendations finished on 12000/12393 queries. users per second: 19677.2"
      ]
     },
     "metadata": {},
     "output_type": "display_data"
    },
    {
     "name": "stdout",
     "output_type": "stream",
     "text": [
      "+--------+--------+-------+------+--------------------------------+\n",
      "| userId | gameId | score | rank |            gameName            |\n",
      "+--------+--------+-------+------+--------------------------------+\n",
      "|  5250  |  2955  |  1.0  |  1   | Nobunaga's Ambition Souzou...  |\n",
      "|  5250  |  813   |  1.0  |  2   |   Championship Manager 2010    |\n",
      "|  5250  |  1271  |  1.0  |  3   |          Diaper Dash           |\n",
      "|  5250  |  4934  |  1.0  |  4   |     Warrior Kings Battles      |\n",
      "|  5250  |  4459  |  1.0  |  5   |       The Promised Land        |\n",
      "|  5250  |  838   |  1.0  |  6   |         Choplifter HD          |\n",
      "|  5250  |  3600  |  1.0  |  7   | Rugby League Team Manager 2015 |\n",
      "|  5250  |  1705  |  1.0  |  8   |    Fast & Furious Showdown     |\n",
      "|  5250  |  2306  |  1.0  |  9   |           Jack Keane           |\n",
      "|  5250  |  2265  |  1.0  |  10  |            Insane 2            |\n",
      "+--------+--------+-------+------+--------------------------------+\n",
      "[123930 rows x 5 columns]\n",
      "Note: Only the head of the SFrame is printed.\n",
      "You can use print_rows(num_rows=m, num_columns=n) to print more rows and columns.\n"
     ]
    }
   ],
   "source": [
    "rec_result = item_item_reco.recommend(diversity=1,random_seed=0).join(game_map_sframe, on=\"gameId\", how=\"left\")\n",
    "print (rec_result)"
   ]
  },
  {
   "cell_type": "markdown",
   "metadata": {},
   "source": []
  },
  {
   "cell_type": "markdown",
   "metadata": {},
   "source": [
    "### In order to better estimate the accuracy of our model, we decide to split the training and testing set, and use \"precision_recall\" as our metric. \n",
    "check [here](https://apple.github.io/turicreate/docs/api/generated/turicreate.recommender.item_similarity_recommender.ItemSimilarityRecommender.evaluate.html#turicreate.recommender.item_similarity_recommender.ItemSimilarityRecommender.evaluate) for more info."
   ]
  },
  {
   "cell_type": "code",
   "execution_count": 10,
   "metadata": {},
   "outputs": [],
   "source": [
    "game_sf2 = SFrame(data=data_copy)\n",
    "\n",
    "#The test dataset is generated by first choosing max_num_users out of the total number of users in dataset. Then, for each of the chosen test users, \n",
    "#a portion of the user’s items (determined by item_test_proportion) is randomly chosen to be included in the test set. \n",
    "#This split allows the training data to retain enough information about the users in the testset, so that adequate recommendations can be made. \n",
    "#The total number of users in the test set may be fewer than max_num_users if a user was chosen for the test set but none of their items are selected.\n",
    "\n",
    "train_sframe, test_sframe = turicreate.recommender.util.random_split_by_user(game_sf2, user_id=\"userId\", item_id=\"gameId\", max_num_users=500,item_test_proportion=0.2,random_seed = 0)"
   ]
  },
  {
   "cell_type": "code",
   "execution_count": 11,
   "metadata": {},
   "outputs": [
    {
     "data": {
      "text/html": [
       "<div>\n",
       "<style scoped>\n",
       "    .dataframe tbody tr th:only-of-type {\n",
       "        vertical-align: middle;\n",
       "    }\n",
       "\n",
       "    .dataframe tbody tr th {\n",
       "        vertical-align: top;\n",
       "    }\n",
       "\n",
       "    .dataframe thead th {\n",
       "        text-align: right;\n",
       "    }\n",
       "</style>\n",
       "<table border=\"1\" class=\"dataframe\">\n",
       "  <thead>\n",
       "    <tr style=\"text-align: right;\">\n",
       "      <th></th>\n",
       "      <th>userId</th>\n",
       "      <th>gameName</th>\n",
       "      <th>play</th>\n",
       "      <th>Actions</th>\n",
       "      <th>gameId</th>\n",
       "    </tr>\n",
       "  </thead>\n",
       "  <tbody>\n",
       "    <tr>\n",
       "      <th>41879</th>\n",
       "      <td>5250</td>\n",
       "      <td>Portal 2</td>\n",
       "      <td>1.0</td>\n",
       "      <td>0.060110</td>\n",
       "      <td>3223</td>\n",
       "    </tr>\n",
       "    <tr>\n",
       "      <th>41877</th>\n",
       "      <td>5250</td>\n",
       "      <td>Cities Skylines</td>\n",
       "      <td>1.0</td>\n",
       "      <td>0.636464</td>\n",
       "      <td>852</td>\n",
       "    </tr>\n",
       "    <tr>\n",
       "      <th>41878</th>\n",
       "      <td>5250</td>\n",
       "      <td>Deus Ex Human Revolution</td>\n",
       "      <td>1.0</td>\n",
       "      <td>0.274033</td>\n",
       "      <td>1248</td>\n",
       "    </tr>\n",
       "    <tr>\n",
       "      <th>41880</th>\n",
       "      <td>5250</td>\n",
       "      <td>Alien Swarm</td>\n",
       "      <td>1.0</td>\n",
       "      <td>0.021657</td>\n",
       "      <td>227</td>\n",
       "    </tr>\n",
       "    <tr>\n",
       "      <th>41881</th>\n",
       "      <td>5250</td>\n",
       "      <td>Team Fortress 2</td>\n",
       "      <td>1.0</td>\n",
       "      <td>0.003536</td>\n",
       "      <td>4257</td>\n",
       "    </tr>\n",
       "  </tbody>\n",
       "</table>\n",
       "</div>"
      ],
      "text/plain": [
       "       userId                  gameName  play   Actions  gameId\n",
       "41879    5250                  Portal 2   1.0  0.060110    3223\n",
       "41877    5250           Cities Skylines   1.0  0.636464     852\n",
       "41878    5250  Deus Ex Human Revolution   1.0  0.274033    1248\n",
       "41880    5250               Alien Swarm   1.0  0.021657     227\n",
       "41881    5250           Team Fortress 2   1.0  0.003536    4257"
      ]
     },
     "execution_count": 11,
     "metadata": {},
     "output_type": "execute_result"
    }
   ],
   "source": [
    "data_copy.head()"
   ]
  },
  {
   "cell_type": "code",
   "execution_count": 12,
   "metadata": {},
   "outputs": [
    {
     "data": {
      "text/html": [
       "<pre>Warning: Ignoring columns gameName, play;</pre>"
      ],
      "text/plain": [
       "Warning: Ignoring columns gameName, play;"
      ]
     },
     "metadata": {},
     "output_type": "display_data"
    },
    {
     "data": {
      "text/html": [
       "<pre>    To use these columns in scoring predictions, use a model that allows the use of additional features.</pre>"
      ],
      "text/plain": [
       "    To use these columns in scoring predictions, use a model that allows the use of additional features."
      ]
     },
     "metadata": {},
     "output_type": "display_data"
    },
    {
     "data": {
      "text/html": [
       "<pre>Preparing data set.</pre>"
      ],
      "text/plain": [
       "Preparing data set."
      ]
     },
     "metadata": {},
     "output_type": "display_data"
    },
    {
     "data": {
      "text/html": [
       "<pre>    Data has 127995 observations with 12347 users and 5149 items.</pre>"
      ],
      "text/plain": [
       "    Data has 127995 observations with 12347 users and 5149 items."
      ]
     },
     "metadata": {},
     "output_type": "display_data"
    },
    {
     "data": {
      "text/html": [
       "<pre>    Data prepared in: 0.201605s</pre>"
      ],
      "text/plain": [
       "    Data prepared in: 0.201605s"
      ]
     },
     "metadata": {},
     "output_type": "display_data"
    },
    {
     "data": {
      "text/html": [
       "<pre>Training model from provided data.</pre>"
      ],
      "text/plain": [
       "Training model from provided data."
      ]
     },
     "metadata": {},
     "output_type": "display_data"
    },
    {
     "data": {
      "text/html": [
       "<pre>Gathering per-item and per-user statistics.</pre>"
      ],
      "text/plain": [
       "Gathering per-item and per-user statistics."
      ]
     },
     "metadata": {},
     "output_type": "display_data"
    },
    {
     "data": {
      "text/html": [
       "<pre>+--------------------------------+------------+</pre>"
      ],
      "text/plain": [
       "+--------------------------------+------------+"
      ]
     },
     "metadata": {},
     "output_type": "display_data"
    },
    {
     "data": {
      "text/html": [
       "<pre>| Elapsed Time (Item Statistics) | % Complete |</pre>"
      ],
      "text/plain": [
       "| Elapsed Time (Item Statistics) | % Complete |"
      ]
     },
     "metadata": {},
     "output_type": "display_data"
    },
    {
     "data": {
      "text/html": [
       "<pre>+--------------------------------+------------+</pre>"
      ],
      "text/plain": [
       "+--------------------------------+------------+"
      ]
     },
     "metadata": {},
     "output_type": "display_data"
    },
    {
     "data": {
      "text/html": [
       "<pre>| 3.861ms                        | 8          |</pre>"
      ],
      "text/plain": [
       "| 3.861ms                        | 8          |"
      ]
     },
     "metadata": {},
     "output_type": "display_data"
    },
    {
     "data": {
      "text/html": [
       "<pre>| 32.296ms                       | 100        |</pre>"
      ],
      "text/plain": [
       "| 32.296ms                       | 100        |"
      ]
     },
     "metadata": {},
     "output_type": "display_data"
    },
    {
     "data": {
      "text/html": [
       "<pre>+--------------------------------+------------+</pre>"
      ],
      "text/plain": [
       "+--------------------------------+------------+"
      ]
     },
     "metadata": {},
     "output_type": "display_data"
    },
    {
     "data": {
      "text/html": [
       "<pre>Setting up lookup tables.</pre>"
      ],
      "text/plain": [
       "Setting up lookup tables."
      ]
     },
     "metadata": {},
     "output_type": "display_data"
    },
    {
     "data": {
      "text/html": [
       "<pre>Processing data in one pass using dense lookup tables.</pre>"
      ],
      "text/plain": [
       "Processing data in one pass using dense lookup tables."
      ]
     },
     "metadata": {},
     "output_type": "display_data"
    },
    {
     "data": {
      "text/html": [
       "<pre>+-------------------------------------+------------------+-----------------+</pre>"
      ],
      "text/plain": [
       "+-------------------------------------+------------------+-----------------+"
      ]
     },
     "metadata": {},
     "output_type": "display_data"
    },
    {
     "data": {
      "text/html": [
       "<pre>| Elapsed Time (Constructing Lookups) | Total % Complete | Items Processed |</pre>"
      ],
      "text/plain": [
       "| Elapsed Time (Constructing Lookups) | Total % Complete | Items Processed |"
      ]
     },
     "metadata": {},
     "output_type": "display_data"
    },
    {
     "data": {
      "text/html": [
       "<pre>+-------------------------------------+------------------+-----------------+</pre>"
      ],
      "text/plain": [
       "+-------------------------------------+------------------+-----------------+"
      ]
     },
     "metadata": {},
     "output_type": "display_data"
    },
    {
     "data": {
      "text/html": [
       "<pre>| 102.648ms                           | 0                | 0               |</pre>"
      ],
      "text/plain": [
       "| 102.648ms                           | 0                | 0               |"
      ]
     },
     "metadata": {},
     "output_type": "display_data"
    },
    {
     "data": {
      "text/html": [
       "<pre>| 673.173ms                           | 100              | 5149            |</pre>"
      ],
      "text/plain": [
       "| 673.173ms                           | 100              | 5149            |"
      ]
     },
     "metadata": {},
     "output_type": "display_data"
    },
    {
     "data": {
      "text/html": [
       "<pre>+-------------------------------------+------------------+-----------------+</pre>"
      ],
      "text/plain": [
       "+-------------------------------------+------------------+-----------------+"
      ]
     },
     "metadata": {},
     "output_type": "display_data"
    },
    {
     "data": {
      "text/html": [
       "<pre>Finalizing lookup tables.</pre>"
      ],
      "text/plain": [
       "Finalizing lookup tables."
      ]
     },
     "metadata": {},
     "output_type": "display_data"
    },
    {
     "data": {
      "text/html": [
       "<pre>Generating candidate set for working with new users.</pre>"
      ],
      "text/plain": [
       "Generating candidate set for working with new users."
      ]
     },
     "metadata": {},
     "output_type": "display_data"
    },
    {
     "data": {
      "text/html": [
       "<pre>Finished training in 0.700871s</pre>"
      ],
      "text/plain": [
       "Finished training in 0.700871s"
      ]
     },
     "metadata": {},
     "output_type": "display_data"
    },
    {
     "data": {
      "text/html": [
       "<pre>recommendations finished on 1000/12347 queries. users per second: 16311.1</pre>"
      ],
      "text/plain": [
       "recommendations finished on 1000/12347 queries. users per second: 16311.1"
      ]
     },
     "metadata": {},
     "output_type": "display_data"
    },
    {
     "data": {
      "text/html": [
       "<pre>recommendations finished on 2000/12347 queries. users per second: 13217.1</pre>"
      ],
      "text/plain": [
       "recommendations finished on 2000/12347 queries. users per second: 13217.1"
      ]
     },
     "metadata": {},
     "output_type": "display_data"
    },
    {
     "data": {
      "text/html": [
       "<pre>recommendations finished on 3000/12347 queries. users per second: 13803.2</pre>"
      ],
      "text/plain": [
       "recommendations finished on 3000/12347 queries. users per second: 13803.2"
      ]
     },
     "metadata": {},
     "output_type": "display_data"
    },
    {
     "data": {
      "text/html": [
       "<pre>recommendations finished on 4000/12347 queries. users per second: 14265.4</pre>"
      ],
      "text/plain": [
       "recommendations finished on 4000/12347 queries. users per second: 14265.4"
      ]
     },
     "metadata": {},
     "output_type": "display_data"
    },
    {
     "data": {
      "text/html": [
       "<pre>recommendations finished on 5000/12347 queries. users per second: 14471.3</pre>"
      ],
      "text/plain": [
       "recommendations finished on 5000/12347 queries. users per second: 14471.3"
      ]
     },
     "metadata": {},
     "output_type": "display_data"
    },
    {
     "data": {
      "text/html": [
       "<pre>recommendations finished on 6000/12347 queries. users per second: 14311.4</pre>"
      ],
      "text/plain": [
       "recommendations finished on 6000/12347 queries. users per second: 14311.4"
      ]
     },
     "metadata": {},
     "output_type": "display_data"
    },
    {
     "data": {
      "text/html": [
       "<pre>recommendations finished on 7000/12347 queries. users per second: 14373.7</pre>"
      ],
      "text/plain": [
       "recommendations finished on 7000/12347 queries. users per second: 14373.7"
      ]
     },
     "metadata": {},
     "output_type": "display_data"
    },
    {
     "data": {
      "text/html": [
       "<pre>recommendations finished on 8000/12347 queries. users per second: 14991.6</pre>"
      ],
      "text/plain": [
       "recommendations finished on 8000/12347 queries. users per second: 14991.6"
      ]
     },
     "metadata": {},
     "output_type": "display_data"
    },
    {
     "data": {
      "text/html": [
       "<pre>recommendations finished on 9000/12347 queries. users per second: 14806.9</pre>"
      ],
      "text/plain": [
       "recommendations finished on 9000/12347 queries. users per second: 14806.9"
      ]
     },
     "metadata": {},
     "output_type": "display_data"
    },
    {
     "data": {
      "text/html": [
       "<pre>recommendations finished on 10000/12347 queries. users per second: 15268.7</pre>"
      ],
      "text/plain": [
       "recommendations finished on 10000/12347 queries. users per second: 15268.7"
      ]
     },
     "metadata": {},
     "output_type": "display_data"
    },
    {
     "data": {
      "text/html": [
       "<pre>recommendations finished on 11000/12347 queries. users per second: 14382</pre>"
      ],
      "text/plain": [
       "recommendations finished on 11000/12347 queries. users per second: 14382"
      ]
     },
     "metadata": {},
     "output_type": "display_data"
    },
    {
     "data": {
      "text/html": [
       "<pre>recommendations finished on 12000/12347 queries. users per second: 13202.8</pre>"
      ],
      "text/plain": [
       "recommendations finished on 12000/12347 queries. users per second: 13202.8"
      ]
     },
     "metadata": {},
     "output_type": "display_data"
    }
   ],
   "source": [
    "item_item_reco = turicreate.recommender.item_similarity_recommender.create( \\\n",
    "    train_sframe, user_id='userId', item_id='gameId', \\\n",
    "    target=\"Actions\", similarity_type='pearson')\n",
    "rec = item_item_reco.recommend(k= 50)\n",
    "rec = rec.join(game_map_sframe, on=\"gameId\", how=\"left\") \n",
    "from turicreate.toolkits.recommender.util import precision_recall_by_user\n",
    "result = precision_recall_by_user(test_sframe, rec[ [\"userId\", \"gameId\"] ] )"
   ]
  },
  {
   "cell_type": "code",
   "execution_count": 13,
   "metadata": {},
   "outputs": [
    {
     "name": "stdout",
     "output_type": "stream",
     "text": [
      "+---------+--------+-----------+--------+-------+\n",
      "|  userId | cutoff | precision | recall | count |\n",
      "+---------+--------+-----------+--------+-------+\n",
      "|   5250  |   10   |    0.0    |  1.0   |   0   |\n",
      "|  76767  |   10   |    0.0    |  1.0   |   0   |\n",
      "|  86540  |   10   |    0.0    |  1.0   |   0   |\n",
      "|  103360 |   10   |    0.0    |  1.0   |   0   |\n",
      "|  144736 |   10   |    0.0    |  1.0   |   0   |\n",
      "|  181212 |   10   |    0.0    |  1.0   |   0   |\n",
      "|  229911 |   10   |    0.0    |  1.0   |   0   |\n",
      "|  298950 |   10   |    0.0    |  1.0   |   0   |\n",
      "|  299153 |   10   |    0.0    |  1.0   |   0   |\n",
      "|  381543 |   10   |    0.0    |  1.0   |   0   |\n",
      "|  547685 |   10   |    0.0    |  1.0   |   0   |\n",
      "|  554278 |   10   |    0.0    |  1.0   |   0   |\n",
      "|  561758 |   10   |    0.0    |  1.0   |   0   |\n",
      "|  577614 |   10   |    0.0    |  1.0   |   0   |\n",
      "|  604988 |   10   |    0.0    |  1.0   |   0   |\n",
      "|  622362 |   10   |    0.0    |  1.0   |   0   |\n",
      "|  635733 |   10   |    0.0    |  1.0   |   0   |\n",
      "|  683019 |   10   |    0.0    |  1.0   |   0   |\n",
      "|  714122 |   10   |    0.0    |  1.0   |   0   |\n",
      "|  748719 |   10   |    0.0    |  1.0   |   0   |\n",
      "|  835015 |   10   |    0.0    |  1.0   |   0   |\n",
      "|  861238 |   10   |    0.0    |  1.0   |   0   |\n",
      "|  871990 |   10   |    0.0    |  1.0   |   0   |\n",
      "|  937567 |   10   |    0.0    |  1.0   |   0   |\n",
      "|  948368 |   10   |    0.0    |  1.0   |   0   |\n",
      "|  975449 |   10   |    0.0    |  1.0   |   0   |\n",
      "|  976129 |   10   |    0.0    |  1.0   |   0   |\n",
      "|  983600 |   10   |    0.0    |  1.0   |   0   |\n",
      "|  994489 |   10   |    0.0    |  1.0   |   0   |\n",
      "| 1006880 |   10   |    0.0    |  1.0   |   0   |\n",
      "| 1024319 |   10   |    0.0    |  0.0   |   1   |\n",
      "| 1072465 |   10   |    0.0    |  1.0   |   0   |\n",
      "| 1129452 |   10   |    0.0    |  1.0   |   0   |\n",
      "| 1135775 |   10   |    0.0    |  1.0   |   0   |\n",
      "| 1268792 |   10   |    0.0    |  1.0   |   0   |\n",
      "| 1364546 |   10   |    0.0    |  0.0   |   1   |\n",
      "| 1423371 |   10   |    0.0    |  1.0   |   0   |\n",
      "| 1601069 |   10   |    0.0    |  1.0   |   0   |\n",
      "| 1601773 |   10   |    0.0    |  1.0   |   0   |\n",
      "| 1603625 |   10   |    0.0    |  1.0   |   0   |\n",
      "| 1612666 |   10   |    0.0    |  1.0   |   0   |\n",
      "| 1665511 |   10   |    0.0    |  1.0   |   0   |\n",
      "| 1699101 |   10   |    0.0    |  1.0   |   0   |\n",
      "| 1713646 |   10   |    0.0    |  1.0   |   0   |\n",
      "| 1834453 |   10   |    0.0    |  1.0   |   0   |\n",
      "| 1851828 |   10   |    0.0    |  1.0   |   0   |\n",
      "| 1936551 |   10   |    0.0    |  1.0   |   0   |\n",
      "| 1950243 |   10   |    0.0    |  1.0   |   0   |\n",
      "| 1971801 |   10   |    0.0    |  1.0   |   0   |\n",
      "| 2039434 |   10   |    0.0    |  1.0   |   0   |\n",
      "+---------+--------+-----------+--------+-------+\n",
      "[12393 rows x 5 columns]\n",
      "\n"
     ]
    }
   ],
   "source": [
    "result.print_rows(num_rows=50, num_columns=5)"
   ]
  },
  {
   "cell_type": "code",
   "execution_count": 14,
   "metadata": {},
   "outputs": [
    {
     "name": "stdout",
     "output_type": "stream",
     "text": [
      "+---------+--------+--------------------------------+--------------------+\n",
      "|  userId | gameId |            gameName            |       score        |\n",
      "+---------+--------+--------------------------------+--------------------+\n",
      "| 8585433 |  3848  |         SimpleRockets          |        1.0         |\n",
      "| 8585433 |  4042  |      Stargate Resistance       |        1.0         |\n",
      "| 8585433 |  831   |       Chip's Challenge 2       |        1.0         |\n",
      "| 8585433 |  2265  |            Insane 2            |        1.0         |\n",
      "| 8585433 |  4459  |       The Promised Land        |        1.0         |\n",
      "| 8585433 |  1705  |    Fast & Furious Showdown     |        1.0         |\n",
      "| 8585433 |  1271  |          Diaper Dash           |        1.0         |\n",
      "| 8585433 |  3364  |            RECYCLE             |        1.0         |\n",
      "| 8585433 |  5061  |          Xpand Rally           |        1.0         |\n",
      "| 8585433 |  1607  |        FIFA Manager 10         |        1.0         |\n",
      "| 8585433 |  1324  |     Don Bradman Cricket 14     |        1.0         |\n",
      "| 8585433 |  838   |         Choplifter HD          |        1.0         |\n",
      "| 8585433 |  2306  |           Jack Keane           |        1.0         |\n",
      "| 8585433 |  3533  |     Ride! Carnival Tycoon      |        1.0         |\n",
      "| 8585433 |  2955  | Nobunaga's Ambition Souzou...  |        1.0         |\n",
      "| 8585433 |  1837  |         Funk of Titans         |        1.0         |\n",
      "| 8585433 |  813   |   Championship Manager 2010    |        1.0         |\n",
      "| 8585433 |  4982  |      Winning Post 8 2015       |        1.0         |\n",
      "| 8585433 |  4746  | TyranoBuilder Visual Novel...  |        1.0         |\n",
      "| 8585433 |  3600  | Rugby League Team Manager 2015 |        1.0         |\n",
      "| 8585433 |  4934  |     Warrior Kings Battles      |        1.0         |\n",
      "| 8585433 |  2862  | NOBUNAGA'S AMBITION Kakush...  | 0.975877192982456  |\n",
      "| 8585433 |  1458  |    Eastside Hockey Manager     | 0.9458077709611452 |\n",
      "| 8585433 |  4013  |    Star Traders 4X Empires     | 0.9385474860335195 |\n",
      "| 8585433 |  3609  |        Runestone Keeper        | 0.9222188130095555 |\n",
      "| 8585433 |  2763  |           Monochroma           |        0.75        |\n",
      "| 8585433 |  2662  |     Maszyny Rolnicze 2015      |        0.75        |\n",
      "| 8585433 |  714   |  Cabela's Hunting Expeditions  |        0.7         |\n",
      "| 8585433 |  2535  | London 2012 The Official V...  | 0.6965559095736611 |\n",
      "| 8585433 |  4622  | Tom Clancy's Ghost Recon P...  | 0.6667509503412717 |\n",
      "| 8585433 |  4015  |        Star Trek D-A-C         | 0.666675621073895  |\n",
      "| 8585433 |  3275  |    Professional Farmer 2014    | 0.6611773333780637 |\n",
      "| 8585433 |  2853  |            NBA 2K9             | 0.6434081126483496 |\n",
      "| 8585433 |  1402  |      Duke Nukem Forever        | 0.6135838649611918 |\n",
      "| 8585433 |  3975  |     Speedball 2 Tournament     | 0.5606446073355149 |\n",
      "| 8585433 |  1759  |     Football Manager 2009      | 0.5518414979004002 |\n",
      "| 8585433 |  3271  |   Pro Evolution Soccer 2015    | 0.5511996114499239 |\n",
      "| 8585433 |  1762  |     Football Manager 2012      | 0.5410009645469108 |\n",
      "| 8585433 |  1760  |     Football Manager 2010      | 0.5375316107159375 |\n",
      "| 8585433 |  5063  |      YOU DON'T KNOW JACK       | 0.5248380129589633 |\n",
      "| 8585433 |  1597  |            F1 2012             | 0.518726824896631  |\n",
      "| 8585433 |  1763  |     Football Manager 2013      | 0.5132310527083283 |\n",
      "| 8585433 |  4301  |     The Amazing Spider-Man     | 0.5077618262657768 |\n",
      "| 8585433 |  4870  |             WRC 5              | 0.5009605309116312 |\n",
      "| 8585433 |  1843  |        GEARCRACK Arena         | 0.5007095031457086 |\n",
      "| 8585433 |  4926  | Warhammer Online Age of Re...  | 0.5006705924685572 |\n",
      "| 8585433 |  120   | Afterfall InSanity - Dirty...  | 0.5003039167268168 |\n",
      "| 8585433 |  1755  | Flower Shop Winter In Fair...  | 0.500252029270158  |\n",
      "| 8585433 |  2317  |   Jagged Alliance Flashback    | 0.5000940753012598 |\n",
      "| 8585433 |  3265  | Pro Cycling Manager Season...  | 0.5000090702947846 |\n",
      "+---------+--------+--------------------------------+--------------------+\n",
      "[50 rows x 4 columns]\n",
      "\n"
     ]
    }
   ],
   "source": [
    "#look at the data of user 858433 in recommendation\n",
    "\n",
    "# Filtering\n",
    "filter_sf =rec[(rec['userId']== 8585433 )] \n",
    "\n",
    "# Displaying\n",
    "(filter_sf[['userId','gameId','gameName','score']]). print_rows(num_rows=50, num_columns=4)"
   ]
  },
  {
   "cell_type": "code",
   "execution_count": 15,
   "metadata": {},
   "outputs": [
    {
     "name": "stdout",
     "output_type": "stream",
     "text": [
      "+---------+-------------------------------+--------+------------------------+\n",
      "|  userId |            gameName           | gameId |        Actions         |\n",
      "+---------+-------------------------------+--------+------------------------+\n",
      "| 8585433 |             VVVVVV            |  4797  | 0.0009546376638652595  |\n",
      "| 8585433 |         Super Meat Boy        |  4146  | 0.00017047101140451064 |\n",
      "| 8585433 | Sang-Froid - Tales of Were... |  3696  | 0.00022161231482586383 |\n",
      "| 8585433 |    Ori and the Blind Forest   |  3034  |  0.001636521709483302  |\n",
      "| 8585433 | Rising Storm/Red Orchestra... |  3553  | 8.523550570225532e-06  |\n",
      "| 8585433 |             Saira             |  3662  | 8.523550570225532e-06  |\n",
      "| 8585433 |  The Walking Dead Season Two  |  4517  | 0.0014490035969383403  |\n",
      "| 8585433 |       Shadowrun Returns       |  3772  | 8.523550570225532e-06  |\n",
      "| 8585433 |            Distance           |  1294  | 0.00011932970798315743 |\n",
      "| 8585433 |         Mirror's Edge         |  2748  | 0.0008523550570225531  |\n",
      "| 8585433 |    Crysis 2 Maximum Edition   |  1039  | 0.0001363768091236085  |\n",
      "| 8585433 |         SteamWorld Dig        |  4065  | 0.0004091304273708255  |\n",
      "| 8585433 | Never Alone (Kisima Ingitc... |  2921  | 0.0003920833262303744  |\n",
      "| 8585433 | The Misadventures of P.B. ... |  4439  | 0.0001363768091236085  |\n",
      "| 8585433 |         Secret Ponchos        |  3727  | 0.00015342391026405957 |\n",
      "| 8585433 |            Spelunky           |  3982  |  0.000818260854741651  |\n",
      "| 8585433 |     Euro Truck Simulator 2    |  1552  | 0.00022161231482586383 |\n",
      "| 8585433 |       Tabletop Simulator      |  4229  | 8.523550570225532e-06  |\n",
      "| 8585433 | Sword of the Stars The Pit... |  4182  | 8.523550570225532e-06  |\n",
      "| 8585433 |       Surgeon Simulator       |  4166  | 8.523550570225532e-06  |\n",
      "| 8585433 |      Starbound - Unstable     |  4039  | 8.523550570225532e-06  |\n",
      "+---------+-------------------------------+--------+------------------------+\n",
      "[64 rows x 4 columns]\n",
      "\n"
     ]
    }
   ],
   "source": [
    "# Filtering\n",
    "test_sf = test_sframe[(test_sframe['userId']==   8585433 )] \n",
    "# Displaying\n",
    "test_sf.materialize()\n",
    "(test_sf[['userId', 'gameName', 'gameId','Actions']]). print_rows(num_rows=21, num_columns=4)"
   ]
  },
  {
   "cell_type": "code",
   "execution_count": 16,
   "metadata": {},
   "outputs": [
    {
     "name": "stdout",
     "output_type": "stream",
     "text": [
      "+---------+-------------------------------+--------+------------------------+\n",
      "|  userId |            gameName           | gameId |        Actions         |\n",
      "+---------+-------------------------------+--------+------------------------+\n",
      "| 8585433 |          Cave Story+          |  807   | 0.00022161231482586383 |\n",
      "| 8585433 |           Black Ice           |  535   | 0.0001875181125449617  |\n",
      "| 8585433 |            Hacknet            |  2064  | 0.0010569202707079658  |\n",
      "| 8585433 |     FTL Faster Than Light     |  1635  | 0.0009716847650057106  |\n",
      "| 8585433 |      Monday Night Combat      |  2761  | 0.0009716847650057106  |\n",
      "| 8585433 |           Gauntlet            |  1900  | 0.0009375905627248085  |\n",
      "| 8585433 |       Quest of Dungeons       |  3345  | 0.0001875181125449617  |\n",
      "| 8585433 |      Dungeon Defenders II     |  1407  | 0.0011421557764102212  |\n",
      "| 8585433 |            Ricochet           |  3531  | 8.523550570225532e-06  |\n",
      "| 8585433 |          Left 4 Dead          |  2474  | 0.0021649818448372846  |\n",
      "| 8585433 | The Typing of The Dead Ove... |  4507  | 0.00017047101140451064 |\n",
      "| 8585433 | Defender's Quest Valley of... |  1188  |  0.001619474608342851  |\n",
      "| 8585433 |        This War of Mine       |  4551  |  0.001619474608342851  |\n",
      "| 8585433 |         Rocket League         |  3570  | 8.523550570225532e-06  |\n",
      "| 8585433 |          Saints Row 2         |  3656  | 8.523550570225532e-06  |\n",
      "| 8585433 |      Saints Row The Third     |  3660  | 8.523550570225532e-06  |\n",
      "| 8585433 |         Saints Row IV         |  3658  | 8.523550570225532e-06  |\n",
      "| 8585433 |        Cities Skylines        |  852   | 0.0016024275072023999  |\n",
      "| 8585433 |       The Wolf Among Us       |  4529  | 0.0014319564957978894  |\n",
      "| 8585433 |           Audiosurf           |  379   |  0.001380815192376536  |\n",
      "| 8585433 |         Hotline Miami         |  2185  | 0.0012955796866742806  |\n",
      "| 8585433 |         Shadowgrounds         |  3767  | 8.523550570225532e-06  |\n",
      "| 8585433 |       Shattered Horizon       |  3786  | 8.523550570225532e-06  |\n",
      "| 8585433 |       XCOM Enemy Unknown      |  5053  | 0.0012785325855338297  |\n",
      "| 8585433 | Warhammer 40,000 Dawn of W... |  4914  | 0.0011421557764102212  |\n",
      "| 8585433 | Robot Roller-Derby Disco D... |  3564  | 0.0010569202707079658  |\n",
      "| 8585433 |   The Elder Scrolls V Skyrim  |  4364  | 0.00017047101140451064 |\n",
      "| 8585433 |          Dungeonland          |  1419  | 0.00032389492166857016 |\n",
      "| 8585433 |            The Ship           |  4480  | 0.00015342391026405957 |\n",
      "| 8585433 |            Sanctum            |  3693  | 0.00011932970798315743 |\n",
      "| 8585433 | RollerCoaster Tycoon 3 Pla... |  3584  | 8.523550570225532e-05  |\n",
      "| 8585433 |            Terraria           |  4276  | 6.818840456180426e-05  |\n",
      "| 8585433 |      Day of Defeat Source     |  1132  | 6.818840456180426e-05  |\n",
      "| 8585433 |     Firefly Online Cortex     |  1733  | 5.1141303421353185e-05 |\n",
      "| 8585433 |         Clicker Heroes        |  873   | 5.1141303421353185e-05 |\n",
      "+---------+-------------------------------+--------+------------------------+\n",
      "[252 rows x 4 columns]\n",
      "\n"
     ]
    }
   ],
   "source": [
    "# Filtering\n",
    "train_sf = train_sframe[(train_sframe['userId']==   8585433  )] \n",
    "# Displaying\n",
    "train_sf.materialize()\n",
    "(train_sf[['userId', 'gameName', 'gameId','Actions']]). print_rows(num_rows=35, num_columns=4)"
   ]
  },
  {
   "cell_type": "code",
   "execution_count": 14,
   "metadata": {},
   "outputs": [
    {
     "name": "stdout",
     "output_type": "stream",
     "text": [
      "+---------+-------------------------------+--------+-----------------------+\n",
      "|  userId |            gameName           | gameId |        Actions        |\n",
      "+---------+-------------------------------+--------+-----------------------+\n",
      "| 8542204 |             Dota 2            |  1336  |   0.4533473906167634  |\n",
      "| 8542204 |           Dead Space          |  1152  | 0.0010542962572482868 |\n",
      "| 8542204 |           Metro 2033          |  2712  |  0.001405728342997716 |\n",
      "| 8542204 |      Natural Selection 2      |  2901  |  0.001405728342997716 |\n",
      "| 8542204 |   Call of Duty Black Ops II   |  730   | 0.0017571604287471448 |\n",
      "| 8542204 |         Left 4 Dead 2         |  2475  | 0.0017571604287471448 |\n",
      "| 8542204 | Microsoft Flight Simulator... |  2721  |  0.000702864171498858 |\n",
      "| 8542204 | Call of Duty Advanced Warfare |  724   | 0.0001757160428747145 |\n",
      "| 8542204 |             Arma 2            |  322   |  0.000702864171498858 |\n",
      "| 8542204 |   Arma 2 Operation Arrowhead  |  326   |  0.000351432085749429 |\n",
      "| 8542204 | The Witcher 2 Assassins of... |  4522  | 0.0021085925144965737 |\n",
      "| 8542204 |            Defiance           |  1198  | 0.0001757160428747145 |\n",
      "| 8542204 | Arma 2 Operation Arrowhead... |  327   | 0.0001757160428747145 |\n",
      "| 8542204 | Call of Duty Black Ops II ... |  732   | 0.0001757160428747145 |\n",
      "| 8542204 |          Half-Life 2          |  2070  | 0.0001757160428747145 |\n",
      "| 8542204 |     Half-Life 2 Deathmatch    |  2071  | 0.0001757160428747145 |\n",
      "| 8542204 |     Half-Life 2 Lost Coast    |  2074  | 0.0001757160428747145 |\n",
      "| 8542204 |         Star Conflict         |  4009  | 0.0001757160428747145 |\n",
      "| 8542204 |  The Witcher Enhanced Edition |  4527  | 0.0001757160428747145 |\n",
      "| 8542204 |    Crysis 2 Maximum Edition   |  1039  | 0.0024600246002460025 |\n",
      "| 8542204 | Burnout Paradise The Ultim... |  684   |  0.002811456685995432 |\n",
      "| 8542204 | Counter-Strike Global Offe... |  981   |  0.024600246002460028 |\n",
      "| 8542204 |         DiRT Showdown         |  1269  |  0.04674046740467406  |\n",
      "| 8542204 |       Grand Theft Auto V      |  1978  |   0.0460376032331752  |\n",
      "| 8542204 | Call of Duty Black Ops II ... |  731   |  0.042523282375680906 |\n",
      "| 8542204 |             Portal            |  3222  |  0.041468986118432624 |\n",
      "| 8542204 |  The Binding of Isaac Rebirth |  4314  |  0.002811456685995432 |\n",
      "| 8542204 |         Borderlands 2         |  619   |  0.015111579687225445 |\n",
      "| 8542204 |         Little Inferno        |  2529  |  0.00984009840098401  |\n",
      "| 8542204 |   Sid Meier's Civilization V  |  3825  |  0.060797750834651214 |\n",
      "| 8542204 |            The Crew           |  4343  |  0.008434370057986295 |\n",
      "| 8542204 | Call of Duty Black Ops - M... |  727   |  0.07380073800738009  |\n",
      "| 8542204 |     Call of Duty Black Ops    |  726   |  0.007380073800738009 |\n",
      "| 8542204 |         Goat Simulator        |  1943  |  0.006325777543489721 |\n",
      "| 8542204 |            Portal 2           |  3223  |  0.05622913371990863  |\n",
      "| 8542204 |         Mirror's Edge         |  2748  |  0.05236338077666492  |\n",
      "| 8542204 |   The Elder Scrolls V Skyrim  |  4364  | 0.0059743454577402925 |\n",
      "| 8542204 |      ARK Survival Evolved     |   84   | 0.0059743454577402925 |\n",
      "| 8542204 | Call of Duty Advanced Warf... |  725   |  0.005271481286241435 |\n",
      "| 8542204 |         Torchlight II         |  4658  | 0.0035143208574942896 |\n",
      "| 8542204 |     Counter-Strike Source     |  984   | 0.0035143208574942896 |\n",
      "| 8542204 |        Sniper Elite V2        |  3898  | 0.0035143208574942896 |\n",
      "| 8542204 |            Warframe           |  4899  | 0.0031628887717448607 |\n",
      "| 8542204 |        Team Fortress 2        |  4257  | 0.0031628887717448607 |\n",
      "+---------+-------------------------------+--------+-----------------------+\n",
      "[44 rows x 4 columns]\n",
      "\n"
     ]
    }
   ],
   "source": [
    "# Filtering\n",
    "total_sf = game_sf2[(game_sf2['userId']==   8542204 )] \n",
    "# Displaying\n",
    "total_sf.materialize()\n",
    "(total_sf[['userId', 'gameName', 'gameId','Actions']]). print_rows(num_rows=44, num_columns=4)"
   ]
  },
  {
   "cell_type": "code",
   "execution_count": 44,
   "metadata": {},
   "outputs": [
    {
     "name": "stdout",
     "output_type": "stream",
     "text": [
      "+----------+--------+-------------------------------+-----------+--------+-------+\n",
      "|  userId  | gameId |            gameName           | precision | recall | count |\n",
      "+----------+--------+-------------------------------+-----------+--------+-------+\n",
      "| 1024319  |  2078  |    Half-Life Opposing Force   |    0.0    |  0.0   |   1   |\n",
      "| 1364546  |  1179  |       Deathmatch Classic      |    0.0    |  0.0   |   1   |\n",
      "| 4325465  |  1179  |       Deathmatch Classic      |    0.0    |  0.0   |   1   |\n",
      "| 8542204  |  2712  |           Metro 2033          |    0.0    |  0.0   |   9   |\n",
      "| 8542204  |  4527  |  The Witcher Enhanced Edition |    0.0    |  0.0   |   9   |\n",
      "| 8542204  |  1978  |       Grand Theft Auto V      |    0.0    |  0.0   |   9   |\n",
      "| 8542204  |  4343  |            The Crew           |    0.0    |  0.0   |   9   |\n",
      "| 8542204  |  726   |     Call of Duty Black Ops    |    0.0    |  0.0   |   9   |\n",
      "| 8542204  |  3223  |            Portal 2           |    0.0    |  0.0   |   9   |\n",
      "| 8542204  |   84   |      ARK Survival Evolved     |    0.0    |  0.0   |   9   |\n",
      "| 8542204  |  4658  |         Torchlight II         |    0.0    |  0.0   |   9   |\n",
      "| 8542204  |  3898  |        Sniper Elite V2        |    0.0    |  0.0   |   9   |\n",
      "| 8585433  |  4797  |             VVVVVV            |    0.0    |  0.0   |   64  |\n",
      "| 8585433  |  4146  |         Super Meat Boy        |    0.0    |  0.0   |   64  |\n",
      "| 8585433  |  3696  | Sang-Froid - Tales of Were... |    0.0    |  0.0   |   64  |\n",
      "| 8585433  |  3034  |    Ori and the Blind Forest   |    0.0    |  0.0   |   64  |\n",
      "| 8585433  |  3553  | Rising Storm/Red Orchestra... |    0.0    |  0.0   |   64  |\n",
      "| 8585433  |  3662  |             Saira             |    0.0    |  0.0   |   64  |\n",
      "| 8585433  |  4517  |  The Walking Dead Season Two  |    0.0    |  0.0   |   64  |\n",
      "| 8585433  |  3772  |       Shadowrun Returns       |    0.0    |  0.0   |   64  |\n",
      "| 8585433  |  1294  |            Distance           |    0.0    |  0.0   |   64  |\n",
      "| 8585433  |  2748  |         Mirror's Edge         |    0.0    |  0.0   |   64  |\n",
      "| 8585433  |  1039  |    Crysis 2 Maximum Edition   |    0.0    |  0.0   |   64  |\n",
      "| 8585433  |  4065  |         SteamWorld Dig        |    0.0    |  0.0   |   64  |\n",
      "| 8585433  |  2921  | Never Alone (Kisima Ingitc... |    0.0    |  0.0   |   64  |\n",
      "| 8585433  |  4439  | The Misadventures of P.B. ... |    0.0    |  0.0   |   64  |\n",
      "| 8585433  |  3727  |         Secret Ponchos        |    0.0    |  0.0   |   64  |\n",
      "| 8585433  |  3982  |            Spelunky           |    0.0    |  0.0   |   64  |\n",
      "| 8585433  |  1552  |     Euro Truck Simulator 2    |    0.0    |  0.0   |   64  |\n",
      "| 8585433  |  4229  |       Tabletop Simulator      |    0.0    |  0.0   |   64  |\n",
      "| 8585433  |  4182  | Sword of the Stars The Pit... |    0.0    |  0.0   |   64  |\n",
      "| 8585433  |  4166  |       Surgeon Simulator       |    0.0    |  0.0   |   64  |\n",
      "| 8585433  |  4039  |      Starbound - Unstable     |    0.0    |  0.0   |   64  |\n",
      "| 8585433  |  3865  |    Skullgirls Endless Beta    |    0.0    |  0.0   |   64  |\n",
      "| 8585433  |  3859  |   Sir, You Are Being Hunted   |    0.0    |  0.0   |   64  |\n",
      "| 8585433  |  3809  | Shower With Your Dad Simul... |    0.0    |  0.0   |   64  |\n",
      "| 8585433  |  4798  |            Vagante            |    0.0    |  0.0   |   64  |\n",
      "| 8585433  |  4771  |             Unepic            |    0.0    |  0.0   |   64  |\n",
      "| 8585433  |  4719  |           Tropico 4           |    0.0    |  0.0   |   64  |\n",
      "| 8585433  |  4698  |           Transistor          |    0.0    |  0.0   |   64  |\n",
      "| 8585433  |  4408  |     The Jackbox Party Pack    |    0.0    |  0.0   |   64  |\n",
      "| 8585433  |  4376  |       The First Templar       |    0.0    |  0.0   |   64  |\n",
      "| 8585433  |  4367  | The Elder Scrolls V Skyrim... |    0.0    |  0.0   |   64  |\n",
      "| 8585433  |  787   |        Castle Crashers        |    0.0    |  0.0   |   64  |\n",
      "| 8585433  |  1178  |  DeathSpank Thongs Of Virtue  |    0.0    |  0.0   |   64  |\n",
      "| 8585433  |  1679  |       Fallout New Vegas       |    0.0    |  0.0   |   64  |\n",
      "| 8585433  |  723   | Call of Duty 4 Modern Warfare |    0.0    |  0.0   |   64  |\n",
      "| 8585433  |  1872  |        Game Dev Tycoon        |    0.0    |  0.0   |   64  |\n",
      "| 8585433  |  649   |       Bridge Constructor      |    0.0    |  0.0   |   64  |\n",
      "| 8585433  |  1966  |      Governor of Poker 2      |    0.0    |  0.0   |   64  |\n",
      "| 8585433  |  1925  |  Giana Sisters Twisted Dreams |    0.0    |  0.0   |   64  |\n",
      "| 8585433  |  2069  |           Half-Life           |    0.0    |  0.0   |   64  |\n",
      "| 8585433  |  2040  |     Guns of Icarus Online     |    0.0    |  0.0   |   64  |\n",
      "| 8585433  |  1328  |   Don't Starve Together Beta  |    0.0    |  0.0   |   64  |\n",
      "| 8585433  |  4239  |       Tales of Maj'Eyal       |    0.0    |  0.0   |   64  |\n",
      "| 8585433  |  2702  |        Mercenary Kings        |    0.0    |  0.0   |   64  |\n",
      "| 8585433  |  2679  |    Medal of Honor Pre-Order   |    0.0    |  0.0   |   64  |\n",
      "| 8585433  |  2508  |       Lichdom Battlemage      |    0.0    |  0.0   |   64  |\n",
      "| 8585433  |  2609  |            Magicite           |    0.0    |  0.0   |   64  |\n",
      "| 8585433  |  2452  |          LUFTRAUSERS          |    0.0    |  0.0   |   64  |\n",
      "| 8585433  |  2423  |          Kraven Manor         |    0.0    |  0.0   |   64  |\n",
      "| 8585433  |  2366  |      Kerbal Space Program     |    0.0    |  0.0   |   64  |\n",
      "| 8585433  |  2760  |             Monaco            |    0.0    |  0.0   |   64  |\n",
      "| 8585433  |  5021  |        Worms Armageddon       |    0.0    |  0.0   |   64  |\n",
      "| 8585433  |  5020  |             Worms             |    0.0    |  0.0   |   64  |\n",
      "| 8585433  |  4944  |            Waveform           |    0.0    |  0.0   |   64  |\n",
      "| 8585433  |  4858  |              Volt             |    0.0    |  0.0   |   64  |\n",
      "| 8585433  |  3113  |   Patch testing for Chivalry  |    0.0    |  0.0   |   64  |\n",
      "| 8585433  |  3029  |        Orcs Must Die! 2       |    0.0    |  0.0   |   64  |\n",
      "| 8585433  |  2275  |     Intergalactic Bubbles     |    0.0    |  0.0   |   64  |\n",
      "| 8585433  |  271   | Angels of Fasaria Version 2.0 |    0.0    |  0.0   |   64  |\n",
      "| 8585433  |  400   |          Awesomenauts         |    0.0    |  0.0   |   64  |\n",
      "| 8585433  |  439   |  Ballpoint Universe Infinite  |    0.0    |  0.0   |   64  |\n",
      "| 8585433  |  958   |    Cook, Serve, Delicious!    |    0.0    |  0.0   |   64  |\n",
      "| 8585433  |  2023  |     Guild of Dungeoneering    |    0.0    |  0.0   |   64  |\n",
      "| 8585433  |  3653  |         Sacred Citadel        |    0.0    |  0.0   |   64  |\n",
      "| 8776918  |  2070  |          Half-Life 2          |    0.0    |  0.0   |   17  |\n",
      "| 8776918  |  4366  | The Elder Scrolls V Skyrim... |    0.0    |  0.0   |   17  |\n",
      "| 8776918  |  3531  |            Ricochet           |    0.0    |  0.0   |   17  |\n",
      "| 8776918  |  2659  |         Mass Effect 2         |    0.0    |  0.0   |   17  |\n",
      "| 8776918  |  2079  |        Half-Life Source       |    0.0    |  0.0   |   17  |\n",
      "| 8776918  |  2073  |    Half-Life 2 Episode Two    |    0.0    |  0.0   |   17  |\n",
      "| 8776918  |  620   | Borderlands 2 Headhunter 1... |    0.0    |  0.0   |   17  |\n",
      "| 8776918  |  1682  | Fallout New Vegas Honest H... |    0.0    |  0.0   |   17  |\n",
      "| 8776918  |  1179  |       Deathmatch Classic      |    0.0    |  0.0   |   17  |\n",
      "| 8776918  |  980   | Counter-Strike Condition Z... |    0.0    |  0.0   |   17  |\n",
      "| 8776918  |  726   |     Call of Duty Black Ops    |    0.0    |  0.0   |   17  |\n",
      "| 8776918  |  737   | Call of Duty Modern Warfar... |    0.0    |  0.0   |   17  |\n",
      "| 8776918  |  619   |         Borderlands 2         |    0.0    |  0.0   |   17  |\n",
      "| 8776918  |  1678  |           Fallout 4           |    0.0    |  0.0   |   17  |\n",
      "| 8776918  |  4994  |   Wolfenstein The New Order   |    0.0    |  0.0   |   17  |\n",
      "| 8776918  |  522   |       BioShock Infinite       |    0.0    |  0.0   |   17  |\n",
      "| 8776918  |  2715  |        Metro Last Light       |    0.0    |  0.0   |   17  |\n",
      "| 12312878 |  2074  |     Half-Life 2 Lost Coast    |    0.0    |  0.0   |   2   |\n",
      "| 12312878 |  984   |     Counter-Strike Source     |    0.0    |  0.0   |   2   |\n",
      "| 15841586 |  2071  |     Half-Life 2 Deathmatch    |    0.0    |  0.0   |   1   |\n",
      "| 23154676 |  2071  |     Half-Life 2 Deathmatch    |    0.0    |  0.0   |   1   |\n",
      "| 25272022 |  2069  |           Half-Life           |    0.0    |  0.0   |   2   |\n",
      "| 25272022 |  2076  |      Half-Life Blue Shift     |    0.0    |  0.0   |   2   |\n",
      "| 28939171 |  2074  |     Half-Life 2 Lost Coast    |    0.0    |  0.0   |   1   |\n",
      "+----------+--------+-------------------------------+-----------+--------+-------+\n",
      "[797 rows x 6 columns]\n",
      "\n"
     ]
    }
   ],
   "source": [
    "result = test_sframe.join(result, on=\"userId\", how=\"left\") \\\n",
    "   .select_columns([\"userId\",\"gameId\", \"gameName\", \"precision\", \"recall\", \"count\"])\n",
    "result.print_rows(num_rows=100, num_columns=6)"
   ]
  },
  {
   "cell_type": "code",
   "execution_count": 59,
   "metadata": {},
   "outputs": [
    {
     "name": "stdout",
     "output_type": "stream",
     "text": [
      "+--------+--------+-----------+--------+-------+\n",
      "| userId | cutoff | precision | recall | count |\n",
      "+--------+--------+-----------+--------+-------+\n",
      "+--------+--------+-----------+--------+-------+\n",
      "[0 rows x 5 columns]\n",
      "\n"
     ]
    }
   ],
   "source": [
    "# Filtering\n",
    "nonzero_sframe = result[(result['precision']!=  0.0)] \n",
    "nonzero_sframe.materialize()\n",
    "print(nonzero_sframe)\n",
    "\n",
    "# this is weird. we need more investigation"
   ]
  },
  {
   "cell_type": "code",
   "execution_count": null,
   "metadata": {},
   "outputs": [],
   "source": []
  }
 ],
 "metadata": {
  "kernelspec": {
   "display_name": "Python 3",
   "language": "python",
   "name": "python3"
  },
  "language_info": {
   "codemirror_mode": {
    "name": "ipython",
    "version": 3
   },
   "file_extension": ".py",
   "mimetype": "text/x-python",
   "name": "python",
   "nbconvert_exporter": "python",
   "pygments_lexer": "ipython3",
   "version": "3.6.4"
  }
 },
 "nbformat": 4,
 "nbformat_minor": 2
}

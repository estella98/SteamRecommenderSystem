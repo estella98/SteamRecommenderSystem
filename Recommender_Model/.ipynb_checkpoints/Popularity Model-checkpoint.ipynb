{
 "cells": [
  {
   "cell_type": "code",
   "execution_count": 1,
   "metadata": {},
   "outputs": [],
   "source": [
    "import pandas as pd\n",
    "import numpy as np \n",
    "import matplotlib\n",
    "# import matplotlib.pyplot as plt \n",
    "import seaborn as sns\n",
    "import turicreate\n",
    "import sklearn as sk\n",
    "from sklearn.model_selection import train_test_split"
   ]
  },
  {
   "cell_type": "code",
   "execution_count": 6,
   "metadata": {},
   "outputs": [
    {
     "name": "stdout",
     "output_type": "stream",
     "text": [
      "Collecting turicreate\n",
      "\u001b[33m  Cache entry deserialization failed, entry ignored\u001b[0m\n",
      "\u001b[33m  Cache entry deserialization failed, entry ignored\u001b[0m\n",
      "  Downloading https://files.pythonhosted.org/packages/1b/03/1e0bc266d7421d78ce7590ef7d9cb72c93ae3ab4c2c889ac1f70b4bbe891/turicreate-5.3.1-cp36-cp36m-macosx_10_12_intel.macosx_10_12_x86_64.macosx_10_13_intel.macosx_10_13_x86_64.macosx_10_14_intel.macosx_10_14_x86_64.whl (22.6MB)\n",
      "\u001b[K    100% |████████████████████████████████| 22.6MB 56kB/s  eta 0:00:01\n",
      "\u001b[?25hRequirement already satisfied: numpy in /Library/Frameworks/Python.framework/Versions/3.6/lib/python3.6/site-packages (from turicreate)\n",
      "Requirement already satisfied: pillow>=3.3.0 in /Library/Frameworks/Python.framework/Versions/3.6/lib/python3.6/site-packages (from turicreate)\n",
      "Requirement already satisfied: pandas>=0.19.0 in /Library/Frameworks/Python.framework/Versions/3.6/lib/python3.6/site-packages (from turicreate)\n",
      "Collecting mxnet<1.2.0,>=1.1.0 (from turicreate)\n",
      "\u001b[33m  Cache entry deserialization failed, entry ignored\u001b[0m\n",
      "\u001b[33m  Cache entry deserialization failed, entry ignored\u001b[0m\n",
      "  Downloading https://files.pythonhosted.org/packages/68/0a/014cb54d9a9228f9a5c8b90b7f543b595db4e0a277733817625e1b37697d/mxnet-1.1.0.post0-cp36-cp36m-macosx_10_12_x86_64.whl (9.3MB)\n",
      "\u001b[K    100% |████████████████████████████████| 9.3MB 110kB/s eta 0:00:01    81% |██████████████████████████      | 7.6MB 22.7MB/s eta 0:00:01\n",
      "\u001b[?25hCollecting coremltools==2.0b1 (from turicreate)\n",
      "\u001b[33m  Cache entry deserialization failed, entry ignored\u001b[0m\n",
      "\u001b[33m  Cache entry deserialization failed, entry ignored\u001b[0m\n",
      "  Downloading https://files.pythonhosted.org/packages/c9/ae/c31db60c01af41b4da866b2a5b155b9768de62754f4002b885dddedfae22/coremltools-2.0b1-cp36-none-macosx_10_12_intel.whl (3.1MB)\n",
      "\u001b[K    100% |████████████████████████████████| 3.1MB 400kB/s eta 0:00:01\n",
      "\u001b[?25hRequirement already satisfied: decorator>=4.0.9 in /Library/Frameworks/Python.framework/Versions/3.6/lib/python3.6/site-packages (from turicreate)\n",
      "Collecting prettytable==0.7.2 (from turicreate)\n",
      "\u001b[33m  Cache entry deserialization failed, entry ignored\u001b[0m\n",
      "Requirement already satisfied: requests>=2.9.1 in /Library/Frameworks/Python.framework/Versions/3.6/lib/python3.6/site-packages (from turicreate)\n",
      "Requirement already satisfied: python-dateutil>=2.5.0 in /Library/Frameworks/Python.framework/Versions/3.6/lib/python3.6/site-packages (from pandas>=0.19.0->turicreate)\n",
      "Requirement already satisfied: pytz>=2011k in /Library/Frameworks/Python.framework/Versions/3.6/lib/python3.6/site-packages (from pandas>=0.19.0->turicreate)\n",
      "Collecting graphviz<0.9.0,>=0.8.1 (from mxnet<1.2.0,>=1.1.0->turicreate)\n",
      "\u001b[33m  Cache entry deserialization failed, entry ignored\u001b[0m\n",
      "\u001b[33m  Cache entry deserialization failed, entry ignored\u001b[0m\n",
      "  Downloading https://files.pythonhosted.org/packages/53/39/4ab213673844e0c004bed8a0781a0721a3f6bb23eb8854ee75c236428892/graphviz-0.8.4-py2.py3-none-any.whl\n",
      "Collecting protobuf>=3.1.0 (from coremltools==2.0b1->turicreate)\n",
      "\u001b[33m  Cache entry deserialization failed, entry ignored\u001b[0m\n",
      "\u001b[33m  Cache entry deserialization failed, entry ignored\u001b[0m\n",
      "  Downloading https://files.pythonhosted.org/packages/c7/27/133f225035b9539f2dcfebcdf9a69ff0152f56e0120160ec5c972ea7deb9/protobuf-3.6.1-cp36-cp36m-macosx_10_6_intel.macosx_10_9_intel.macosx_10_9_x86_64.macosx_10_10_intel.macosx_10_10_x86_64.whl (1.2MB)\n",
      "\u001b[K    100% |████████████████████████████████| 1.2MB 508kB/s eta 0:00:01\n",
      "\u001b[?25hCollecting six==1.10.0 (from coremltools==2.0b1->turicreate)\n",
      "\u001b[33m  Cache entry deserialization failed, entry ignored\u001b[0m\n",
      "\u001b[33m  Cache entry deserialization failed, entry ignored\u001b[0m\n",
      "  Downloading https://files.pythonhosted.org/packages/c8/0a/b6723e1bc4c516cb687841499455a8505b44607ab535be01091c0f24f079/six-1.10.0-py2.py3-none-any.whl\n",
      "Requirement already satisfied: chardet<3.1.0,>=3.0.2 in /Library/Frameworks/Python.framework/Versions/3.6/lib/python3.6/site-packages (from requests>=2.9.1->turicreate)\n",
      "Requirement already satisfied: urllib3<1.24,>=1.21.1 in /Library/Frameworks/Python.framework/Versions/3.6/lib/python3.6/site-packages (from requests>=2.9.1->turicreate)\n",
      "Requirement already satisfied: certifi>=2017.4.17 in /Library/Frameworks/Python.framework/Versions/3.6/lib/python3.6/site-packages (from requests>=2.9.1->turicreate)\n",
      "Requirement already satisfied: idna<2.8,>=2.5 in /Library/Frameworks/Python.framework/Versions/3.6/lib/python3.6/site-packages (from requests>=2.9.1->turicreate)\n",
      "Requirement already satisfied: setuptools in /Library/Frameworks/Python.framework/Versions/3.6/lib/python3.6/site-packages (from protobuf>=3.1.0->coremltools==2.0b1->turicreate)\n",
      "Installing collected packages: graphviz, mxnet, six, protobuf, coremltools, prettytable, turicreate\n",
      "  Found existing installation: six 1.12.0\n",
      "    Uninstalling six-1.12.0:\n",
      "      Successfully uninstalled six-1.12.0\n",
      "Successfully installed coremltools-2.0b1 graphviz-0.8.4 mxnet-1.1.0.post0 prettytable-0.7.2 protobuf-3.6.1 six-1.10.0 turicreate-5.3.1\n",
      "\u001b[33mYou are using pip version 9.0.1, however version 19.0.3 is available.\n",
      "You should consider upgrading via the 'pip install --upgrade pip' command.\u001b[0m\n"
     ]
    }
   ],
   "source": [
    "# do not delete this line, this is helpful for setting the environment\n",
    "!pip3 install turicreate"
   ]
  },
  {
   "cell_type": "code",
   "execution_count": 3,
   "metadata": {},
   "outputs": [
    {
     "data": {
      "text/html": [
       "<div>\n",
       "<style scoped>\n",
       "    .dataframe tbody tr th:only-of-type {\n",
       "        vertical-align: middle;\n",
       "    }\n",
       "\n",
       "    .dataframe tbody tr th {\n",
       "        vertical-align: top;\n",
       "    }\n",
       "\n",
       "    .dataframe thead th {\n",
       "        text-align: right;\n",
       "    }\n",
       "</style>\n",
       "<table border=\"1\" class=\"dataframe\">\n",
       "  <thead>\n",
       "    <tr style=\"text-align: right;\">\n",
       "      <th></th>\n",
       "      <th>userId</th>\n",
       "      <th>gameName</th>\n",
       "      <th>play</th>\n",
       "      <th>Actions</th>\n",
       "      <th>gameId</th>\n",
       "    </tr>\n",
       "  </thead>\n",
       "  <tbody>\n",
       "    <tr>\n",
       "      <th>41879</th>\n",
       "      <td>5250</td>\n",
       "      <td>Portal 2</td>\n",
       "      <td>1.0</td>\n",
       "      <td>0.060110</td>\n",
       "      <td>3223</td>\n",
       "    </tr>\n",
       "    <tr>\n",
       "      <th>41877</th>\n",
       "      <td>5250</td>\n",
       "      <td>Cities Skylines</td>\n",
       "      <td>1.0</td>\n",
       "      <td>0.636464</td>\n",
       "      <td>852</td>\n",
       "    </tr>\n",
       "    <tr>\n",
       "      <th>41878</th>\n",
       "      <td>5250</td>\n",
       "      <td>Deus Ex Human Revolution</td>\n",
       "      <td>1.0</td>\n",
       "      <td>0.274033</td>\n",
       "      <td>1248</td>\n",
       "    </tr>\n",
       "    <tr>\n",
       "      <th>41880</th>\n",
       "      <td>5250</td>\n",
       "      <td>Alien Swarm</td>\n",
       "      <td>1.0</td>\n",
       "      <td>0.021657</td>\n",
       "      <td>227</td>\n",
       "    </tr>\n",
       "    <tr>\n",
       "      <th>41881</th>\n",
       "      <td>5250</td>\n",
       "      <td>Team Fortress 2</td>\n",
       "      <td>1.0</td>\n",
       "      <td>0.003536</td>\n",
       "      <td>4257</td>\n",
       "    </tr>\n",
       "    <tr>\n",
       "      <th>41882</th>\n",
       "      <td>5250</td>\n",
       "      <td>Dota 2</td>\n",
       "      <td>1.0</td>\n",
       "      <td>0.000884</td>\n",
       "      <td>1336</td>\n",
       "    </tr>\n",
       "    <tr>\n",
       "      <th>41883</th>\n",
       "      <td>5250</td>\n",
       "      <td>Counter-Strike</td>\n",
       "      <td>0.0</td>\n",
       "      <td>0.000221</td>\n",
       "      <td>978</td>\n",
       "    </tr>\n",
       "    <tr>\n",
       "      <th>41884</th>\n",
       "      <td>5250</td>\n",
       "      <td>Counter-Strike Source</td>\n",
       "      <td>0.0</td>\n",
       "      <td>0.000221</td>\n",
       "      <td>984</td>\n",
       "    </tr>\n",
       "    <tr>\n",
       "      <th>41885</th>\n",
       "      <td>5250</td>\n",
       "      <td>Day of Defeat</td>\n",
       "      <td>0.0</td>\n",
       "      <td>0.000221</td>\n",
       "      <td>1131</td>\n",
       "    </tr>\n",
       "    <tr>\n",
       "      <th>41887</th>\n",
       "      <td>5250</td>\n",
       "      <td>Half-Life</td>\n",
       "      <td>0.0</td>\n",
       "      <td>0.000221</td>\n",
       "      <td>2069</td>\n",
       "    </tr>\n",
       "    <tr>\n",
       "      <th>41888</th>\n",
       "      <td>5250</td>\n",
       "      <td>Half-Life 2</td>\n",
       "      <td>0.0</td>\n",
       "      <td>0.000221</td>\n",
       "      <td>2070</td>\n",
       "    </tr>\n",
       "    <tr>\n",
       "      <th>41886</th>\n",
       "      <td>5250</td>\n",
       "      <td>Deathmatch Classic</td>\n",
       "      <td>0.0</td>\n",
       "      <td>0.000221</td>\n",
       "      <td>1179</td>\n",
       "    </tr>\n",
       "    <tr>\n",
       "      <th>41890</th>\n",
       "      <td>5250</td>\n",
       "      <td>Half-Life 2 Episode One</td>\n",
       "      <td>0.0</td>\n",
       "      <td>0.000221</td>\n",
       "      <td>2072</td>\n",
       "    </tr>\n",
       "    <tr>\n",
       "      <th>41891</th>\n",
       "      <td>5250</td>\n",
       "      <td>Half-Life 2 Episode Two</td>\n",
       "      <td>0.0</td>\n",
       "      <td>0.000221</td>\n",
       "      <td>2073</td>\n",
       "    </tr>\n",
       "    <tr>\n",
       "      <th>41892</th>\n",
       "      <td>5250</td>\n",
       "      <td>Half-Life 2 Lost Coast</td>\n",
       "      <td>0.0</td>\n",
       "      <td>0.000221</td>\n",
       "      <td>2074</td>\n",
       "    </tr>\n",
       "  </tbody>\n",
       "</table>\n",
       "</div>"
      ],
      "text/plain": [
       "       userId                  gameName  play   Actions  gameId\n",
       "41879    5250                  Portal 2   1.0  0.060110    3223\n",
       "41877    5250           Cities Skylines   1.0  0.636464     852\n",
       "41878    5250  Deus Ex Human Revolution   1.0  0.274033    1248\n",
       "41880    5250               Alien Swarm   1.0  0.021657     227\n",
       "41881    5250           Team Fortress 2   1.0  0.003536    4257\n",
       "41882    5250                    Dota 2   1.0  0.000884    1336\n",
       "41883    5250            Counter-Strike   0.0  0.000221     978\n",
       "41884    5250     Counter-Strike Source   0.0  0.000221     984\n",
       "41885    5250             Day of Defeat   0.0  0.000221    1131\n",
       "41887    5250                 Half-Life   0.0  0.000221    2069\n",
       "41888    5250               Half-Life 2   0.0  0.000221    2070\n",
       "41886    5250        Deathmatch Classic   0.0  0.000221    1179\n",
       "41890    5250   Half-Life 2 Episode One   0.0  0.000221    2072\n",
       "41891    5250   Half-Life 2 Episode Two   0.0  0.000221    2073\n",
       "41892    5250    Half-Life 2 Lost Coast   0.0  0.000221    2074"
      ]
     },
     "execution_count": 3,
     "metadata": {},
     "output_type": "execute_result"
    }
   ],
   "source": [
    "steam_data = pd.read_pickle(\"../Data_Cleaning/clean_steam_advanced.pkl\")\n",
    "steam_data.head()\n",
    "data_copy = steam_data\n",
    "data_copy[\"Actions\"].fillna(0, inplace=True)\n",
    "data_copy.head(15)"
   ]
  },
  {
   "cell_type": "code",
   "execution_count": 4,
   "metadata": {},
   "outputs": [],
   "source": [
    "train_set, test_set = train_test_split(data_copy,test_size=0.2,random_state = 42)"
   ]
  },
  {
   "cell_type": "markdown",
   "metadata": {},
   "source": [
    "building popularity model"
   ]
  },
  {
   "cell_type": "code",
   "execution_count": 5,
   "metadata": {},
   "outputs": [
    {
     "data": {
      "text/html": [
       "<pre>Warning: Ignoring columns play, gameId;</pre>"
      ],
      "text/plain": [
       "Warning: Ignoring columns play, gameId;"
      ]
     },
     "metadata": {},
     "output_type": "display_data"
    },
    {
     "data": {
      "text/html": [
       "<pre>    To use these columns in scoring predictions, use a model that allows the use of additional features.</pre>"
      ],
      "text/plain": [
       "    To use these columns in scoring predictions, use a model that allows the use of additional features."
      ]
     },
     "metadata": {},
     "output_type": "display_data"
    },
    {
     "data": {
      "text/html": [
       "<pre>Preparing data set.</pre>"
      ],
      "text/plain": [
       "Preparing data set."
      ]
     },
     "metadata": {},
     "output_type": "display_data"
    },
    {
     "data": {
      "text/html": [
       "<pre>    Data has 103033 observations with 11197 users and 4917 items.</pre>"
      ],
      "text/plain": [
       "    Data has 103033 observations with 11197 users and 4917 items."
      ]
     },
     "metadata": {},
     "output_type": "display_data"
    },
    {
     "data": {
      "text/html": [
       "<pre>    Data prepared in: 0.136308s</pre>"
      ],
      "text/plain": [
       "    Data prepared in: 0.136308s"
      ]
     },
     "metadata": {},
     "output_type": "display_data"
    },
    {
     "data": {
      "text/html": [
       "<pre>103033 observations to process; with 4917 unique items.</pre>"
      ],
      "text/plain": [
       "103033 observations to process; with 4917 unique items."
      ]
     },
     "metadata": {},
     "output_type": "display_data"
    }
   ],
   "source": [
    "train_data = turicreate.SFrame(train_set)\n",
    "popularity_model = turicreate.popularity_recommender.create(train_data, user_id='userId', item_id='gameName', target='Actions')"
   ]
  },
  {
   "cell_type": "code",
   "execution_count": null,
   "metadata": {},
   "outputs": [],
   "source": []
  }
 ],
 "metadata": {
  "kernelspec": {
   "display_name": "Python 3",
   "language": "python",
   "name": "python3"
  },
  "language_info": {
   "codemirror_mode": {
    "name": "ipython",
    "version": 3
   },
   "file_extension": ".py",
   "mimetype": "text/x-python",
   "name": "python",
   "nbconvert_exporter": "python",
   "pygments_lexer": "ipython3",
   "version": "3.6.4"
  }
 },
 "nbformat": 4,
 "nbformat_minor": 2
}

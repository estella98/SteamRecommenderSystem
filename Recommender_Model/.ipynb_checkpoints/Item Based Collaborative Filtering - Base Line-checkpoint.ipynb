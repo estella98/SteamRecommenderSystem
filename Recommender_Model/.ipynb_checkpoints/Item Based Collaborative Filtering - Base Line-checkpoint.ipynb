{
 "cells": [
  {
   "cell_type": "code",
   "execution_count": 2,
   "metadata": {},
   "outputs": [],
   "source": [
    "import pandas as pd\n",
    "import numpy as np \n",
    "import matplotlib\n",
    "# import matplotlib.pyplot as plt \n",
    "import seaborn as sns\n",
    "import turicreate\n",
    "import sklearn as sk\n",
    "from sklearn.model_selection import train_test_split"
   ]
  },
  {
   "cell_type": "code",
   "execution_count": 6,
   "metadata": {},
   "outputs": [
    {
     "name": "stdout",
     "output_type": "stream",
     "text": [
      "Collecting turicreate\n",
      "\u001b[33m  Cache entry deserialization failed, entry ignored\u001b[0m\n",
      "\u001b[33m  Cache entry deserialization failed, entry ignored\u001b[0m\n",
      "  Downloading https://files.pythonhosted.org/packages/1b/03/1e0bc266d7421d78ce7590ef7d9cb72c93ae3ab4c2c889ac1f70b4bbe891/turicreate-5.3.1-cp36-cp36m-macosx_10_12_intel.macosx_10_12_x86_64.macosx_10_13_intel.macosx_10_13_x86_64.macosx_10_14_intel.macosx_10_14_x86_64.whl (22.6MB)\n",
      "\u001b[K    100% |████████████████████████████████| 22.6MB 56kB/s  eta 0:00:01\n",
      "\u001b[?25hRequirement already satisfied: numpy in /Library/Frameworks/Python.framework/Versions/3.6/lib/python3.6/site-packages (from turicreate)\n",
      "Requirement already satisfied: pillow>=3.3.0 in /Library/Frameworks/Python.framework/Versions/3.6/lib/python3.6/site-packages (from turicreate)\n",
      "Requirement already satisfied: pandas>=0.19.0 in /Library/Frameworks/Python.framework/Versions/3.6/lib/python3.6/site-packages (from turicreate)\n",
      "Collecting mxnet<1.2.0,>=1.1.0 (from turicreate)\n",
      "\u001b[33m  Cache entry deserialization failed, entry ignored\u001b[0m\n",
      "\u001b[33m  Cache entry deserialization failed, entry ignored\u001b[0m\n",
      "  Downloading https://files.pythonhosted.org/packages/68/0a/014cb54d9a9228f9a5c8b90b7f543b595db4e0a277733817625e1b37697d/mxnet-1.1.0.post0-cp36-cp36m-macosx_10_12_x86_64.whl (9.3MB)\n",
      "\u001b[K    100% |████████████████████████████████| 9.3MB 110kB/s eta 0:00:01    81% |██████████████████████████      | 7.6MB 22.7MB/s eta 0:00:01\n",
      "\u001b[?25hCollecting coremltools==2.0b1 (from turicreate)\n",
      "\u001b[33m  Cache entry deserialization failed, entry ignored\u001b[0m\n",
      "\u001b[33m  Cache entry deserialization failed, entry ignored\u001b[0m\n",
      "  Downloading https://files.pythonhosted.org/packages/c9/ae/c31db60c01af41b4da866b2a5b155b9768de62754f4002b885dddedfae22/coremltools-2.0b1-cp36-none-macosx_10_12_intel.whl (3.1MB)\n",
      "\u001b[K    100% |████████████████████████████████| 3.1MB 400kB/s eta 0:00:01\n",
      "\u001b[?25hRequirement already satisfied: decorator>=4.0.9 in /Library/Frameworks/Python.framework/Versions/3.6/lib/python3.6/site-packages (from turicreate)\n",
      "Collecting prettytable==0.7.2 (from turicreate)\n",
      "\u001b[33m  Cache entry deserialization failed, entry ignored\u001b[0m\n",
      "Requirement already satisfied: requests>=2.9.1 in /Library/Frameworks/Python.framework/Versions/3.6/lib/python3.6/site-packages (from turicreate)\n",
      "Requirement already satisfied: python-dateutil>=2.5.0 in /Library/Frameworks/Python.framework/Versions/3.6/lib/python3.6/site-packages (from pandas>=0.19.0->turicreate)\n",
      "Requirement already satisfied: pytz>=2011k in /Library/Frameworks/Python.framework/Versions/3.6/lib/python3.6/site-packages (from pandas>=0.19.0->turicreate)\n",
      "Collecting graphviz<0.9.0,>=0.8.1 (from mxnet<1.2.0,>=1.1.0->turicreate)\n",
      "\u001b[33m  Cache entry deserialization failed, entry ignored\u001b[0m\n",
      "\u001b[33m  Cache entry deserialization failed, entry ignored\u001b[0m\n",
      "  Downloading https://files.pythonhosted.org/packages/53/39/4ab213673844e0c004bed8a0781a0721a3f6bb23eb8854ee75c236428892/graphviz-0.8.4-py2.py3-none-any.whl\n",
      "Collecting protobuf>=3.1.0 (from coremltools==2.0b1->turicreate)\n",
      "\u001b[33m  Cache entry deserialization failed, entry ignored\u001b[0m\n",
      "\u001b[33m  Cache entry deserialization failed, entry ignored\u001b[0m\n",
      "  Downloading https://files.pythonhosted.org/packages/c7/27/133f225035b9539f2dcfebcdf9a69ff0152f56e0120160ec5c972ea7deb9/protobuf-3.6.1-cp36-cp36m-macosx_10_6_intel.macosx_10_9_intel.macosx_10_9_x86_64.macosx_10_10_intel.macosx_10_10_x86_64.whl (1.2MB)\n",
      "\u001b[K    100% |████████████████████████████████| 1.2MB 508kB/s eta 0:00:01\n",
      "\u001b[?25hCollecting six==1.10.0 (from coremltools==2.0b1->turicreate)\n",
      "\u001b[33m  Cache entry deserialization failed, entry ignored\u001b[0m\n",
      "\u001b[33m  Cache entry deserialization failed, entry ignored\u001b[0m\n",
      "  Downloading https://files.pythonhosted.org/packages/c8/0a/b6723e1bc4c516cb687841499455a8505b44607ab535be01091c0f24f079/six-1.10.0-py2.py3-none-any.whl\n",
      "Requirement already satisfied: chardet<3.1.0,>=3.0.2 in /Library/Frameworks/Python.framework/Versions/3.6/lib/python3.6/site-packages (from requests>=2.9.1->turicreate)\n",
      "Requirement already satisfied: urllib3<1.24,>=1.21.1 in /Library/Frameworks/Python.framework/Versions/3.6/lib/python3.6/site-packages (from requests>=2.9.1->turicreate)\n",
      "Requirement already satisfied: certifi>=2017.4.17 in /Library/Frameworks/Python.framework/Versions/3.6/lib/python3.6/site-packages (from requests>=2.9.1->turicreate)\n",
      "Requirement already satisfied: idna<2.8,>=2.5 in /Library/Frameworks/Python.framework/Versions/3.6/lib/python3.6/site-packages (from requests>=2.9.1->turicreate)\n",
      "Requirement already satisfied: setuptools in /Library/Frameworks/Python.framework/Versions/3.6/lib/python3.6/site-packages (from protobuf>=3.1.0->coremltools==2.0b1->turicreate)\n",
      "Installing collected packages: graphviz, mxnet, six, protobuf, coremltools, prettytable, turicreate\n",
      "  Found existing installation: six 1.12.0\n",
      "    Uninstalling six-1.12.0:\n",
      "      Successfully uninstalled six-1.12.0\n",
      "Successfully installed coremltools-2.0b1 graphviz-0.8.4 mxnet-1.1.0.post0 prettytable-0.7.2 protobuf-3.6.1 six-1.10.0 turicreate-5.3.1\n",
      "\u001b[33mYou are using pip version 9.0.1, however version 19.0.3 is available.\n",
      "You should consider upgrading via the 'pip install --upgrade pip' command.\u001b[0m\n"
     ]
    }
   ],
   "source": [
    "# do not delete this line, this is helpful for setting the environment\n",
    "!pip3 install turicreate"
   ]
  },
  {
   "cell_type": "code",
   "execution_count": 3,
   "metadata": {},
   "outputs": [],
   "source": [
    "steam_data = pd.read_pickle(\"../Data_Cleaning/clean_steam_advanced.pkl\")\n",
    "steam_data.head()\n",
    "data_copy = steam_data\n",
    "data_copy[\"Actions\"].fillna(0, inplace=True)"
   ]
  },
  {
   "cell_type": "code",
   "execution_count": 4,
   "metadata": {},
   "outputs": [],
   "source": [
    "train_set, test_set = train_test_split(data_copy,test_size=0.1,random_state = 42)"
   ]
  },
  {
   "cell_type": "markdown",
   "metadata": {},
   "source": [
    "building item based collaborative filtering model"
   ]
  },
  {
   "cell_type": "code",
   "execution_count": 7,
   "metadata": {},
   "outputs": [
    {
     "data": {
      "text/html": [
       "<pre>Warning: Ignoring columns play, gameId;</pre>"
      ],
      "text/plain": [
       "Warning: Ignoring columns play, gameId;"
      ]
     },
     "metadata": {},
     "output_type": "display_data"
    },
    {
     "data": {
      "text/html": [
       "<pre>    To use these columns in scoring predictions, use a model that allows the use of additional features.</pre>"
      ],
      "text/plain": [
       "    To use these columns in scoring predictions, use a model that allows the use of additional features."
      ]
     },
     "metadata": {},
     "output_type": "display_data"
    },
    {
     "data": {
      "text/html": [
       "<pre>Preparing data set.</pre>"
      ],
      "text/plain": [
       "Preparing data set."
      ]
     },
     "metadata": {},
     "output_type": "display_data"
    },
    {
     "data": {
      "text/html": [
       "<pre>    Data has 115912 observations with 11810 users and 5048 items.</pre>"
      ],
      "text/plain": [
       "    Data has 115912 observations with 11810 users and 5048 items."
      ]
     },
     "metadata": {},
     "output_type": "display_data"
    },
    {
     "data": {
      "text/html": [
       "<pre>    Data prepared in: 0.171932s</pre>"
      ],
      "text/plain": [
       "    Data prepared in: 0.171932s"
      ]
     },
     "metadata": {},
     "output_type": "display_data"
    },
    {
     "data": {
      "text/html": [
       "<pre>Training model from provided data.</pre>"
      ],
      "text/plain": [
       "Training model from provided data."
      ]
     },
     "metadata": {},
     "output_type": "display_data"
    },
    {
     "data": {
      "text/html": [
       "<pre>Gathering per-item and per-user statistics.</pre>"
      ],
      "text/plain": [
       "Gathering per-item and per-user statistics."
      ]
     },
     "metadata": {},
     "output_type": "display_data"
    },
    {
     "data": {
      "text/html": [
       "<pre>+--------------------------------+------------+</pre>"
      ],
      "text/plain": [
       "+--------------------------------+------------+"
      ]
     },
     "metadata": {},
     "output_type": "display_data"
    },
    {
     "data": {
      "text/html": [
       "<pre>| Elapsed Time (Item Statistics) | % Complete |</pre>"
      ],
      "text/plain": [
       "| Elapsed Time (Item Statistics) | % Complete |"
      ]
     },
     "metadata": {},
     "output_type": "display_data"
    },
    {
     "data": {
      "text/html": [
       "<pre>+--------------------------------+------------+</pre>"
      ],
      "text/plain": [
       "+--------------------------------+------------+"
      ]
     },
     "metadata": {},
     "output_type": "display_data"
    },
    {
     "data": {
      "text/html": [
       "<pre>| 4.715ms                        | 8.25       |</pre>"
      ],
      "text/plain": [
       "| 4.715ms                        | 8.25       |"
      ]
     },
     "metadata": {},
     "output_type": "display_data"
    },
    {
     "data": {
      "text/html": [
       "<pre>| 18.795ms                       | 100        |</pre>"
      ],
      "text/plain": [
       "| 18.795ms                       | 100        |"
      ]
     },
     "metadata": {},
     "output_type": "display_data"
    },
    {
     "data": {
      "text/html": [
       "<pre>+--------------------------------+------------+</pre>"
      ],
      "text/plain": [
       "+--------------------------------+------------+"
      ]
     },
     "metadata": {},
     "output_type": "display_data"
    },
    {
     "data": {
      "text/html": [
       "<pre>Setting up lookup tables.</pre>"
      ],
      "text/plain": [
       "Setting up lookup tables."
      ]
     },
     "metadata": {},
     "output_type": "display_data"
    },
    {
     "data": {
      "text/html": [
       "<pre>Processing data in one pass using dense lookup tables.</pre>"
      ],
      "text/plain": [
       "Processing data in one pass using dense lookup tables."
      ]
     },
     "metadata": {},
     "output_type": "display_data"
    },
    {
     "data": {
      "text/html": [
       "<pre>+-------------------------------------+------------------+-----------------+</pre>"
      ],
      "text/plain": [
       "+-------------------------------------+------------------+-----------------+"
      ]
     },
     "metadata": {},
     "output_type": "display_data"
    },
    {
     "data": {
      "text/html": [
       "<pre>| Elapsed Time (Constructing Lookups) | Total % Complete | Items Processed |</pre>"
      ],
      "text/plain": [
       "| Elapsed Time (Constructing Lookups) | Total % Complete | Items Processed |"
      ]
     },
     "metadata": {},
     "output_type": "display_data"
    },
    {
     "data": {
      "text/html": [
       "<pre>+-------------------------------------+------------------+-----------------+</pre>"
      ],
      "text/plain": [
       "+-------------------------------------+------------------+-----------------+"
      ]
     },
     "metadata": {},
     "output_type": "display_data"
    },
    {
     "data": {
      "text/html": [
       "<pre>| 86.89ms                             | 0                | 3               |</pre>"
      ],
      "text/plain": [
       "| 86.89ms                             | 0                | 3               |"
      ]
     },
     "metadata": {},
     "output_type": "display_data"
    },
    {
     "data": {
      "text/html": [
       "<pre>| 699.482ms                           | 100              | 5048            |</pre>"
      ],
      "text/plain": [
       "| 699.482ms                           | 100              | 5048            |"
      ]
     },
     "metadata": {},
     "output_type": "display_data"
    },
    {
     "data": {
      "text/html": [
       "<pre>+-------------------------------------+------------------+-----------------+</pre>"
      ],
      "text/plain": [
       "+-------------------------------------+------------------+-----------------+"
      ]
     },
     "metadata": {},
     "output_type": "display_data"
    },
    {
     "data": {
      "text/html": [
       "<pre>Finalizing lookup tables.</pre>"
      ],
      "text/plain": [
       "Finalizing lookup tables."
      ]
     },
     "metadata": {},
     "output_type": "display_data"
    },
    {
     "data": {
      "text/html": [
       "<pre>Generating candidate set for working with new users.</pre>"
      ],
      "text/plain": [
       "Generating candidate set for working with new users."
      ]
     },
     "metadata": {},
     "output_type": "display_data"
    },
    {
     "data": {
      "text/html": [
       "<pre>Finished training in 0.774012s</pre>"
      ],
      "text/plain": [
       "Finished training in 0.774012s"
      ]
     },
     "metadata": {},
     "output_type": "display_data"
    }
   ],
   "source": [
    "#Training the model\n",
    "train_data = turicreate.SFrame(train_set)\n",
    "item_sim_model = turicreate.item_similarity_recommender.create(train_data, user_id='userId', item_id='gameName', target='Actions', similarity_type='pearson')\n"
   ]
  },
  {
   "cell_type": "code",
   "execution_count": 8,
   "metadata": {},
   "outputs": [
    {
     "data": {
      "text/plain": [
       "dtype: str\n",
       "Rows: 40\n",
       "['SimpleRockets', 'Jack Keane', 'Ride! Carnival Tycoon', 'Championship Manager 2010', 'Don Bradman Cricket 14', 'RECYCLE', \"Chip's Challenge 2\", 'Diaper Dash', 'Xpand Rally', 'Afterfall InSanity - Dirty Arena Edition', 'Funk of Titans', 'TyranoBuilder Visual Novel Studio', 'The Promised Land', 'Stargate Resistance', 'Warrior Kings Battles', \"Nobunaga's Ambition Souzou with Power Up Kit\", 'Fast & Furious Showdown', 'Rugby League Team Manager 2015', \"NOBUNAGA'S AMBITION Kakushin with Power Up Kit\", 'Eastside Hockey Manager', 'Star Traders 4X Empires', 'Dota 2', 'Duke Nukem Forever ', 'Maszyny Rolnicze 2015', 'Monochroma', 'Runestone Keeper', \"Cabela's Hunting Expeditions\", 'Professional Farmer 2014', 'Star Trek D-A-C', 'NBA 2K9', 'Speedball 2 Tournament', 'Football Manager 2009', 'X-Plane 10 Global - 64 Bit', 'London 2012 The Official Video Game of the Olympic Games', 'Football Manager 2012', 'GEARCRACK Arena', 'Football Manager 2010', \"YOU DON'T KNOW JACK\", 'Football Manager 2013', 'F1 2012']"
      ]
     },
     "execution_count": 8,
     "metadata": {},
     "output_type": "execute_result"
    }
   ],
   "source": [
    "# #Making recommendations\n",
    "item_sim_recomm = item_sim_model.recommend(users=['76767'],k=40)\n",
    "item_sim_recomm['gameName']\n"
   ]
  },
  {
   "cell_type": "code",
   "execution_count": null,
   "metadata": {},
   "outputs": [],
   "source": []
  }
 ],
 "metadata": {
  "kernelspec": {
   "display_name": "Python 3",
   "language": "python",
   "name": "python3"
  },
  "language_info": {
   "codemirror_mode": {
    "name": "ipython",
    "version": 3
   },
   "file_extension": ".py",
   "mimetype": "text/x-python",
   "name": "python",
   "nbconvert_exporter": "python",
   "pygments_lexer": "ipython3",
   "version": "3.6.4"
  }
 },
 "nbformat": 4,
 "nbformat_minor": 2
}

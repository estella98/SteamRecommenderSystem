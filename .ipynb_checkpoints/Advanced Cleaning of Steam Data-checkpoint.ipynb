{
 "cells": [
  {
   "cell_type": "markdown",
   "metadata": {},
   "source": [
    "## Advanced Cleaning of Steam Games Data\n",
    "\n",
    "In this notebook we try out two different recommenders on [Steam dataset on Kaggle](https://www.kaggle.com/tamber/steam-video-games). We will use:\n",
    "- ```numpy, pandas, sklearn``` for data preprocessing\n",
    "\n",
    "The dataset has no header but comes in 5 columns:\n",
    "- User ID: integer\n",
    "- Game title: string\n",
    "- Activity: string (purchase/play)\n",
    "- Status: float (1.0 if activity is purchase, total number of hours in game if activity is play)\n",
    "- A column full of 0's, will discard"
   ]
  },
  {
   "cell_type": "code",
   "execution_count": 1,
   "metadata": {},
   "outputs": [],
   "source": [
    "import pandas as pd\n",
    "import numpy as np \n",
    "import matplotlib\n",
    "# import matplotlib.pyplot as plt \n",
    "import seaborn as sns\n",
    "import turicreate\n",
    "import sklearn as sk\n",
    "from sklearn.preprocessing import Imputer\n",
    "from sklearn.model_selection import train_test_split"
   ]
  },
  {
   "cell_type": "code",
   "execution_count": 96,
   "metadata": {},
   "outputs": [
    {
     "data": {
      "text/html": [
       "<div>\n",
       "<style scoped>\n",
       "    .dataframe tbody tr th:only-of-type {\n",
       "        vertical-align: middle;\n",
       "    }\n",
       "\n",
       "    .dataframe tbody tr th {\n",
       "        vertical-align: top;\n",
       "    }\n",
       "\n",
       "    .dataframe thead th {\n",
       "        text-align: right;\n",
       "    }\n",
       "</style>\n",
       "<table border=\"1\" class=\"dataframe\">\n",
       "  <thead>\n",
       "    <tr style=\"text-align: right;\">\n",
       "      <th></th>\n",
       "      <th>userId</th>\n",
       "      <th>gameName</th>\n",
       "      <th>purchase</th>\n",
       "      <th>Actions</th>\n",
       "    </tr>\n",
       "  </thead>\n",
       "  <tbody>\n",
       "    <tr>\n",
       "      <th>0</th>\n",
       "      <td>151603712</td>\n",
       "      <td>The Elder Scrolls V Skyrim</td>\n",
       "      <td>play</td>\n",
       "      <td>273.0</td>\n",
       "    </tr>\n",
       "    <tr>\n",
       "      <th>1</th>\n",
       "      <td>151603712</td>\n",
       "      <td>Fallout 4</td>\n",
       "      <td>purchase</td>\n",
       "      <td>1.0</td>\n",
       "    </tr>\n",
       "    <tr>\n",
       "      <th>2</th>\n",
       "      <td>151603712</td>\n",
       "      <td>Fallout 4</td>\n",
       "      <td>play</td>\n",
       "      <td>87.0</td>\n",
       "    </tr>\n",
       "    <tr>\n",
       "      <th>3</th>\n",
       "      <td>151603712</td>\n",
       "      <td>Spore</td>\n",
       "      <td>purchase</td>\n",
       "      <td>1.0</td>\n",
       "    </tr>\n",
       "    <tr>\n",
       "      <th>4</th>\n",
       "      <td>151603712</td>\n",
       "      <td>Spore</td>\n",
       "      <td>play</td>\n",
       "      <td>14.9</td>\n",
       "    </tr>\n",
       "  </tbody>\n",
       "</table>\n",
       "</div>"
      ],
      "text/plain": [
       "      userId                    gameName  purchase  Actions\n",
       "0  151603712  The Elder Scrolls V Skyrim      play    273.0\n",
       "1  151603712                   Fallout 4  purchase      1.0\n",
       "2  151603712                   Fallout 4      play     87.0\n",
       "3  151603712                       Spore  purchase      1.0\n",
       "4  151603712                       Spore      play     14.9"
      ]
     },
     "execution_count": 96,
     "metadata": {},
     "output_type": "execute_result"
    }
   ],
   "source": [
    "games = pd.read_csv('steam-200k.csv')\n",
    "games = games.rename({'151603712':'userId', 'The Elder Scrolls V Skyrim': 'gameName', '1.0':'Actions'}, axis = 1)\n",
    "games.drop(['0'],axis = 1, inplace = True)\n",
    "games.head()"
   ]
  },
  {
   "cell_type": "markdown",
   "metadata": {},
   "source": [
    "### get a sense of the data by displaying some basic properties"
   ]
  },
  {
   "cell_type": "code",
   "execution_count": 95,
   "metadata": {},
   "outputs": [
    {
     "name": "stdout",
     "output_type": "stream",
     "text": [
      "<class 'pandas.core.frame.DataFrame'>\n",
      "RangeIndex: 199999 entries, 0 to 199998\n",
      "Data columns (total 4 columns):\n",
      "userId      199999 non-null int64\n",
      "gameName    199999 non-null object\n",
      "purchase    199999 non-null object\n",
      "Actions     199999 non-null float64\n",
      "dtypes: float64(1), int64(1), object(2)\n",
      "memory usage: 6.1+ MB\n",
      "number of distinct users = 12393\n",
      "number of distinct games = 5155\n"
     ]
    }
   ],
   "source": [
    "games.info()\n",
    "print(\"number of distinct users = %d\" %games['userId'].nunique()) \n",
    "print(\"number of distinct games = %d\" %games['gameName'].nunique()) "
   ]
  },
  {
   "cell_type": "markdown",
   "metadata": {},
   "source": [
    "According to the description of the dataset, when the value under purchase column is equal to 'purchase', the Actions will always be 1.0. Therefore, those information is considered as redundant and could be nicely cleaned if we split the purchase column into two individual columns representing 'purchase' and 'play'"
   ]
  },
  {
   "cell_type": "code",
   "execution_count": 99,
   "metadata": {},
   "outputs": [
    {
     "name": "stdout",
     "output_type": "stream",
     "text": [
      "           userId                    gameName  purchase  play  Actions\n",
      "129534  151603712  The Elder Scrolls V Skyrim       NaN   1.0    273.0\n"
     ]
    }
   ],
   "source": [
    "# split the purchase column to two dataframes and perform an outer join to group highly duplicated row\n",
    "games_temp = games[games['purchase'] == 'play']\n",
    "games_temp =games_temp.rename({'purchase':'play'}, axis = 1)\n",
    "games = games[games.purchase =='purchase']\n",
    "games.drop(columns = 'Actions', inplace = True)\n",
    "result = pd.merge(games,games_temp, how='outer', on=['userId','gameName'])\n",
    "# reindex to group the data associated with the same user together\n",
    "reindex_result = result.sort_values(by = 'userId')\n",
    "reindex_result.set_index(np.arange(len(reindex_result.index)))\n",
    "reindex_result.purchase.replace(['purchase'], [1], inplace=True)\n",
    "reindex_result.play.replace(['play'], [1], inplace=True)\n",
    "# check whether the data has been fully merged \n",
    "check= reindex_result[reindex_result.purchase != 1]\n",
    "print(check)"
   ]
  },
  {
   "cell_type": "markdown",
   "metadata": {},
   "source": [
    "This is very likely an input mistake as it is the only occasion when a game is played but not yet purchased by the user.  we will manually change purchase value to 1 in this case"
   ]
  },
  {
   "cell_type": "code",
   "execution_count": 103,
   "metadata": {},
   "outputs": [
    {
     "name": "stdout",
     "output_type": "stream",
     "text": [
      "<class 'pandas.core.frame.DataFrame'>\n",
      "Int64Index: 129535 entries, 41879 to 83172\n",
      "Data columns (total 5 columns):\n",
      "userId      129535 non-null int64\n",
      "gameName    129535 non-null object\n",
      "purchase    129535 non-null float64\n",
      "play        70785 non-null float64\n",
      "Actions     70785 non-null float64\n",
      "dtypes: float64(3), int64(1), object(1)\n",
      "memory usage: 10.9+ MB\n"
     ]
    }
   ],
   "source": [
    "reindex_result.loc[129534,'purchase'] = 1\n",
    "reindex_result.info()"
   ]
  },
  {
   "cell_type": "markdown",
   "metadata": {},
   "source": [
    "now we have finish the basic data cleaning.  We could take a deeper look into the data and start some advanced data training to prepare for our recommender system"
   ]
  },
  {
   "cell_type": "code",
   "execution_count": 107,
   "metadata": {},
   "outputs": [],
   "source": [
    "data_copy = reindex_result"
   ]
  },
  {
   "cell_type": "markdown",
   "metadata": {},
   "source": [
    " Again, we can easily get basic information about the data in each column "
   ]
  },
  {
   "cell_type": "code",
   "execution_count": 108,
   "metadata": {},
   "outputs": [
    {
     "data": {
      "text/html": [
       "<div>\n",
       "<style scoped>\n",
       "    .dataframe tbody tr th:only-of-type {\n",
       "        vertical-align: middle;\n",
       "    }\n",
       "\n",
       "    .dataframe tbody tr th {\n",
       "        vertical-align: top;\n",
       "    }\n",
       "\n",
       "    .dataframe thead th {\n",
       "        text-align: right;\n",
       "    }\n",
       "</style>\n",
       "<table border=\"1\" class=\"dataframe\">\n",
       "  <thead>\n",
       "    <tr style=\"text-align: right;\">\n",
       "      <th></th>\n",
       "      <th>userId</th>\n",
       "      <th>purchase</th>\n",
       "      <th>play</th>\n",
       "      <th>Actions</th>\n",
       "    </tr>\n",
       "  </thead>\n",
       "  <tbody>\n",
       "    <tr>\n",
       "      <th>count</th>\n",
       "      <td>1.295350e+05</td>\n",
       "      <td>129535.0</td>\n",
       "      <td>70785.0</td>\n",
       "      <td>70785.000000</td>\n",
       "    </tr>\n",
       "    <tr>\n",
       "      <th>mean</th>\n",
       "      <td>1.024410e+08</td>\n",
       "      <td>1.0</td>\n",
       "      <td>1.0</td>\n",
       "      <td>48.770761</td>\n",
       "    </tr>\n",
       "    <tr>\n",
       "      <th>std</th>\n",
       "      <td>7.236206e+07</td>\n",
       "      <td>0.0</td>\n",
       "      <td>0.0</td>\n",
       "      <td>228.927258</td>\n",
       "    </tr>\n",
       "    <tr>\n",
       "      <th>min</th>\n",
       "      <td>5.250000e+03</td>\n",
       "      <td>1.0</td>\n",
       "      <td>1.0</td>\n",
       "      <td>0.100000</td>\n",
       "    </tr>\n",
       "    <tr>\n",
       "      <th>25%</th>\n",
       "      <td>4.548346e+07</td>\n",
       "      <td>1.0</td>\n",
       "      <td>1.0</td>\n",
       "      <td>1.000000</td>\n",
       "    </tr>\n",
       "    <tr>\n",
       "      <th>50%</th>\n",
       "      <td>8.605570e+07</td>\n",
       "      <td>1.0</td>\n",
       "      <td>1.0</td>\n",
       "      <td>4.500000</td>\n",
       "    </tr>\n",
       "    <tr>\n",
       "      <th>75%</th>\n",
       "      <td>1.542307e+08</td>\n",
       "      <td>1.0</td>\n",
       "      <td>1.0</td>\n",
       "      <td>19.100000</td>\n",
       "    </tr>\n",
       "    <tr>\n",
       "      <th>max</th>\n",
       "      <td>3.099031e+08</td>\n",
       "      <td>1.0</td>\n",
       "      <td>1.0</td>\n",
       "      <td>11754.000000</td>\n",
       "    </tr>\n",
       "  </tbody>\n",
       "</table>\n",
       "</div>"
      ],
      "text/plain": [
       "             userId  purchase     play       Actions\n",
       "count  1.295350e+05  129535.0  70785.0  70785.000000\n",
       "mean   1.024410e+08       1.0      1.0     48.770761\n",
       "std    7.236206e+07       0.0      0.0    228.927258\n",
       "min    5.250000e+03       1.0      1.0      0.100000\n",
       "25%    4.548346e+07       1.0      1.0      1.000000\n",
       "50%    8.605570e+07       1.0      1.0      4.500000\n",
       "75%    1.542307e+08       1.0      1.0     19.100000\n",
       "max    3.099031e+08       1.0      1.0  11754.000000"
      ]
     },
     "execution_count": 108,
     "metadata": {},
     "output_type": "execute_result"
    }
   ],
   "source": [
    "data_copy.describe()"
   ]
  },
  {
   "cell_type": "markdown",
   "metadata": {},
   "source": [
    "### Some obervations\n",
    "\n",
    "Above summary shows that ```purchase``` has only a single value 1.0. We will **not** include purchase status in building our recommender, for two reasons:\n",
    "1. number of hours played is more interesting to look at - it is an implicit feedback of the user's preference for games he/she has purchased\n",
    "2. if using [Jaccard similarity](https://apple.github.io/turicreate/docs/api/generated/turicreate.recommender.item_similarity_recommender.ItemSimilarityRecommender.html) when measuring the similarity between two sets of elements, the number of hours played are treated as binary purchase status (1/0)\n",
    "\n",
    "For ```play``` column, the data is heavily skewed and has a large range. There are different ways to do normalization. Since we are going to use it to represent the user's ranking of preference within his / her own purchases, let's convert it to the percentage of hours each user spends on each game he / she owns. \n",
    "\n",
    "But before doing that, notice there are 128804 purchase records and only 70489 play records, meaning some users bought certain games but never played them. We need to find a score for those less-favoured games too. To differentiate them from the games that a user has never bought, we can impute the corresponding play fields with a small value less than the min 0.1, say 0.05. Then we can move on to calculate the percentage as planned."
   ]
  },
  {
   "cell_type": "code",
   "execution_count": 109,
   "metadata": {},
   "outputs": [],
   "source": [
    "data_copy.drop(\"purchase\", axis = 1, inplace = True)\n",
    "data_copy[\"Actions\"].fillna(0.05, inplace=True)\n",
    "data_copy[\"play\"].fillna(0, inplace=True)\n"
   ]
  },
  {
   "cell_type": "markdown",
   "metadata": {},
   "source": [
    "just in case there is duplicated row in the dataframe, we implement the following function to ensure that every row in our dataframe will be distinct"
   ]
  },
  {
   "cell_type": "code",
   "execution_count": 110,
   "metadata": {},
   "outputs": [],
   "source": [
    "#remove duplicates \n",
    "data_copy = data_copy.drop_duplicates(subset=None,keep=\"first\")"
   ]
  },
  {
   "cell_type": "markdown",
   "metadata": {},
   "source": [
    "besides, we could also have duplicated rows with the same userId and gameName appearing together. This might be some mistakes that happen during the data collection stage so that the hours has not been fully merged and accumulated. we wanna sum up the number of hours for the corrections"
   ]
  },
  {
   "cell_type": "code",
   "execution_count": 111,
   "metadata": {},
   "outputs": [
    {
     "name": "stdout",
     "output_type": "stream",
     "text": [
      "       userId                                      gameName  Actions\n",
      "0    28472068                          Grand Theft Auto III      0.5\n",
      "1    28472068                  Grand Theft Auto San Andreas      0.9\n",
      "2    28472068                    Grand Theft Auto Vice City      5.7\n",
      "3    33865373                   Sid Meier's Civilization IV    137.0\n",
      "4    50769696                  Grand Theft Auto San Andreas     14.0\n",
      "5    59925638                       Tom Clancy's H.A.W.X. 2      7.4\n",
      "6    71411882                          Grand Theft Auto III      1.3\n",
      "7    71510748                  Grand Theft Auto San Andreas      0.8\n",
      "8   118664413                  Grand Theft Auto San Andreas      2.1\n",
      "9   148362155                  Grand Theft Auto San Andreas     26.3\n",
      "10  176261926                   Sid Meier's Civilization IV     14.8\n",
      "11  176261926  Sid Meier's Civilization IV Beyond the Sword    564.4\n"
     ]
    },
    {
     "name": "stderr",
     "output_type": "stream",
     "text": [
      "/Library/Frameworks/Python.framework/Versions/3.6/lib/python3.6/site-packages/pandas/core/frame.py:5516: SettingWithCopyWarning: \n",
      "A value is trying to be set on a copy of a slice from a DataFrame.\n",
      "Try using .loc[row_indexer,col_indexer] = value instead\n",
      "\n",
      "See the caveats in the documentation: http://pandas.pydata.org/pandas-docs/stable/indexing.html#indexing-view-versus-copy\n",
      "  self[col] = expressions.where(mask, this, that)\n"
     ]
    }
   ],
   "source": [
    "dp = data_copy[data_copy.duplicated(subset=['userId','gameName'], keep=False)]\n",
    "dp = dp.groupby(['userId','gameName'], as_index=False)['Actions'].sum()\n",
    "print(dp)\n",
    "dp = dp.groupby(['userId','gameName'], as_index=False)['Actions'].sum()\n",
    "data_copy.update(dp)\n",
    "data_copy = data_copy.drop_duplicates(subset=['userId','gameName'],keep=\"first\")"
   ]
  },
  {
   "cell_type": "markdown",
   "metadata": {},
   "source": [
    "Replace actual hours played with percentage of hours on a game for each user"
   ]
  },
  {
   "cell_type": "code",
   "execution_count": 112,
   "metadata": {},
   "outputs": [],
   "source": [
    "d = data_copy.groupby('userId')['Actions'].apply(lambda x: x/ x.sum())\n",
    "data_copy.update(d)\n",
    "# convert userId to int\n",
    "data_copy['userId'] = data_copy['userId'].astype(int)"
   ]
  },
  {
   "cell_type": "markdown",
   "metadata": {},
   "source": [
    "### Output and save the dataframe"
   ]
  },
  {
   "cell_type": "code",
   "execution_count": 113,
   "metadata": {},
   "outputs": [],
   "source": [
    "data_copy.to_pickle('clean_steam.pkl')"
   ]
  },
  {
   "cell_type": "markdown",
   "metadata": {},
   "source": [
    "### Before building the recommender, here is an optional step - indexing the game names with integers\n",
    "Based on doc of turicreate.recommender.create, the user ID and item ID columns can be either int or str, meaning that keeping the game title as is should be fine. Here let's do an extra step that indexes those strings with integers. (Maybe when we feel less lazy we can try spark.ml's recommender on it too.)\n",
    "\n",
    "However indexing is essential when you build models with Spark's machine learning libraries."
   ]
  },
  {
   "cell_type": "code",
   "execution_count": 114,
   "metadata": {},
   "outputs": [],
   "source": [
    "data_copy['gameId']= data_copy.gameName.astype('category').cat.codes"
   ]
  },
  {
   "cell_type": "markdown",
   "metadata": {},
   "source": [
    "### we want to create a look up table for the gameName and gameId columns"
   ]
  },
  {
   "cell_type": "code",
   "execution_count": 115,
   "metadata": {},
   "outputs": [
    {
     "name": "stdout",
     "output_type": "stream",
     "text": [
      "<class 'pandas.core.frame.DataFrame'>\n",
      "Int64Index: 128792 entries, 41879 to 83172\n",
      "Data columns (total 5 columns):\n",
      "userId      128792 non-null int64\n",
      "gameName    128792 non-null object\n",
      "play        128792 non-null float64\n",
      "Actions     128792 non-null float64\n",
      "gameId      128792 non-null int16\n",
      "dtypes: float64(2), int16(1), int64(1), object(1)\n",
      "memory usage: 5.2+ MB\n"
     ]
    }
   ],
   "source": [
    "data_copy.info()"
   ]
  },
  {
   "cell_type": "code",
   "execution_count": 129,
   "metadata": {},
   "outputs": [],
   "source": [
    "game_map = data_copy[['gameName','gameId']].copy().drop_duplicates().sort_values(by=['gameId'])\n",
    "game_map.head()\n",
    "data_copy.to_pickle('gameMap.pkl')\n",
    "export_csv = game_map.to_csv ('gameList.csv', index = None, header=True)"
   ]
  },
  {
   "cell_type": "markdown",
   "metadata": {},
   "source": [
    "### Item - Item similarity model in Turicreate"
   ]
  },
  {
   "cell_type": "markdown",
   "metadata": {},
   "source": [
    "According to the documentation [here](https://apple.github.io/turicreate/docs/userguide/recommender/using-trained-models.html), turicreate excludes the items that are observed for each user. In order to test the accuracy of the model, it is important to split a proportion of user's data into train and test for validation. \n",
    "but for now, let us just feed all the data in to our model.\n",
    "\n",
    "There are 3 similarity measurements for similarity type - jaccard, cosine and pearson. In our case, We choose Pearson to measure the loss."
   ]
  },
  {
   "cell_type": "code",
   "execution_count": 130,
   "metadata": {},
   "outputs": [
    {
     "data": {
      "text/html": [
       "<pre>Warning: Ignoring columns gameName, play;</pre>"
      ],
      "text/plain": [
       "Warning: Ignoring columns gameName, play;"
      ]
     },
     "metadata": {},
     "output_type": "display_data"
    },
    {
     "data": {
      "text/html": [
       "<pre>    To use these columns in scoring predictions, use a model that allows the use of additional features.</pre>"
      ],
      "text/plain": [
       "    To use these columns in scoring predictions, use a model that allows the use of additional features."
      ]
     },
     "metadata": {},
     "output_type": "display_data"
    },
    {
     "data": {
      "text/html": [
       "<pre>Preparing data set.</pre>"
      ],
      "text/plain": [
       "Preparing data set."
      ]
     },
     "metadata": {},
     "output_type": "display_data"
    },
    {
     "data": {
      "text/html": [
       "<pre>    Data has 128792 observations with 12393 users and 5155 items.</pre>"
      ],
      "text/plain": [
       "    Data has 128792 observations with 12393 users and 5155 items."
      ]
     },
     "metadata": {},
     "output_type": "display_data"
    },
    {
     "data": {
      "text/html": [
       "<pre>    Data prepared in: 0.132695s</pre>"
      ],
      "text/plain": [
       "    Data prepared in: 0.132695s"
      ]
     },
     "metadata": {},
     "output_type": "display_data"
    },
    {
     "data": {
      "text/html": [
       "<pre>Training model from provided data.</pre>"
      ],
      "text/plain": [
       "Training model from provided data."
      ]
     },
     "metadata": {},
     "output_type": "display_data"
    },
    {
     "data": {
      "text/html": [
       "<pre>Gathering per-item and per-user statistics.</pre>"
      ],
      "text/plain": [
       "Gathering per-item and per-user statistics."
      ]
     },
     "metadata": {},
     "output_type": "display_data"
    },
    {
     "data": {
      "text/html": [
       "<pre>+--------------------------------+------------+</pre>"
      ],
      "text/plain": [
       "+--------------------------------+------------+"
      ]
     },
     "metadata": {},
     "output_type": "display_data"
    },
    {
     "data": {
      "text/html": [
       "<pre>| Elapsed Time (Item Statistics) | % Complete |</pre>"
      ],
      "text/plain": [
       "| Elapsed Time (Item Statistics) | % Complete |"
      ]
     },
     "metadata": {},
     "output_type": "display_data"
    },
    {
     "data": {
      "text/html": [
       "<pre>+--------------------------------+------------+</pre>"
      ],
      "text/plain": [
       "+--------------------------------+------------+"
      ]
     },
     "metadata": {},
     "output_type": "display_data"
    },
    {
     "data": {
      "text/html": [
       "<pre>| 7.196ms                        | 8          |</pre>"
      ],
      "text/plain": [
       "| 7.196ms                        | 8          |"
      ]
     },
     "metadata": {},
     "output_type": "display_data"
    },
    {
     "data": {
      "text/html": [
       "<pre>| 18.282ms                       | 100        |</pre>"
      ],
      "text/plain": [
       "| 18.282ms                       | 100        |"
      ]
     },
     "metadata": {},
     "output_type": "display_data"
    },
    {
     "data": {
      "text/html": [
       "<pre>+--------------------------------+------------+</pre>"
      ],
      "text/plain": [
       "+--------------------------------+------------+"
      ]
     },
     "metadata": {},
     "output_type": "display_data"
    },
    {
     "data": {
      "text/html": [
       "<pre>Setting up lookup tables.</pre>"
      ],
      "text/plain": [
       "Setting up lookup tables."
      ]
     },
     "metadata": {},
     "output_type": "display_data"
    },
    {
     "data": {
      "text/html": [
       "<pre>Processing data in one pass using dense lookup tables.</pre>"
      ],
      "text/plain": [
       "Processing data in one pass using dense lookup tables."
      ]
     },
     "metadata": {},
     "output_type": "display_data"
    },
    {
     "data": {
      "text/html": [
       "<pre>+-------------------------------------+------------------+-----------------+</pre>"
      ],
      "text/plain": [
       "+-------------------------------------+------------------+-----------------+"
      ]
     },
     "metadata": {},
     "output_type": "display_data"
    },
    {
     "data": {
      "text/html": [
       "<pre>| Elapsed Time (Constructing Lookups) | Total % Complete | Items Processed |</pre>"
      ],
      "text/plain": [
       "| Elapsed Time (Constructing Lookups) | Total % Complete | Items Processed |"
      ]
     },
     "metadata": {},
     "output_type": "display_data"
    },
    {
     "data": {
      "text/html": [
       "<pre>+-------------------------------------+------------------+-----------------+</pre>"
      ],
      "text/plain": [
       "+-------------------------------------+------------------+-----------------+"
      ]
     },
     "metadata": {},
     "output_type": "display_data"
    },
    {
     "data": {
      "text/html": [
       "<pre>| 74.598ms                            | 0                | 0               |</pre>"
      ],
      "text/plain": [
       "| 74.598ms                            | 0                | 0               |"
      ]
     },
     "metadata": {},
     "output_type": "display_data"
    },
    {
     "data": {
      "text/html": [
       "<pre>| 465.392ms                           | 100              | 5155            |</pre>"
      ],
      "text/plain": [
       "| 465.392ms                           | 100              | 5155            |"
      ]
     },
     "metadata": {},
     "output_type": "display_data"
    },
    {
     "data": {
      "text/html": [
       "<pre>+-------------------------------------+------------------+-----------------+</pre>"
      ],
      "text/plain": [
       "+-------------------------------------+------------------+-----------------+"
      ]
     },
     "metadata": {},
     "output_type": "display_data"
    },
    {
     "data": {
      "text/html": [
       "<pre>Finalizing lookup tables.</pre>"
      ],
      "text/plain": [
       "Finalizing lookup tables."
      ]
     },
     "metadata": {},
     "output_type": "display_data"
    },
    {
     "data": {
      "text/html": [
       "<pre>Generating candidate set for working with new users.</pre>"
      ],
      "text/plain": [
       "Generating candidate set for working with new users."
      ]
     },
     "metadata": {},
     "output_type": "display_data"
    },
    {
     "data": {
      "text/html": [
       "<pre>Finished training in 0.520646s</pre>"
      ],
      "text/plain": [
       "Finished training in 0.520646s"
      ]
     },
     "metadata": {},
     "output_type": "display_data"
    }
   ],
   "source": [
    "# create SFrame from DataFrame\n",
    "from turicreate import SFrame\n",
    "\n",
    "game_sf = SFrame(data=data_copy)\n",
    "\n",
    "item_item_reco = turicreate.recommender.item_similarity_recommender.create( \\\n",
    "    game_sf, user_id='userId', item_id='gameId', \\\n",
    "    target=\"Actions\", similarity_type='pearson')"
   ]
  },
  {
   "cell_type": "code",
   "execution_count": 131,
   "metadata": {},
   "outputs": [],
   "source": [
    "# Get the k most similar items for each item in items. Default number is 10.\n",
    "similar_games = item_item_reco.get_similar_items()"
   ]
  },
  {
   "cell_type": "markdown",
   "metadata": {},
   "source": [
    "now We have created the model. Turicreate provides a nice functionality for users to check the k most similar items of an input. We would like to expriment our model with a few sample inputs."
   ]
  },
  {
   "cell_type": "code",
   "execution_count": 138,
   "metadata": {},
   "outputs": [
    {
     "name": "stdout",
     "output_type": "stream",
     "text": [
      "+--------+-------------------------+---------+-------------------------------+\n",
      "| gameId |         gameName        | similar |          similar_game         |\n",
      "+--------+-------------------------+---------+-------------------------------+\n",
      "|  2072  | Half-Life 2 Episode One |   2070  |          Half-Life 2          |\n",
      "|  2072  | Half-Life 2 Episode One |   2077  |  Half-Life Deathmatch Source  |\n",
      "|  2072  | Half-Life 2 Episode One |   2073  |    Half-Life 2 Episode Two    |\n",
      "|  2072  | Half-Life 2 Episode One |   2074  |     Half-Life 2 Lost Coast    |\n",
      "|  2072  | Half-Life 2 Episode One |   3627  |       SEGA Bass Fishing       |\n",
      "|  2072  | Half-Life 2 Episode One |   1003  |           Crazy Taxi          |\n",
      "|  2072  | Half-Life 2 Episode One |   480   | Battlefield Bad Company 2 ... |\n",
      "|  2072  | Half-Life 2 Episode One |   3222  |             Portal            |\n",
      "|  2072  | Half-Life 2 Episode One |   2076  |      Half-Life Blue Shift     |\n",
      "|  2072  | Half-Life 2 Episode One |   1073  |             DEFCON            |\n",
      "+--------+-------------------------+---------+-------------------------------+\n",
      "+----------------------+------+\n",
      "|        score         | rank |\n",
      "+----------------------+------+\n",
      "| 0.12549066543579102  |  1   |\n",
      "| 0.11610662937164307  |  2   |\n",
      "| 0.09407681226730347  |  3   |\n",
      "| 0.07755649089813232  |  4   |\n",
      "| 0.07511734962463379  |  5   |\n",
      "| 0.06992805004119873  |  6   |\n",
      "| 0.05807262659072876  |  7   |\n",
      "| 0.055140018463134766 |  8   |\n",
      "| 0.04686927795410156  |  9   |\n",
      "| 0.045857906341552734 |  10  |\n",
      "+----------------------+------+\n",
      "[10 rows x 6 columns]\n",
      "\n"
     ]
    }
   ],
   "source": [
    "# for example to check some results\n",
    "game_map_sframe = turicreate.SFrame(game_map)\n",
    "\n",
    "similar_games_named = similar_games.join(game_map_sframe, on=\"gameId\", how=\"left\") \\\n",
    "   .join(game_map_sframe, on={\"similar\":\"gameId\"}, how=\"left\") \\\n",
    "  .rename({\"gameName.1\":\"similar_game\"}, True) \\\n",
    "   .select_columns([\"gameId\", \"gameName\", \"similar\", \"similar_game\", \"score\", \"rank\"])\n",
    "\n",
    "# print the result of one game for testing\n",
    "a =similar_games_named[similar_games_named['gameName']== \"Half-Life 2 Episode One\"]\n",
    "a.print_rows(num_rows=10, num_columns=6) \n"
   ]
  },
  {
   "cell_type": "code",
   "execution_count": 149,
   "metadata": {},
   "outputs": [
    {
     "name": "stdout",
     "output_type": "stream",
     "text": [
      "+--------+----------+---------+-----------------------------+\n",
      "| gameId | gameName | similar |         similar_game        |\n",
      "+--------+----------+---------+-----------------------------+\n",
      "|  2848  | NBA 2K12 |   3043  | Out of the Park Baseball 14 |\n",
      "|  2848  | NBA 2K12 |   2581  |           MLB 2K10          |\n",
      "|  2848  | NBA 2K12 |   2582  |           MLB 2K11          |\n",
      "|  2848  | NBA 2K12 |   5080  |             Ys I            |\n",
      "|  2848  | NBA 2K12 |   4386  |        The Golf Club        |\n",
      "|  2848  | NBA 2K12 |   2853  |           NBA 2K9           |\n",
      "|  2848  | NBA 2K12 |   2584  |   MLB Front Office Manager  |\n",
      "|  2848  | NBA 2K12 |   3789  |       Shattered Union       |\n",
      "|  2848  | NBA 2K12 |   866   |         CivCity Rome        |\n",
      "|  2848  | NBA 2K12 |   2311  | Jade Empire Special Edition |\n",
      "+--------+----------+---------+-----------------------------+\n",
      "+---------------------+------+\n",
      "|        score        | rank |\n",
      "+---------------------+------+\n",
      "|  0.5828672647476196 |  1   |\n",
      "|  0.5110442042350769 |  2   |\n",
      "|  0.5110442042350769 |  3   |\n",
      "|  0.3457685708999634 |  4   |\n",
      "| 0.33307164907455444 |  5   |\n",
      "| 0.12326240539550781 |  6   |\n",
      "| 0.12310653924942017 |  7   |\n",
      "| 0.08859950304031372 |  8   |\n",
      "| 0.08435004949569702 |  9   |\n",
      "| 0.06696063280105591 |  10  |\n",
      "+---------------------+------+\n",
      "[10 rows x 6 columns]\n",
      "\n"
     ]
    }
   ],
   "source": [
    "# print the result of one game for testing\n",
    "b =similar_games_named[similar_games_named['gameName']==  'NBA 2K12']\n",
    "b.print_rows(num_rows=10, num_columns=6) "
   ]
  },
  {
   "cell_type": "markdown",
   "metadata": {},
   "source": [
    "It seems the result we get is actually reasonable.  The model is able to find games in similar genres, and sometimes even the same game of other versions. This proves that our model we build is able to capture the relationships embedded behind the mappings of items and users."
   ]
  },
  {
   "cell_type": "markdown",
   "metadata": {},
   "source": [
    "### Let's pick a user and see what recommendations he / she gets:"
   ]
  },
  {
   "cell_type": "code",
   "execution_count": 43,
   "metadata": {},
   "outputs": [
    {
     "data": {
      "text/html": [
       "<pre>recommendations finished on 1000/12393 queries. users per second: 17640.7</pre>"
      ],
      "text/plain": [
       "recommendations finished on 1000/12393 queries. users per second: 17640.7"
      ]
     },
     "metadata": {},
     "output_type": "display_data"
    },
    {
     "data": {
      "text/html": [
       "<pre>recommendations finished on 2000/12393 queries. users per second: 19962.7</pre>"
      ],
      "text/plain": [
       "recommendations finished on 2000/12393 queries. users per second: 19962.7"
      ]
     },
     "metadata": {},
     "output_type": "display_data"
    },
    {
     "data": {
      "text/html": [
       "<pre>recommendations finished on 3000/12393 queries. users per second: 21226.9</pre>"
      ],
      "text/plain": [
       "recommendations finished on 3000/12393 queries. users per second: 21226.9"
      ]
     },
     "metadata": {},
     "output_type": "display_data"
    },
    {
     "data": {
      "text/html": [
       "<pre>recommendations finished on 4000/12393 queries. users per second: 21591.2</pre>"
      ],
      "text/plain": [
       "recommendations finished on 4000/12393 queries. users per second: 21591.2"
      ]
     },
     "metadata": {},
     "output_type": "display_data"
    },
    {
     "data": {
      "text/html": [
       "<pre>recommendations finished on 5000/12393 queries. users per second: 21770.6</pre>"
      ],
      "text/plain": [
       "recommendations finished on 5000/12393 queries. users per second: 21770.6"
      ]
     },
     "metadata": {},
     "output_type": "display_data"
    },
    {
     "data": {
      "text/html": [
       "<pre>recommendations finished on 6000/12393 queries. users per second: 21460.3</pre>"
      ],
      "text/plain": [
       "recommendations finished on 6000/12393 queries. users per second: 21460.3"
      ]
     },
     "metadata": {},
     "output_type": "display_data"
    },
    {
     "data": {
      "text/html": [
       "<pre>recommendations finished on 7000/12393 queries. users per second: 21989.7</pre>"
      ],
      "text/plain": [
       "recommendations finished on 7000/12393 queries. users per second: 21989.7"
      ]
     },
     "metadata": {},
     "output_type": "display_data"
    },
    {
     "data": {
      "text/html": [
       "<pre>recommendations finished on 8000/12393 queries. users per second: 22212.1</pre>"
      ],
      "text/plain": [
       "recommendations finished on 8000/12393 queries. users per second: 22212.1"
      ]
     },
     "metadata": {},
     "output_type": "display_data"
    },
    {
     "data": {
      "text/html": [
       "<pre>recommendations finished on 9000/12393 queries. users per second: 21953.2</pre>"
      ],
      "text/plain": [
       "recommendations finished on 9000/12393 queries. users per second: 21953.2"
      ]
     },
     "metadata": {},
     "output_type": "display_data"
    },
    {
     "data": {
      "text/html": [
       "<pre>recommendations finished on 10000/12393 queries. users per second: 21913.9</pre>"
      ],
      "text/plain": [
       "recommendations finished on 10000/12393 queries. users per second: 21913.9"
      ]
     },
     "metadata": {},
     "output_type": "display_data"
    },
    {
     "data": {
      "text/html": [
       "<pre>recommendations finished on 11000/12393 queries. users per second: 21565.8</pre>"
      ],
      "text/plain": [
       "recommendations finished on 11000/12393 queries. users per second: 21565.8"
      ]
     },
     "metadata": {},
     "output_type": "display_data"
    },
    {
     "data": {
      "text/html": [
       "<pre>recommendations finished on 12000/12393 queries. users per second: 21858.8</pre>"
      ],
      "text/plain": [
       "recommendations finished on 12000/12393 queries. users per second: 21858.8"
      ]
     },
     "metadata": {},
     "output_type": "display_data"
    },
    {
     "name": "stdout",
     "output_type": "stream",
     "text": [
      "+--------+--------+-------+------+--------------------------------+\n",
      "| userId | gameId | score | rank |            gameName            |\n",
      "+--------+--------+-------+------+--------------------------------+\n",
      "|  5250  |  5061  |  1.0  |  1   |          Xpand Rally           |\n",
      "|  5250  |  3364  |  1.0  |  2   |            RECYCLE             |\n",
      "|  5250  |  1324  |  1.0  |  3   |     Don Bradman Cricket 14     |\n",
      "|  5250  |  838   |  1.0  |  4   |         Choplifter HD          |\n",
      "|  5250  |  2955  |  1.0  |  5   | Nobunaga's Ambition Souzou...  |\n",
      "|  5250  |  1271  |  1.0  |  6   |          Diaper Dash           |\n",
      "|  5250  |  4934  |  1.0  |  7   |     Warrior Kings Battles      |\n",
      "|  5250  |  2265  |  1.0  |  8   |            Insane 2            |\n",
      "|  5250  |  3600  |  1.0  |  9   | Rugby League Team Manager 2015 |\n",
      "|  5250  |  1705  |  1.0  |  10  |    Fast & Furious Showdown     |\n",
      "+--------+--------+-------+------+--------------------------------+\n",
      "[123930 rows x 5 columns]\n",
      "Note: Only the head of the SFrame is printed.\n",
      "You can use print_rows(num_rows=m, num_columns=n) to print more rows and columns.\n"
     ]
    }
   ],
   "source": [
    "rec_result = item_item_reco.recommend(diversity=1,random_seed=0).join(game_map_sframe, on=\"gameId\", how=\"left\")\n",
    "print (rec_result)"
   ]
  },
  {
   "cell_type": "markdown",
   "metadata": {},
   "source": [
    "### In order to better estimate the accuracy of our model, we decide to split the training and testing set, and use \"precision_recall\" as our metric. \n",
    "check [here](https://apple.github.io/turicreate/docs/api/generated/turicreate.recommender.item_similarity_recommender.ItemSimilarityRecommender.evaluate.html#turicreate.recommender.item_similarity_recommender.ItemSimilarityRecommender.evaluate) for more info."
   ]
  },
  {
   "cell_type": "code",
   "execution_count": 16,
   "metadata": {},
   "outputs": [],
   "source": [
    "game_sf2 = SFrame(data=data_copy)\n",
    "\n",
    "#The test dataset is generated by first choosing max_num_users out of the total number of users in dataset. Then, for each of the chosen test users, \n",
    "#a portion of the user’s items (determined by item_test_proportion) is randomly chosen to be included in the test set. \n",
    "#This split allows the training data to retain enough information about the users in the testset, so that adequate recommendations can be made. \n",
    "#The total number of users in the test set may be fewer than max_num_users if a user was chosen for the test set but none of their items are selected.\n",
    "\n",
    "train_sframe, test_sframe = turicreate.recommender.util.random_split_by_user(game_sf2, user_id=\"userId\", item_id=\"gameId\", max_num_users=500,item_test_proportion=0.2,random_seed = 0)"
   ]
  },
  {
   "cell_type": "code",
   "execution_count": 53,
   "metadata": {},
   "outputs": [
    {
     "data": {
      "text/html": [
       "<pre>Warning: Ignoring columns gameName, play;</pre>"
      ],
      "text/plain": [
       "Warning: Ignoring columns gameName, play;"
      ]
     },
     "metadata": {},
     "output_type": "display_data"
    },
    {
     "data": {
      "text/html": [
       "<pre>    To use these columns in scoring predictions, use a model that allows the use of additional features.</pre>"
      ],
      "text/plain": [
       "    To use these columns in scoring predictions, use a model that allows the use of additional features."
      ]
     },
     "metadata": {},
     "output_type": "display_data"
    },
    {
     "data": {
      "text/html": [
       "<pre>Preparing data set.</pre>"
      ],
      "text/plain": [
       "Preparing data set."
      ]
     },
     "metadata": {},
     "output_type": "display_data"
    },
    {
     "data": {
      "text/html": [
       "<pre>    Data has 128792 observations with 12393 users and 5155 items.</pre>"
      ],
      "text/plain": [
       "    Data has 128792 observations with 12393 users and 5155 items."
      ]
     },
     "metadata": {},
     "output_type": "display_data"
    },
    {
     "data": {
      "text/html": [
       "<pre>    Data prepared in: 0.137561s</pre>"
      ],
      "text/plain": [
       "    Data prepared in: 0.137561s"
      ]
     },
     "metadata": {},
     "output_type": "display_data"
    },
    {
     "data": {
      "text/html": [
       "<pre>Training model from provided data.</pre>"
      ],
      "text/plain": [
       "Training model from provided data."
      ]
     },
     "metadata": {},
     "output_type": "display_data"
    },
    {
     "data": {
      "text/html": [
       "<pre>Gathering per-item and per-user statistics.</pre>"
      ],
      "text/plain": [
       "Gathering per-item and per-user statistics."
      ]
     },
     "metadata": {},
     "output_type": "display_data"
    },
    {
     "data": {
      "text/html": [
       "<pre>+--------------------------------+------------+</pre>"
      ],
      "text/plain": [
       "+--------------------------------+------------+"
      ]
     },
     "metadata": {},
     "output_type": "display_data"
    },
    {
     "data": {
      "text/html": [
       "<pre>| Elapsed Time (Item Statistics) | % Complete |</pre>"
      ],
      "text/plain": [
       "| Elapsed Time (Item Statistics) | % Complete |"
      ]
     },
     "metadata": {},
     "output_type": "display_data"
    },
    {
     "data": {
      "text/html": [
       "<pre>+--------------------------------+------------+</pre>"
      ],
      "text/plain": [
       "+--------------------------------+------------+"
      ]
     },
     "metadata": {},
     "output_type": "display_data"
    },
    {
     "data": {
      "text/html": [
       "<pre>| 1.47ms                         | 8          |</pre>"
      ],
      "text/plain": [
       "| 1.47ms                         | 8          |"
      ]
     },
     "metadata": {},
     "output_type": "display_data"
    },
    {
     "data": {
      "text/html": [
       "<pre>| 14.745ms                       | 100        |</pre>"
      ],
      "text/plain": [
       "| 14.745ms                       | 100        |"
      ]
     },
     "metadata": {},
     "output_type": "display_data"
    },
    {
     "data": {
      "text/html": [
       "<pre>+--------------------------------+------------+</pre>"
      ],
      "text/plain": [
       "+--------------------------------+------------+"
      ]
     },
     "metadata": {},
     "output_type": "display_data"
    },
    {
     "data": {
      "text/html": [
       "<pre>Setting up lookup tables.</pre>"
      ],
      "text/plain": [
       "Setting up lookup tables."
      ]
     },
     "metadata": {},
     "output_type": "display_data"
    },
    {
     "data": {
      "text/html": [
       "<pre>Processing data in one pass using dense lookup tables.</pre>"
      ],
      "text/plain": [
       "Processing data in one pass using dense lookup tables."
      ]
     },
     "metadata": {},
     "output_type": "display_data"
    },
    {
     "data": {
      "text/html": [
       "<pre>+-------------------------------------+------------------+-----------------+</pre>"
      ],
      "text/plain": [
       "+-------------------------------------+------------------+-----------------+"
      ]
     },
     "metadata": {},
     "output_type": "display_data"
    },
    {
     "data": {
      "text/html": [
       "<pre>| Elapsed Time (Constructing Lookups) | Total % Complete | Items Processed |</pre>"
      ],
      "text/plain": [
       "| Elapsed Time (Constructing Lookups) | Total % Complete | Items Processed |"
      ]
     },
     "metadata": {},
     "output_type": "display_data"
    },
    {
     "data": {
      "text/html": [
       "<pre>+-------------------------------------+------------------+-----------------+</pre>"
      ],
      "text/plain": [
       "+-------------------------------------+------------------+-----------------+"
      ]
     },
     "metadata": {},
     "output_type": "display_data"
    },
    {
     "data": {
      "text/html": [
       "<pre>| 70.051ms                            | 0                | 0               |</pre>"
      ],
      "text/plain": [
       "| 70.051ms                            | 0                | 0               |"
      ]
     },
     "metadata": {},
     "output_type": "display_data"
    },
    {
     "data": {
      "text/html": [
       "<pre>| 475.011ms                           | 100              | 5155            |</pre>"
      ],
      "text/plain": [
       "| 475.011ms                           | 100              | 5155            |"
      ]
     },
     "metadata": {},
     "output_type": "display_data"
    },
    {
     "data": {
      "text/html": [
       "<pre>+-------------------------------------+------------------+-----------------+</pre>"
      ],
      "text/plain": [
       "+-------------------------------------+------------------+-----------------+"
      ]
     },
     "metadata": {},
     "output_type": "display_data"
    },
    {
     "data": {
      "text/html": [
       "<pre>Finalizing lookup tables.</pre>"
      ],
      "text/plain": [
       "Finalizing lookup tables."
      ]
     },
     "metadata": {},
     "output_type": "display_data"
    },
    {
     "data": {
      "text/html": [
       "<pre>Generating candidate set for working with new users.</pre>"
      ],
      "text/plain": [
       "Generating candidate set for working with new users."
      ]
     },
     "metadata": {},
     "output_type": "display_data"
    },
    {
     "data": {
      "text/html": [
       "<pre>Finished training in 0.516724s</pre>"
      ],
      "text/plain": [
       "Finished training in 0.516724s"
      ]
     },
     "metadata": {},
     "output_type": "display_data"
    },
    {
     "data": {
      "text/html": [
       "<pre>recommendations finished on 1000/12393 queries. users per second: 7847.69</pre>"
      ],
      "text/plain": [
       "recommendations finished on 1000/12393 queries. users per second: 7847.69"
      ]
     },
     "metadata": {},
     "output_type": "display_data"
    },
    {
     "data": {
      "text/html": [
       "<pre>recommendations finished on 2000/12393 queries. users per second: 8191.35</pre>"
      ],
      "text/plain": [
       "recommendations finished on 2000/12393 queries. users per second: 8191.35"
      ]
     },
     "metadata": {},
     "output_type": "display_data"
    },
    {
     "data": {
      "text/html": [
       "<pre>recommendations finished on 3000/12393 queries. users per second: 8449.04</pre>"
      ],
      "text/plain": [
       "recommendations finished on 3000/12393 queries. users per second: 8449.04"
      ]
     },
     "metadata": {},
     "output_type": "display_data"
    },
    {
     "data": {
      "text/html": [
       "<pre>recommendations finished on 4000/12393 queries. users per second: 8351.99</pre>"
      ],
      "text/plain": [
       "recommendations finished on 4000/12393 queries. users per second: 8351.99"
      ]
     },
     "metadata": {},
     "output_type": "display_data"
    },
    {
     "data": {
      "text/html": [
       "<pre>recommendations finished on 5000/12393 queries. users per second: 8017.55</pre>"
      ],
      "text/plain": [
       "recommendations finished on 5000/12393 queries. users per second: 8017.55"
      ]
     },
     "metadata": {},
     "output_type": "display_data"
    },
    {
     "data": {
      "text/html": [
       "<pre>recommendations finished on 6000/12393 queries. users per second: 6867.49</pre>"
      ],
      "text/plain": [
       "recommendations finished on 6000/12393 queries. users per second: 6867.49"
      ]
     },
     "metadata": {},
     "output_type": "display_data"
    },
    {
     "data": {
      "text/html": [
       "<pre>recommendations finished on 7000/12393 queries. users per second: 6930.51</pre>"
      ],
      "text/plain": [
       "recommendations finished on 7000/12393 queries. users per second: 6930.51"
      ]
     },
     "metadata": {},
     "output_type": "display_data"
    },
    {
     "data": {
      "text/html": [
       "<pre>recommendations finished on 8000/12393 queries. users per second: 6982.62</pre>"
      ],
      "text/plain": [
       "recommendations finished on 8000/12393 queries. users per second: 6982.62"
      ]
     },
     "metadata": {},
     "output_type": "display_data"
    },
    {
     "data": {
      "text/html": [
       "<pre>recommendations finished on 9000/12393 queries. users per second: 6969.45</pre>"
      ],
      "text/plain": [
       "recommendations finished on 9000/12393 queries. users per second: 6969.45"
      ]
     },
     "metadata": {},
     "output_type": "display_data"
    },
    {
     "data": {
      "text/html": [
       "<pre>recommendations finished on 10000/12393 queries. users per second: 6987.31</pre>"
      ],
      "text/plain": [
       "recommendations finished on 10000/12393 queries. users per second: 6987.31"
      ]
     },
     "metadata": {},
     "output_type": "display_data"
    },
    {
     "data": {
      "text/html": [
       "<pre>recommendations finished on 11000/12393 queries. users per second: 7083.76</pre>"
      ],
      "text/plain": [
       "recommendations finished on 11000/12393 queries. users per second: 7083.76"
      ]
     },
     "metadata": {},
     "output_type": "display_data"
    },
    {
     "data": {
      "text/html": [
       "<pre>recommendations finished on 12000/12393 queries. users per second: 7195.74</pre>"
      ],
      "text/plain": [
       "recommendations finished on 12000/12393 queries. users per second: 7195.74"
      ]
     },
     "metadata": {},
     "output_type": "display_data"
    }
   ],
   "source": [
    "item_item_reco = turicreate.recommender.item_similarity_recommender.create( \\\n",
    "    game_sf2, user_id='userId', item_id='gameId', \\\n",
    "    target=\"Actions\", similarity_type='pearson')\n",
    "rec = item_item_reco.recommend(k= 50, diversity=2,random_seed=1)\n",
    "rec = rec.join(game_map_sframe, on=\"gameId\", how=\"left\") \n",
    "from turicreate.toolkits.recommender.util import precision_recall_by_user\n",
    "result = precision_recall_by_user(test_sframe, rec)"
   ]
  },
  {
   "cell_type": "code",
   "execution_count": 46,
   "metadata": {},
   "outputs": [
    {
     "name": "stdout",
     "output_type": "stream",
     "text": [
      "+---------+--------+--------------------------------+---------------------+\n",
      "|  userId | gameId |            gameName            |        score        |\n",
      "+---------+--------+--------------------------------+---------------------+\n",
      "| 8542204 |  1607  |        FIFA Manager 10         |         1.0         |\n",
      "| 8542204 |  2306  |           Jack Keane           |         1.0         |\n",
      "| 8542204 |  1705  |    Fast & Furious Showdown     |         1.0         |\n",
      "| 8542204 |  3848  |         SimpleRockets          |         1.0         |\n",
      "| 8542204 |  831   |       Chip's Challenge 2       |         1.0         |\n",
      "| 8542204 |  3364  |            RECYCLE             |         1.0         |\n",
      "| 8542204 |  2265  |            Insane 2            |         1.0         |\n",
      "| 8542204 |  1324  |     Don Bradman Cricket 14     |         1.0         |\n",
      "| 8542204 |  3600  | Rugby League Team Manager 2015 |         1.0         |\n",
      "| 8542204 |  838   |         Choplifter HD          |         1.0         |\n",
      "| 8542204 |  3609  |        Runestone Keeper        |  0.9222188130095555 |\n",
      "| 8542204 |  2763  |           Monochroma           |         0.75        |\n",
      "| 8542204 |  714   |  Cabela's Hunting Expeditions  |         0.7         |\n",
      "| 8542204 |  4622  | Tom Clancy's Ghost Recon P...  |  0.6667519399675961 |\n",
      "| 8542204 |  1402  |      Duke Nukem Forever        |  0.6135838649611915 |\n",
      "| 8542204 |  3975  |     Speedball 2 Tournament     |  0.5606446073355149 |\n",
      "| 8542204 |  1759  |     Football Manager 2009      |  0.5518414979004003 |\n",
      "| 8542204 |  1762  |     Football Manager 2012      |  0.5410009645469108 |\n",
      "| 8542204 |  1597  |            F1 2012             |  0.5187213952833333 |\n",
      "| 8542204 |  4926  | Warhammer Online Age of Re...  |  0.5004998527488511 |\n",
      "| 8542204 |  1764  |     Football Manager 2014      |  0.4471611352642689 |\n",
      "| 8542204 |  3574  |         Rocksmith 2014         | 0.43246041677201236 |\n",
      "| 8542204 |  3755  |   Shadow Harvest Phantom Ops   |  0.4098840121072654 |\n",
      "| 8542204 |  3802  | Ship Simulator Maritime Se...  |  0.3987730061349693 |\n",
      "| 8542204 |  1765  |     Football Manager 2015      |  0.3963973169430001 |\n",
      "| 8542204 |  1573  |  EverQuest Secrets of Faydwer  | 0.38095238095238093 |\n",
      "| 8542204 |  4687  |        Train Simulator         |  0.3790570721002451 |\n",
      "| 8542204 |  1702  |     Farming Simulator 2013     |  0.3786327214124948 |\n",
      "| 8542204 |  3433  |        Randal's Monday         | 0.36652719807807793 |\n",
      "| 8542204 |  2549  | Lost Planet Extreme Condition  |  0.3597908707584173 |\n",
      "| 8542204 |  1474  |       Electric Highways        |  0.3502034621412381 |\n",
      "| 8542204 |  1987  |        Gravity Badgers         |  0.3349852357961999 |\n",
      "| 8542204 |  4275  |          Terrain Test          | 0.33334163230088926 |\n",
      "| 8542204 |  2394  |          King's Quest          |  0.3252847241770617 |\n",
      "| 8542204 |  2147  |   Heroes of Hellas 3 Athens    | 0.29008482332096175 |\n",
      "| 8542204 |  978   |         Counter-Strike         | 0.28836981414862006 |\n",
      "| 8542204 |  1499  |        Empire Total War        |  0.283796108163102  |\n",
      "| 8542204 |  2545  |          Lost Horizon          |  0.2716735605324435 |\n",
      "| 8542204 |  2361  |         Karos Returns          |  0.2682293680331686 |\n",
      "| 8542204 |  2755  |       Mitos.is The Game        |  0.2553054530670066 |\n",
      "| 8542204 |  172   | Age of Conan Rise of the G...  | 0.25039582490771256 |\n",
      "| 8542204 |  3579  |         Rogue Warrior          |  0.2501383153006089 |\n",
      "| 8542204 |  1397  |           Duke Nukem           |  0.2500116711537357 |\n",
      "| 8542204 |  753   |          CameraBag 2           | 0.24154589371980673 |\n",
      "| 8542204 |  762   |  Car Mechanic Simulator 2015   |  0.2384650378390396 |\n",
      "| 8542204 |  1599  |            F1 2014             | 0.22979190597504603 |\n",
      "| 8542204 |  2155  | Heroine's Quest The Herald...  | 0.22752780599430478 |\n",
      "| 8542204 |  2546  | Lost Lands A Hidden Object...  | 0.20881417284209322 |\n",
      "| 8542204 |  4608  | Tom Clancy's Ghost Recon P...  | 0.20839252724676202 |\n",
      "| 8542204 |  4487  |         The Sims(TM) 3         | 0.20502789503089064 |\n",
      "+---------+--------+--------------------------------+---------------------+\n",
      "[50 rows x 4 columns]\n",
      "\n"
     ]
    }
   ],
   "source": [
    "#look at the data of user 858433 in recommendation\n",
    "\n",
    "# Filtering\n",
    "filter_sf =rec[(rec['userId']==  8542204)] \n",
    "\n",
    "# Displaying\n",
    "(filter_sf[['userId','gameId','gameName','score']]). print_rows(num_rows=50, num_columns=4)"
   ]
  },
  {
   "cell_type": "code",
   "execution_count": 47,
   "metadata": {},
   "outputs": [
    {
     "name": "stdout",
     "output_type": "stream",
     "text": [
      "+---------+------------------------------+--------+-----------------------+\n",
      "|  userId |           gameName           | gameId |        Actions        |\n",
      "+---------+------------------------------+--------+-----------------------+\n",
      "| 8542204 |          Metro 2033          |  2712  |  0.001405728342997716 |\n",
      "| 8542204 | The Witcher Enhanced Edition |  4527  | 0.0001757160428747145 |\n",
      "| 8542204 |      Grand Theft Auto V      |  1978  |   0.0460376032331752  |\n",
      "| 8542204 |           The Crew           |  4343  |  0.008434370057986295 |\n",
      "| 8542204 |    Call of Duty Black Ops    |  726   |  0.007380073800738009 |\n",
      "| 8542204 |           Portal 2           |  3223  |  0.05622913371990863  |\n",
      "| 8542204 |     ARK Survival Evolved     |   84   | 0.0059743454577402925 |\n",
      "| 8542204 |        Torchlight II         |  4658  | 0.0035143208574942896 |\n",
      "| 8542204 |       Sniper Elite V2        |  3898  | 0.0035143208574942896 |\n",
      "+---------+------------------------------+--------+-----------------------+\n",
      "[9 rows x 4 columns]\n",
      "\n"
     ]
    }
   ],
   "source": [
    "# Filtering\n",
    "test_sf = test_sframe[(test_sframe['userId']==   8542204 )] \n",
    "# Displaying\n",
    "test_sf.materialize()\n",
    "(test_sf[['userId', 'gameName', 'gameId','Actions']]). print_rows(num_rows=21, num_columns=4)"
   ]
  },
  {
   "cell_type": "code",
   "execution_count": 48,
   "metadata": {},
   "outputs": [
    {
     "name": "stdout",
     "output_type": "stream",
     "text": [
      "+---------+-------------------------------+--------+-----------------------+\n",
      "|  userId |            gameName           | gameId |        Actions        |\n",
      "+---------+-------------------------------+--------+-----------------------+\n",
      "| 8542204 |             Dota 2            |  1336  |   0.4533473906167634  |\n",
      "| 8542204 |           Dead Space          |  1152  | 0.0010542962572482868 |\n",
      "| 8542204 |      Natural Selection 2      |  2901  |  0.001405728342997716 |\n",
      "| 8542204 |   Call of Duty Black Ops II   |  730   | 0.0017571604287471448 |\n",
      "| 8542204 |         Left 4 Dead 2         |  2475  | 0.0017571604287471448 |\n",
      "| 8542204 | Microsoft Flight Simulator... |  2721  |  0.000702864171498858 |\n",
      "| 8542204 | Call of Duty Advanced Warfare |  724   | 0.0001757160428747145 |\n",
      "| 8542204 |             Arma 2            |  322   |  0.000702864171498858 |\n",
      "| 8542204 |   Arma 2 Operation Arrowhead  |  326   |  0.000351432085749429 |\n",
      "| 8542204 | The Witcher 2 Assassins of... |  4522  | 0.0021085925144965737 |\n",
      "| 8542204 |            Defiance           |  1198  | 0.0001757160428747145 |\n",
      "| 8542204 | Arma 2 Operation Arrowhead... |  327   | 0.0001757160428747145 |\n",
      "| 8542204 | Call of Duty Black Ops II ... |  732   | 0.0001757160428747145 |\n",
      "| 8542204 |          Half-Life 2          |  2070  | 0.0001757160428747145 |\n",
      "| 8542204 |     Half-Life 2 Deathmatch    |  2071  | 0.0001757160428747145 |\n",
      "| 8542204 |     Half-Life 2 Lost Coast    |  2074  | 0.0001757160428747145 |\n",
      "| 8542204 |         Star Conflict         |  4009  | 0.0001757160428747145 |\n",
      "| 8542204 |    Crysis 2 Maximum Edition   |  1039  | 0.0024600246002460025 |\n",
      "| 8542204 | Burnout Paradise The Ultim... |  684   |  0.002811456685995432 |\n",
      "| 8542204 | Counter-Strike Global Offe... |  981   |  0.024600246002460028 |\n",
      "| 8542204 |         DiRT Showdown         |  1269  |  0.04674046740467406  |\n",
      "| 8542204 | Call of Duty Black Ops II ... |  731   |  0.042523282375680906 |\n",
      "| 8542204 |             Portal            |  3222  |  0.041468986118432624 |\n",
      "| 8542204 |  The Binding of Isaac Rebirth |  4314  |  0.002811456685995432 |\n",
      "| 8542204 |         Borderlands 2         |  619   |  0.015111579687225445 |\n",
      "| 8542204 |         Little Inferno        |  2529  |  0.00984009840098401  |\n",
      "| 8542204 |   Sid Meier's Civilization V  |  3825  |  0.060797750834651214 |\n",
      "| 8542204 | Call of Duty Black Ops - M... |  727   |  0.07380073800738009  |\n",
      "| 8542204 |         Goat Simulator        |  1943  |  0.006325777543489721 |\n",
      "| 8542204 |         Mirror's Edge         |  2748  |  0.05236338077666492  |\n",
      "| 8542204 |   The Elder Scrolls V Skyrim  |  4364  | 0.0059743454577402925 |\n",
      "| 8542204 | Call of Duty Advanced Warf... |  725   |  0.005271481286241435 |\n",
      "| 8542204 |     Counter-Strike Source     |  984   | 0.0035143208574942896 |\n",
      "| 8542204 |            Warframe           |  4899  | 0.0031628887717448607 |\n",
      "| 8542204 |        Team Fortress 2        |  4257  | 0.0031628887717448607 |\n",
      "+---------+-------------------------------+--------+-----------------------+\n",
      "[35 rows x 4 columns]\n",
      "\n"
     ]
    }
   ],
   "source": [
    "# Filtering\n",
    "train_sf = train_sframe[(train_sframe['userId']==   8542204 )] \n",
    "# Displaying\n",
    "train_sf.materialize()\n",
    "(train_sf[['userId', 'gameName', 'gameId','Actions']]). print_rows(num_rows=35, num_columns=4)"
   ]
  },
  {
   "cell_type": "code",
   "execution_count": 49,
   "metadata": {},
   "outputs": [
    {
     "name": "stdout",
     "output_type": "stream",
     "text": [
      "+---------+-------------------------------+--------+-----------------------+\n",
      "|  userId |            gameName           | gameId |        Actions        |\n",
      "+---------+-------------------------------+--------+-----------------------+\n",
      "| 8542204 |             Dota 2            |  1336  |   0.4533473906167634  |\n",
      "| 8542204 |           Dead Space          |  1152  | 0.0010542962572482868 |\n",
      "| 8542204 |           Metro 2033          |  2712  |  0.001405728342997716 |\n",
      "| 8542204 |      Natural Selection 2      |  2901  |  0.001405728342997716 |\n",
      "| 8542204 |   Call of Duty Black Ops II   |  730   | 0.0017571604287471448 |\n",
      "| 8542204 |         Left 4 Dead 2         |  2475  | 0.0017571604287471448 |\n",
      "| 8542204 | Microsoft Flight Simulator... |  2721  |  0.000702864171498858 |\n",
      "| 8542204 | Call of Duty Advanced Warfare |  724   | 0.0001757160428747145 |\n",
      "| 8542204 |             Arma 2            |  322   |  0.000702864171498858 |\n",
      "| 8542204 |   Arma 2 Operation Arrowhead  |  326   |  0.000351432085749429 |\n",
      "| 8542204 | The Witcher 2 Assassins of... |  4522  | 0.0021085925144965737 |\n",
      "| 8542204 |            Defiance           |  1198  | 0.0001757160428747145 |\n",
      "| 8542204 | Arma 2 Operation Arrowhead... |  327   | 0.0001757160428747145 |\n",
      "| 8542204 | Call of Duty Black Ops II ... |  732   | 0.0001757160428747145 |\n",
      "| 8542204 |          Half-Life 2          |  2070  | 0.0001757160428747145 |\n",
      "| 8542204 |     Half-Life 2 Deathmatch    |  2071  | 0.0001757160428747145 |\n",
      "| 8542204 |     Half-Life 2 Lost Coast    |  2074  | 0.0001757160428747145 |\n",
      "| 8542204 |         Star Conflict         |  4009  | 0.0001757160428747145 |\n",
      "| 8542204 |  The Witcher Enhanced Edition |  4527  | 0.0001757160428747145 |\n",
      "| 8542204 |    Crysis 2 Maximum Edition   |  1039  | 0.0024600246002460025 |\n",
      "| 8542204 | Burnout Paradise The Ultim... |  684   |  0.002811456685995432 |\n",
      "| 8542204 | Counter-Strike Global Offe... |  981   |  0.024600246002460028 |\n",
      "| 8542204 |         DiRT Showdown         |  1269  |  0.04674046740467406  |\n",
      "| 8542204 |       Grand Theft Auto V      |  1978  |   0.0460376032331752  |\n",
      "| 8542204 | Call of Duty Black Ops II ... |  731   |  0.042523282375680906 |\n",
      "| 8542204 |             Portal            |  3222  |  0.041468986118432624 |\n",
      "| 8542204 |  The Binding of Isaac Rebirth |  4314  |  0.002811456685995432 |\n",
      "| 8542204 |         Borderlands 2         |  619   |  0.015111579687225445 |\n",
      "| 8542204 |         Little Inferno        |  2529  |  0.00984009840098401  |\n",
      "| 8542204 |   Sid Meier's Civilization V  |  3825  |  0.060797750834651214 |\n",
      "| 8542204 |            The Crew           |  4343  |  0.008434370057986295 |\n",
      "| 8542204 | Call of Duty Black Ops - M... |  727   |  0.07380073800738009  |\n",
      "| 8542204 |     Call of Duty Black Ops    |  726   |  0.007380073800738009 |\n",
      "| 8542204 |         Goat Simulator        |  1943  |  0.006325777543489721 |\n",
      "| 8542204 |            Portal 2           |  3223  |  0.05622913371990863  |\n",
      "| 8542204 |         Mirror's Edge         |  2748  |  0.05236338077666492  |\n",
      "| 8542204 |   The Elder Scrolls V Skyrim  |  4364  | 0.0059743454577402925 |\n",
      "| 8542204 |      ARK Survival Evolved     |   84   | 0.0059743454577402925 |\n",
      "| 8542204 | Call of Duty Advanced Warf... |  725   |  0.005271481286241435 |\n",
      "| 8542204 |         Torchlight II         |  4658  | 0.0035143208574942896 |\n",
      "| 8542204 |     Counter-Strike Source     |  984   | 0.0035143208574942896 |\n",
      "| 8542204 |        Sniper Elite V2        |  3898  | 0.0035143208574942896 |\n",
      "| 8542204 |            Warframe           |  4899  | 0.0031628887717448607 |\n",
      "| 8542204 |        Team Fortress 2        |  4257  | 0.0031628887717448607 |\n",
      "+---------+-------------------------------+--------+-----------------------+\n",
      "[44 rows x 4 columns]\n",
      "\n"
     ]
    }
   ],
   "source": [
    "# Filtering\n",
    "total_sf = game_sf2[(game_sf2['userId']==   8542204 )] \n",
    "# Displaying\n",
    "total_sf.materialize()\n",
    "(total_sf[['userId', 'gameName', 'gameId','Actions']]). print_rows(num_rows=44, num_columns=4)"
   ]
  },
  {
   "cell_type": "code",
   "execution_count": 21,
   "metadata": {},
   "outputs": [],
   "source": [
    "# obviously for those users the precision will be 0 because there is no data about those users' in testsframe"
   ]
  },
  {
   "cell_type": "code",
   "execution_count": 22,
   "metadata": {},
   "outputs": [],
   "source": [
    "result = test_sframe.join(result, on=\"userId\", how=\"left\") \\\n",
    "   .select_columns([\"userId\",\"gameId\", \"gameName\", \"precision\", \"recall\", \"count\"])"
   ]
  },
  {
   "cell_type": "code",
   "execution_count": 23,
   "metadata": {},
   "outputs": [
    {
     "name": "stdout",
     "output_type": "stream",
     "text": [
      "+----------+--------+-------------------------------+-----------+--------+-------+\n",
      "|  userId  | gameId |            gameName           | precision | recall | count |\n",
      "+----------+--------+-------------------------------+-----------+--------+-------+\n",
      "| 1024319  |  2078  |    Half-Life Opposing Force   |    0.0    |  0.0   |   1   |\n",
      "| 1364546  |  1179  |       Deathmatch Classic      |    0.0    |  0.0   |   1   |\n",
      "| 4325465  |  1179  |       Deathmatch Classic      |    0.0    |  0.0   |   1   |\n",
      "| 8542204  |  2712  |           Metro 2033          |    0.0    |  0.0   |   9   |\n",
      "| 8542204  |  4527  |  The Witcher Enhanced Edition |    0.0    |  0.0   |   9   |\n",
      "| 8542204  |  1978  |       Grand Theft Auto V      |    0.0    |  0.0   |   9   |\n",
      "| 8542204  |  4343  |            The Crew           |    0.0    |  0.0   |   9   |\n",
      "| 8542204  |  726   |     Call of Duty Black Ops    |    0.0    |  0.0   |   9   |\n",
      "| 8542204  |  3223  |            Portal 2           |    0.0    |  0.0   |   9   |\n",
      "| 8542204  |   84   |      ARK Survival Evolved     |    0.0    |  0.0   |   9   |\n",
      "| 8542204  |  4658  |         Torchlight II         |    0.0    |  0.0   |   9   |\n",
      "| 8542204  |  3898  |        Sniper Elite V2        |    0.0    |  0.0   |   9   |\n",
      "| 8585433  |  4797  |             VVVVVV            |    0.0    |  0.0   |   64  |\n",
      "| 8585433  |  4146  |         Super Meat Boy        |    0.0    |  0.0   |   64  |\n",
      "| 8585433  |  3696  | Sang-Froid - Tales of Were... |    0.0    |  0.0   |   64  |\n",
      "| 8585433  |  3034  |    Ori and the Blind Forest   |    0.0    |  0.0   |   64  |\n",
      "| 8585433  |  3553  | Rising Storm/Red Orchestra... |    0.0    |  0.0   |   64  |\n",
      "| 8585433  |  3662  |             Saira             |    0.0    |  0.0   |   64  |\n",
      "| 8585433  |  4517  |  The Walking Dead Season Two  |    0.0    |  0.0   |   64  |\n",
      "| 8585433  |  3772  |       Shadowrun Returns       |    0.0    |  0.0   |   64  |\n",
      "| 8585433  |  1294  |            Distance           |    0.0    |  0.0   |   64  |\n",
      "| 8585433  |  2748  |         Mirror's Edge         |    0.0    |  0.0   |   64  |\n",
      "| 8585433  |  1039  |    Crysis 2 Maximum Edition   |    0.0    |  0.0   |   64  |\n",
      "| 8585433  |  4065  |         SteamWorld Dig        |    0.0    |  0.0   |   64  |\n",
      "| 8585433  |  2921  | Never Alone (Kisima Ingitc... |    0.0    |  0.0   |   64  |\n",
      "| 8585433  |  4439  | The Misadventures of P.B. ... |    0.0    |  0.0   |   64  |\n",
      "| 8585433  |  3727  |         Secret Ponchos        |    0.0    |  0.0   |   64  |\n",
      "| 8585433  |  3982  |            Spelunky           |    0.0    |  0.0   |   64  |\n",
      "| 8585433  |  1552  |     Euro Truck Simulator 2    |    0.0    |  0.0   |   64  |\n",
      "| 8585433  |  4229  |       Tabletop Simulator      |    0.0    |  0.0   |   64  |\n",
      "| 8585433  |  4182  | Sword of the Stars The Pit... |    0.0    |  0.0   |   64  |\n",
      "| 8585433  |  4166  |       Surgeon Simulator       |    0.0    |  0.0   |   64  |\n",
      "| 8585433  |  4039  |      Starbound - Unstable     |    0.0    |  0.0   |   64  |\n",
      "| 8585433  |  3865  |    Skullgirls Endless Beta    |    0.0    |  0.0   |   64  |\n",
      "| 8585433  |  3859  |   Sir, You Are Being Hunted   |    0.0    |  0.0   |   64  |\n",
      "| 8585433  |  3809  | Shower With Your Dad Simul... |    0.0    |  0.0   |   64  |\n",
      "| 8585433  |  4798  |            Vagante            |    0.0    |  0.0   |   64  |\n",
      "| 8585433  |  4771  |             Unepic            |    0.0    |  0.0   |   64  |\n",
      "| 8585433  |  4719  |           Tropico 4           |    0.0    |  0.0   |   64  |\n",
      "| 8585433  |  4698  |           Transistor          |    0.0    |  0.0   |   64  |\n",
      "| 8585433  |  4408  |     The Jackbox Party Pack    |    0.0    |  0.0   |   64  |\n",
      "| 8585433  |  4376  |       The First Templar       |    0.0    |  0.0   |   64  |\n",
      "| 8585433  |  4367  | The Elder Scrolls V Skyrim... |    0.0    |  0.0   |   64  |\n",
      "| 8585433  |  787   |        Castle Crashers        |    0.0    |  0.0   |   64  |\n",
      "| 8585433  |  1178  |  DeathSpank Thongs Of Virtue  |    0.0    |  0.0   |   64  |\n",
      "| 8585433  |  1679  |       Fallout New Vegas       |    0.0    |  0.0   |   64  |\n",
      "| 8585433  |  723   | Call of Duty 4 Modern Warfare |    0.0    |  0.0   |   64  |\n",
      "| 8585433  |  1872  |        Game Dev Tycoon        |    0.0    |  0.0   |   64  |\n",
      "| 8585433  |  649   |       Bridge Constructor      |    0.0    |  0.0   |   64  |\n",
      "| 8585433  |  1966  |      Governor of Poker 2      |    0.0    |  0.0   |   64  |\n",
      "| 8585433  |  1925  |  Giana Sisters Twisted Dreams |    0.0    |  0.0   |   64  |\n",
      "| 8585433  |  2069  |           Half-Life           |    0.0    |  0.0   |   64  |\n",
      "| 8585433  |  2040  |     Guns of Icarus Online     |    0.0    |  0.0   |   64  |\n",
      "| 8585433  |  1328  |   Don't Starve Together Beta  |    0.0    |  0.0   |   64  |\n",
      "| 8585433  |  4239  |       Tales of Maj'Eyal       |    0.0    |  0.0   |   64  |\n",
      "| 8585433  |  2702  |        Mercenary Kings        |    0.0    |  0.0   |   64  |\n",
      "| 8585433  |  2679  |    Medal of Honor Pre-Order   |    0.0    |  0.0   |   64  |\n",
      "| 8585433  |  2508  |       Lichdom Battlemage      |    0.0    |  0.0   |   64  |\n",
      "| 8585433  |  2609  |            Magicite           |    0.0    |  0.0   |   64  |\n",
      "| 8585433  |  2452  |          LUFTRAUSERS          |    0.0    |  0.0   |   64  |\n",
      "| 8585433  |  2423  |          Kraven Manor         |    0.0    |  0.0   |   64  |\n",
      "| 8585433  |  2366  |      Kerbal Space Program     |    0.0    |  0.0   |   64  |\n",
      "| 8585433  |  2760  |             Monaco            |    0.0    |  0.0   |   64  |\n",
      "| 8585433  |  5021  |        Worms Armageddon       |    0.0    |  0.0   |   64  |\n",
      "| 8585433  |  5020  |             Worms             |    0.0    |  0.0   |   64  |\n",
      "| 8585433  |  4944  |            Waveform           |    0.0    |  0.0   |   64  |\n",
      "| 8585433  |  4858  |              Volt             |    0.0    |  0.0   |   64  |\n",
      "| 8585433  |  3113  |   Patch testing for Chivalry  |    0.0    |  0.0   |   64  |\n",
      "| 8585433  |  3029  |        Orcs Must Die! 2       |    0.0    |  0.0   |   64  |\n",
      "| 8585433  |  2275  |     Intergalactic Bubbles     |    0.0    |  0.0   |   64  |\n",
      "| 8585433  |  271   | Angels of Fasaria Version 2.0 |    0.0    |  0.0   |   64  |\n",
      "| 8585433  |  400   |          Awesomenauts         |    0.0    |  0.0   |   64  |\n",
      "| 8585433  |  439   |  Ballpoint Universe Infinite  |    0.0    |  0.0   |   64  |\n",
      "| 8585433  |  958   |    Cook, Serve, Delicious!    |    0.0    |  0.0   |   64  |\n",
      "| 8585433  |  2023  |     Guild of Dungeoneering    |    0.0    |  0.0   |   64  |\n",
      "| 8585433  |  3653  |         Sacred Citadel        |    0.0    |  0.0   |   64  |\n",
      "| 8776918  |  2070  |          Half-Life 2          |    0.0    |  0.0   |   17  |\n",
      "| 8776918  |  4366  | The Elder Scrolls V Skyrim... |    0.0    |  0.0   |   17  |\n",
      "| 8776918  |  3531  |            Ricochet           |    0.0    |  0.0   |   17  |\n",
      "| 8776918  |  2659  |         Mass Effect 2         |    0.0    |  0.0   |   17  |\n",
      "| 8776918  |  2079  |        Half-Life Source       |    0.0    |  0.0   |   17  |\n",
      "| 8776918  |  2073  |    Half-Life 2 Episode Two    |    0.0    |  0.0   |   17  |\n",
      "| 8776918  |  620   | Borderlands 2 Headhunter 1... |    0.0    |  0.0   |   17  |\n",
      "| 8776918  |  1682  | Fallout New Vegas Honest H... |    0.0    |  0.0   |   17  |\n",
      "| 8776918  |  1179  |       Deathmatch Classic      |    0.0    |  0.0   |   17  |\n",
      "| 8776918  |  980   | Counter-Strike Condition Z... |    0.0    |  0.0   |   17  |\n",
      "| 8776918  |  726   |     Call of Duty Black Ops    |    0.0    |  0.0   |   17  |\n",
      "| 8776918  |  737   | Call of Duty Modern Warfar... |    0.0    |  0.0   |   17  |\n",
      "| 8776918  |  619   |         Borderlands 2         |    0.0    |  0.0   |   17  |\n",
      "| 8776918  |  1678  |           Fallout 4           |    0.0    |  0.0   |   17  |\n",
      "| 8776918  |  4994  |   Wolfenstein The New Order   |    0.0    |  0.0   |   17  |\n",
      "| 8776918  |  522   |       BioShock Infinite       |    0.0    |  0.0   |   17  |\n",
      "| 8776918  |  2715  |        Metro Last Light       |    0.0    |  0.0   |   17  |\n",
      "| 12312878 |  2074  |     Half-Life 2 Lost Coast    |    0.0    |  0.0   |   2   |\n",
      "| 12312878 |  984   |     Counter-Strike Source     |    0.0    |  0.0   |   2   |\n",
      "| 15841586 |  2071  |     Half-Life 2 Deathmatch    |    0.0    |  0.0   |   1   |\n",
      "| 23154676 |  2071  |     Half-Life 2 Deathmatch    |    0.0    |  0.0   |   1   |\n",
      "| 25272022 |  2069  |           Half-Life           |    0.0    |  0.0   |   2   |\n",
      "| 25272022 |  2076  |      Half-Life Blue Shift     |    0.0    |  0.0   |   2   |\n",
      "| 28939171 |  2074  |     Half-Life 2 Lost Coast    |    0.0    |  0.0   |   1   |\n",
      "+----------+--------+-------------------------------+-----------+--------+-------+\n",
      "[797 rows x 6 columns]\n",
      "\n"
     ]
    }
   ],
   "source": [
    "result.print_rows(num_rows=100, num_columns=6)"
   ]
  },
  {
   "cell_type": "code",
   "execution_count": 24,
   "metadata": {},
   "outputs": [
    {
     "name": "stdout",
     "output_type": "stream",
     "text": [
      "+--------+--------+----------+-----------+--------+\n",
      "| userId | gameId | gameName | precision | recall |\n",
      "+--------+--------+----------+-----------+--------+\n",
      "+--------+--------+----------+-----------+--------+\n",
      "+-------+\n",
      "| count |\n",
      "+-------+\n",
      "+-------+\n",
      "[0 rows x 6 columns]\n",
      "\n"
     ]
    }
   ],
   "source": [
    "# Filtering\n",
    "nonzero_sframe = result[(result['recall']!=  0.0)] \n",
    "nonzero_sframe.materialize()\n",
    "print(nonzero_sframe)\n",
    "\n",
    "# this is weird. we need more investigation"
   ]
  },
  {
   "cell_type": "markdown",
   "metadata": {},
   "source": [
    " ### let's try the item_similarity_recommender models which recommends the k highest scored items based on the interactions given in observed_items"
   ]
  },
  {
   "cell_type": "code",
   "execution_count": 85,
   "metadata": {},
   "outputs": [
    {
     "data": {
      "text/html": [
       "<pre>Warning: Ignoring columns gameName, play;</pre>"
      ],
      "text/plain": [
       "Warning: Ignoring columns gameName, play;"
      ]
     },
     "metadata": {},
     "output_type": "display_data"
    },
    {
     "data": {
      "text/html": [
       "<pre>    To use these columns in scoring predictions, use a model that allows the use of additional features.</pre>"
      ],
      "text/plain": [
       "    To use these columns in scoring predictions, use a model that allows the use of additional features."
      ]
     },
     "metadata": {},
     "output_type": "display_data"
    },
    {
     "data": {
      "text/html": [
       "<pre>Preparing data set.</pre>"
      ],
      "text/plain": [
       "Preparing data set."
      ]
     },
     "metadata": {},
     "output_type": "display_data"
    },
    {
     "data": {
      "text/html": [
       "<pre>    Data has 128792 observations with 12393 users and 5155 items.</pre>"
      ],
      "text/plain": [
       "    Data has 128792 observations with 12393 users and 5155 items."
      ]
     },
     "metadata": {},
     "output_type": "display_data"
    },
    {
     "data": {
      "text/html": [
       "<pre>    Data prepared in: 0.135404s</pre>"
      ],
      "text/plain": [
       "    Data prepared in: 0.135404s"
      ]
     },
     "metadata": {},
     "output_type": "display_data"
    },
    {
     "data": {
      "text/html": [
       "<pre>Training model from provided data.</pre>"
      ],
      "text/plain": [
       "Training model from provided data."
      ]
     },
     "metadata": {},
     "output_type": "display_data"
    },
    {
     "data": {
      "text/html": [
       "<pre>Gathering per-item and per-user statistics.</pre>"
      ],
      "text/plain": [
       "Gathering per-item and per-user statistics."
      ]
     },
     "metadata": {},
     "output_type": "display_data"
    },
    {
     "data": {
      "text/html": [
       "<pre>+--------------------------------+------------+</pre>"
      ],
      "text/plain": [
       "+--------------------------------+------------+"
      ]
     },
     "metadata": {},
     "output_type": "display_data"
    },
    {
     "data": {
      "text/html": [
       "<pre>| Elapsed Time (Item Statistics) | % Complete |</pre>"
      ],
      "text/plain": [
       "| Elapsed Time (Item Statistics) | % Complete |"
      ]
     },
     "metadata": {},
     "output_type": "display_data"
    },
    {
     "data": {
      "text/html": [
       "<pre>+--------------------------------+------------+</pre>"
      ],
      "text/plain": [
       "+--------------------------------+------------+"
      ]
     },
     "metadata": {},
     "output_type": "display_data"
    },
    {
     "data": {
      "text/html": [
       "<pre>| 12.091ms                       | 8          |</pre>"
      ],
      "text/plain": [
       "| 12.091ms                       | 8          |"
      ]
     },
     "metadata": {},
     "output_type": "display_data"
    },
    {
     "data": {
      "text/html": [
       "<pre>| 22.491ms                       | 100        |</pre>"
      ],
      "text/plain": [
       "| 22.491ms                       | 100        |"
      ]
     },
     "metadata": {},
     "output_type": "display_data"
    },
    {
     "data": {
      "text/html": [
       "<pre>+--------------------------------+------------+</pre>"
      ],
      "text/plain": [
       "+--------------------------------+------------+"
      ]
     },
     "metadata": {},
     "output_type": "display_data"
    },
    {
     "data": {
      "text/html": [
       "<pre>Setting up lookup tables.</pre>"
      ],
      "text/plain": [
       "Setting up lookup tables."
      ]
     },
     "metadata": {},
     "output_type": "display_data"
    },
    {
     "data": {
      "text/html": [
       "<pre>Processing data in one pass using dense lookup tables.</pre>"
      ],
      "text/plain": [
       "Processing data in one pass using dense lookup tables."
      ]
     },
     "metadata": {},
     "output_type": "display_data"
    },
    {
     "data": {
      "text/html": [
       "<pre>+-------------------------------------+------------------+-----------------+</pre>"
      ],
      "text/plain": [
       "+-------------------------------------+------------------+-----------------+"
      ]
     },
     "metadata": {},
     "output_type": "display_data"
    },
    {
     "data": {
      "text/html": [
       "<pre>| Elapsed Time (Constructing Lookups) | Total % Complete | Items Processed |</pre>"
      ],
      "text/plain": [
       "| Elapsed Time (Constructing Lookups) | Total % Complete | Items Processed |"
      ]
     },
     "metadata": {},
     "output_type": "display_data"
    },
    {
     "data": {
      "text/html": [
       "<pre>+-------------------------------------+------------------+-----------------+</pre>"
      ],
      "text/plain": [
       "+-------------------------------------+------------------+-----------------+"
      ]
     },
     "metadata": {},
     "output_type": "display_data"
    },
    {
     "data": {
      "text/html": [
       "<pre>| 77.048ms                            | 0                | 0               |</pre>"
      ],
      "text/plain": [
       "| 77.048ms                            | 0                | 0               |"
      ]
     },
     "metadata": {},
     "output_type": "display_data"
    },
    {
     "data": {
      "text/html": [
       "<pre>| 641.882ms                           | 100              | 5155            |</pre>"
      ],
      "text/plain": [
       "| 641.882ms                           | 100              | 5155            |"
      ]
     },
     "metadata": {},
     "output_type": "display_data"
    },
    {
     "data": {
      "text/html": [
       "<pre>+-------------------------------------+------------------+-----------------+</pre>"
      ],
      "text/plain": [
       "+-------------------------------------+------------------+-----------------+"
      ]
     },
     "metadata": {},
     "output_type": "display_data"
    },
    {
     "data": {
      "text/html": [
       "<pre>Finalizing lookup tables.</pre>"
      ],
      "text/plain": [
       "Finalizing lookup tables."
      ]
     },
     "metadata": {},
     "output_type": "display_data"
    },
    {
     "data": {
      "text/html": [
       "<pre>Generating candidate set for working with new users.</pre>"
      ],
      "text/plain": [
       "Generating candidate set for working with new users."
      ]
     },
     "metadata": {},
     "output_type": "display_data"
    },
    {
     "data": {
      "text/html": [
       "<pre>Finished training in 0.703756s</pre>"
      ],
      "text/plain": [
       "Finished training in 0.703756s"
      ]
     },
     "metadata": {},
     "output_type": "display_data"
    },
    {
     "name": "stdout",
     "output_type": "stream",
     "text": [
      "+--------+---------------------+------+--------------------------------+\n",
      "| gameId |        score        | rank |            gameName            |\n",
      "+--------+---------------------+------+--------------------------------+\n",
      "|  4459  |         1.0         |  1   |       The Promised Land        |\n",
      "|  3364  |         1.0         |  2   |            RECYCLE             |\n",
      "|  1607  |         1.0         |  3   |        FIFA Manager 10         |\n",
      "|  1271  |         1.0         |  4   |          Diaper Dash           |\n",
      "|  4042  |         1.0         |  5   |      Stargate Resistance       |\n",
      "|  2265  |         1.0         |  6   |            Insane 2            |\n",
      "|  2955  |         1.0         |  7   | Nobunaga's Ambition Souzou...  |\n",
      "|  813   |         1.0         |  8   |   Championship Manager 2010    |\n",
      "|  2862  |  0.975877192982456  |  9   | NOBUNAGA'S AMBITION Kakush...  |\n",
      "|  2763  |         0.75        |  10  |           Monochroma           |\n",
      "|  2535  |  0.6965559095736611 |  11  | London 2012 The Official V...  |\n",
      "|  4015  |  0.6667101801780726 |  12  |        Star Trek D-A-C         |\n",
      "|  3275  |  0.6612354110086063 |  13  |    Professional Farmer 2014    |\n",
      "|  3975  |  0.5606446073355149 |  14  |     Speedball 2 Tournament     |\n",
      "|  1759  |  0.5518414979004004 |  15  |     Football Manager 2009      |\n",
      "|  5063  |  0.5248380129589633 |  16  |      YOU DON'T KNOW JACK       |\n",
      "|  1763  |  0.5132310527083285 |  17  |     Football Manager 2013      |\n",
      "|  4301  |  0.5077711238807827 |  18  |     The Amazing Spider-Man     |\n",
      "|  4870  |  0.5009605309116312 |  19  |             WRC 5              |\n",
      "|  1843  |  0.500723490605542  |  20  |        GEARCRACK Arena         |\n",
      "|  120   |  0.5003039167268168 |  21  | Afterfall InSanity - Dirty...  |\n",
      "|  1755  |  0.500252029270158  |  22  | Flower Shop Winter In Fair...  |\n",
      "|  3265  |  0.5000090702947846 |  23  | Pro Cycling Manager Season...  |\n",
      "|  4257  |  0.4567194510820588 |  24  |        Team Fortress 2         |\n",
      "|  3418  |  0.4020272087765109 |  25  |       Race The WTCC Game       |\n",
      "|  1702  |  0.3786327214124948 |  26  |     Farming Simulator 2013     |\n",
      "|  1510  |  0.3646562834354635 |  27  |   Enemy Territory Quake Wars   |\n",
      "|  2549  | 0.35992747241238343 |  28  | Lost Planet Extreme Condition  |\n",
      "|  1474  |  0.3502034621412381 |  29  |       Electric Highways        |\n",
      "|  1987  |  0.3349852357961999 |  30  |        Gravity Badgers         |\n",
      "|  3090  | 0.33462538991908103 |  31  |       Paint the Town Red       |\n",
      "|  3558  |  0.3339925155962471 |  32  |         Road Not Taken         |\n",
      "|  1134  |  0.3338996051882078 |  33  |            Daylight            |\n",
      "|  3242  |  0.3335548172668247 |  34  |           Pressured            |\n",
      "|  4275  |  0.3333494310267977 |  35  |          Terrain Test          |\n",
      "|  951   |  0.3282284293269621 |  36  |  Construction-Simulator 2015   |\n",
      "|  2394  |  0.3252847241770617 |  37  |          King's Quest          |\n",
      "|  3901  | 0.30515057945187296 |  38  |      Sniper Ghost Warrior      |\n",
      "|  1574  |  0.2857142857142857 |  39  | EverQuest Seeds of Destruction |\n",
      "|  2755  | 0.25530545306700664 |  40  |       Mitos.is The Game        |\n",
      "|  4686  |  0.2539632473889848 |  41  |          Train Fever           |\n",
      "|  172   | 0.25039582490771256 |  42  | Age of Conan Rise of the G...  |\n",
      "|  1012  |  0.2500701630932097 |  43  |         Critical Mass          |\n",
      "|  4884  |  0.2500118629590965 |  44  |         War Operations         |\n",
      "|  1397  |  0.2500116711537358 |  45  |           Duke Nukem           |\n",
      "|  4274  |  0.2460786612493313 |  46  |           TerraTech            |\n",
      "|  2183  | 0.23136246786632386 |  47  |           Hotel Dash           |\n",
      "|  3573  | 0.22469761339571218 |  48  |           Rocksmith            |\n",
      "|  4364  |  0.2177009741078837 |  49  |   The Elder Scrolls V Skyrim   |\n",
      "|  425   |  0.2126071610232421 |  50  |    Back to Dinosaur Island     |\n",
      "+--------+---------------------+------+--------------------------------+\n",
      "[50 rows x 4 columns]\n",
      "\n"
     ]
    }
   ],
   "source": [
    "item_item_reco = turicreate.recommender.item_similarity_recommender.create( \\\n",
    "    game_sf2, user_id='userId', item_id='gameId', \\\n",
    "    target=\"Actions\", similarity_type='pearson')\n",
    "\n",
    "rec2 = item_item_reco.recommend_from_interactions(observed_items = [2072], items =game_map_sframe['gameId'], k= 50, diversity=2,random_seed=1)\n",
    "rec2 = rec2.join(game_map_sframe, on=\"gameId\", how=\"left\") \n",
    "rec2.sort('rank',ascending = True).print_rows(num_rows=50, num_columns=4) \n"
   ]
  },
  {
   "cell_type": "code",
   "execution_count": 75,
   "metadata": {},
   "outputs": [
    {
     "name": "stdout",
     "output_type": "stream",
     "text": [
      "+---------+-------------------------------+------+-----------------------+--------+\n",
      "|  userId |            gameName           | play |        Actions        | gameId |\n",
      "+---------+-------------------------------+------+-----------------------+--------+\n",
      "| 8542204 |             Dota 2            | 1.0  |   0.4533473906167634  |  1336  |\n",
      "| 8542204 |           Dead Space          | 1.0  | 0.0010542962572482868 |  1152  |\n",
      "| 8542204 |      Natural Selection 2      | 1.0  |  0.001405728342997716 |  2901  |\n",
      "| 8542204 |   Call of Duty Black Ops II   | 1.0  | 0.0017571604287471448 |  730   |\n",
      "| 8542204 |         Left 4 Dead 2         | 1.0  | 0.0017571604287471448 |  2475  |\n",
      "| 8542204 | Microsoft Flight Simulator... | 1.0  |  0.000702864171498858 |  2721  |\n",
      "| 8542204 | Call of Duty Advanced Warfare | 0.0  | 0.0001757160428747145 |  724   |\n",
      "| 8542204 |             Arma 2            | 1.0  |  0.000702864171498858 |  322   |\n",
      "| 8542204 |   Arma 2 Operation Arrowhead  | 1.0  |  0.000351432085749429 |  326   |\n",
      "| 8542204 | The Witcher 2 Assassins of... | 1.0  | 0.0021085925144965737 |  4522  |\n",
      "+---------+-------------------------------+------+-----------------------+--------+\n",
      "[35 rows x 5 columns]\n",
      "Note: Only the head of the SFrame is printed.\n",
      "You can use print_rows(num_rows=m, num_columns=n) to print more rows and columns.\n"
     ]
    }
   ],
   "source": [
    "print(train_sf)"
   ]
  },
  {
   "cell_type": "markdown",
   "metadata": {},
   "source": []
  },
  {
   "cell_type": "code",
   "execution_count": null,
   "metadata": {},
   "outputs": [],
   "source": []
  }
 ],
 "metadata": {
  "kernelspec": {
   "display_name": "Python 3",
   "language": "python",
   "name": "python3"
  },
  "language_info": {
   "codemirror_mode": {
    "name": "ipython",
    "version": 3
   },
   "file_extension": ".py",
   "mimetype": "text/x-python",
   "name": "python",
   "nbconvert_exporter": "python",
   "pygments_lexer": "ipython3",
   "version": "3.6.4"
  }
 },
 "nbformat": 4,
 "nbformat_minor": 2
}

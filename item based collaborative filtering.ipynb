{
 "cells": [
  {
   "cell_type": "markdown",
   "metadata": {},
   "source": [
    "## Advanced Cleaning on Steam Games Data\n",
    "\n",
    "In this notebook we try out two different recommenders on [Steam dataset on Kaggle](https://www.kaggle.com/tamber/steam-video-games). We will use:\n",
    "- ```numpy, pandas, sklearn``` for data preprocessing\n",
    "\n",
    "The dataset has no header but comes in 5 columns:\n",
    "- User ID: integer\n",
    "- Game title: string\n",
    "- Activity: string (purchase/play)\n",
    "- Status: float (1.0 if activity is purchase, total number of hours in game if activity is play)\n",
    "- A column full of 0's, will discard"
   ]
  },
  {
   "cell_type": "code",
   "execution_count": 1,
   "metadata": {},
   "outputs": [],
   "source": [
    "import pandas as pd\n",
    "import numpy as np \n",
    "import matplotlib\n",
    "# import matplotlib.pyplot as plt \n",
    "import seaborn as sns\n",
    "import turicreate\n",
    "import sklearn as sk\n",
    "from sklearn.preprocessing import Imputer\n",
    "from sklearn.model_selection import train_test_split"
   ]
  },
  {
   "cell_type": "code",
   "execution_count": 2,
   "metadata": {},
   "outputs": [],
   "source": [
    "steam_data = pd.read_pickle(\"clean_steam_data.pkl\")\n",
    "steam_data.head()\n",
    "data_copy = steam_data"
   ]
  },
  {
   "cell_type": "markdown",
   "metadata": {},
   "source": [
    "### we can easily get basic information about the data in each column "
   ]
  },
  {
   "cell_type": "code",
   "execution_count": 3,
   "metadata": {},
   "outputs": [
    {
     "data": {
      "text/html": [
       "<div>\n",
       "<style scoped>\n",
       "    .dataframe tbody tr th:only-of-type {\n",
       "        vertical-align: middle;\n",
       "    }\n",
       "\n",
       "    .dataframe tbody tr th {\n",
       "        vertical-align: top;\n",
       "    }\n",
       "\n",
       "    .dataframe thead th {\n",
       "        text-align: right;\n",
       "    }\n",
       "</style>\n",
       "<table border=\"1\" class=\"dataframe\">\n",
       "  <thead>\n",
       "    <tr style=\"text-align: right;\">\n",
       "      <th></th>\n",
       "      <th>userId</th>\n",
       "      <th>purchase</th>\n",
       "      <th>play</th>\n",
       "      <th>Actions</th>\n",
       "    </tr>\n",
       "  </thead>\n",
       "  <tbody>\n",
       "    <tr>\n",
       "      <th>count</th>\n",
       "      <td>1.295350e+05</td>\n",
       "      <td>129535.0</td>\n",
       "      <td>70785.0</td>\n",
       "      <td>70785.000000</td>\n",
       "    </tr>\n",
       "    <tr>\n",
       "      <th>mean</th>\n",
       "      <td>1.024410e+08</td>\n",
       "      <td>1.0</td>\n",
       "      <td>1.0</td>\n",
       "      <td>48.770761</td>\n",
       "    </tr>\n",
       "    <tr>\n",
       "      <th>std</th>\n",
       "      <td>7.236206e+07</td>\n",
       "      <td>0.0</td>\n",
       "      <td>0.0</td>\n",
       "      <td>228.927258</td>\n",
       "    </tr>\n",
       "    <tr>\n",
       "      <th>min</th>\n",
       "      <td>5.250000e+03</td>\n",
       "      <td>1.0</td>\n",
       "      <td>1.0</td>\n",
       "      <td>0.100000</td>\n",
       "    </tr>\n",
       "    <tr>\n",
       "      <th>25%</th>\n",
       "      <td>4.548346e+07</td>\n",
       "      <td>1.0</td>\n",
       "      <td>1.0</td>\n",
       "      <td>1.000000</td>\n",
       "    </tr>\n",
       "    <tr>\n",
       "      <th>50%</th>\n",
       "      <td>8.605570e+07</td>\n",
       "      <td>1.0</td>\n",
       "      <td>1.0</td>\n",
       "      <td>4.500000</td>\n",
       "    </tr>\n",
       "    <tr>\n",
       "      <th>75%</th>\n",
       "      <td>1.542307e+08</td>\n",
       "      <td>1.0</td>\n",
       "      <td>1.0</td>\n",
       "      <td>19.100000</td>\n",
       "    </tr>\n",
       "    <tr>\n",
       "      <th>max</th>\n",
       "      <td>3.099031e+08</td>\n",
       "      <td>1.0</td>\n",
       "      <td>1.0</td>\n",
       "      <td>11754.000000</td>\n",
       "    </tr>\n",
       "  </tbody>\n",
       "</table>\n",
       "</div>"
      ],
      "text/plain": [
       "             userId  purchase     play       Actions\n",
       "count  1.295350e+05  129535.0  70785.0  70785.000000\n",
       "mean   1.024410e+08       1.0      1.0     48.770761\n",
       "std    7.236206e+07       0.0      0.0    228.927258\n",
       "min    5.250000e+03       1.0      1.0      0.100000\n",
       "25%    4.548346e+07       1.0      1.0      1.000000\n",
       "50%    8.605570e+07       1.0      1.0      4.500000\n",
       "75%    1.542307e+08       1.0      1.0     19.100000\n",
       "max    3.099031e+08       1.0      1.0  11754.000000"
      ]
     },
     "execution_count": 3,
     "metadata": {},
     "output_type": "execute_result"
    }
   ],
   "source": [
    "data_copy.describe()"
   ]
  },
  {
   "cell_type": "markdown",
   "metadata": {},
   "source": [
    "### Some obervations\n",
    "\n",
    "Above summary shows that ```purchase``` has only a single value 1.0. We will **not** include purchase status in building our recommender, for two reasons:\n",
    "1. number of hours played is more interesting to look at - it is an implicit feedback of the user's preference for games he/she has purchased\n",
    "2. if using [Jaccard similarity](https://apple.github.io/turicreate/docs/api/generated/turicreate.recommender.item_similarity_recommender.ItemSimilarityRecommender.html) when measuring the similarity between two sets of elements, the number of hours played are treated as binary purchase status (1/0)\n",
    "\n",
    "For ```play``` column, the data is heavily skewed and has a large range. There are different ways to do normalization. Since we are going to use it to represent the user's ranking of preference within his / her own purchases, let's convert it to the percentage of hours each user spends on each game he / she owns. \n",
    "\n",
    "But before doing that, notice there are 128804 purchase records and only 70489 play records, meaning some users bought certain games but never played them. We need to find a score for those less-favoured games too. To differentiate them from the games that a user has never bought, we can impute the corresponding play fields with a small value less than the min 0.1, say 0.05. Then we can move on to calculate the percentage as planned."
   ]
  },
  {
   "cell_type": "code",
   "execution_count": 4,
   "metadata": {},
   "outputs": [],
   "source": [
    "data_copy.drop(\"purchase\", axis = 1, inplace = True)\n",
    "data_copy[\"Actions\"].fillna(0.05, inplace=True)\n",
    "data_copy[\"play\"].fillna(0, inplace=True)\n"
   ]
  },
  {
   "cell_type": "markdown",
   "metadata": {},
   "source": [
    "just in case there is duplicated row in the dataframe, we implement the following function to ensure that every row in our dataframe will be distinct"
   ]
  },
  {
   "cell_type": "code",
   "execution_count": 5,
   "metadata": {},
   "outputs": [],
   "source": [
    "#remove duplicates \n",
    "data_copy = data_copy.drop_duplicates(subset=None,keep=\"first\")"
   ]
  },
  {
   "cell_type": "markdown",
   "metadata": {},
   "source": [
    "besides, we could also have duplicated rows with the same userId and gameName appearing together. This might be some mistakes that happen during the data collection stage so that the hours has not been fully merged and accumulated. we wanna sum up the number of hours for the corrections"
   ]
  },
  {
   "cell_type": "code",
   "execution_count": 6,
   "metadata": {},
   "outputs": [
    {
     "name": "stdout",
     "output_type": "stream",
     "text": [
      "       userId                                      gameName  Actions\n",
      "0    28472068                          Grand Theft Auto III      0.5\n",
      "1    28472068                  Grand Theft Auto San Andreas      0.9\n",
      "2    28472068                    Grand Theft Auto Vice City      5.7\n",
      "3    33865373                   Sid Meier's Civilization IV    137.0\n",
      "4    50769696                  Grand Theft Auto San Andreas     14.0\n",
      "5    59925638                       Tom Clancy's H.A.W.X. 2      7.4\n",
      "6    71411882                          Grand Theft Auto III      1.3\n",
      "7    71510748                  Grand Theft Auto San Andreas      0.8\n",
      "8   118664413                  Grand Theft Auto San Andreas      2.1\n",
      "9   148362155                  Grand Theft Auto San Andreas     26.3\n",
      "10  176261926                   Sid Meier's Civilization IV     14.8\n",
      "11  176261926  Sid Meier's Civilization IV Beyond the Sword    564.4\n"
     ]
    },
    {
     "name": "stderr",
     "output_type": "stream",
     "text": [
      "/Library/Frameworks/Python.framework/Versions/3.6/lib/python3.6/site-packages/pandas/core/frame.py:5516: SettingWithCopyWarning: \n",
      "A value is trying to be set on a copy of a slice from a DataFrame.\n",
      "Try using .loc[row_indexer,col_indexer] = value instead\n",
      "\n",
      "See the caveats in the documentation: http://pandas.pydata.org/pandas-docs/stable/indexing.html#indexing-view-versus-copy\n",
      "  self[col] = expressions.where(mask, this, that)\n"
     ]
    }
   ],
   "source": [
    "dp = data_copy[data_copy.duplicated(subset=['userId','gameName'], keep=False)]\n",
    "dp = dp.groupby(['userId','gameName'], as_index=False)['Actions'].sum()\n",
    "print(dp)\n",
    "dp = dp.groupby(['userId','gameName'], as_index=False)['Actions'].sum()\n",
    "data_copy.update(dp)\n",
    "data_copy = data_copy.drop_duplicates(subset=['userId','gameName'],keep=\"first\")"
   ]
  },
  {
   "cell_type": "markdown",
   "metadata": {},
   "source": [
    "### Replace actual hours played with percentage of hours on a game for each user"
   ]
  },
  {
   "cell_type": "code",
   "execution_count": 7,
   "metadata": {},
   "outputs": [],
   "source": [
    "d = data_copy.groupby('userId')['Actions'].apply(lambda x: x/ x.sum())\n",
    "data_copy.update(d)\n",
    "# convert userId to int\n",
    "data_copy['userId'] = data_copy['userId'].astype(int)"
   ]
  },
  {
   "cell_type": "markdown",
   "metadata": {},
   "source": [
    "### Output and save the dataframe"
   ]
  },
  {
   "cell_type": "code",
   "execution_count": 8,
   "metadata": {},
   "outputs": [],
   "source": [
    "data_copy.to_pickle('clean_steam.pkl')"
   ]
  },
  {
   "cell_type": "markdown",
   "metadata": {},
   "source": [
    "### Before building the recommender, here is an optional step - indexing the game names with integers\n",
    "Based on doc of turicreate.recommender.create, the user ID and item ID columns can be either int or str, meaning that keeping the game title as is should be fine. Here let's do an extra step that indexes those strings with integers. (Maybe when we feel less lazy we can try spark.ml's recommender on it too.)\n",
    "\n",
    "However indexing is essential when you build models with Spark's machine learning libraries."
   ]
  },
  {
   "cell_type": "code",
   "execution_count": 9,
   "metadata": {},
   "outputs": [],
   "source": [
    "data_copy['gameId']= data_copy.gameName.astype('category').cat.codes"
   ]
  },
  {
   "cell_type": "markdown",
   "metadata": {},
   "source": [
    "### we want to create a look up table for the gameName and gameId columns"
   ]
  },
  {
   "cell_type": "code",
   "execution_count": 10,
   "metadata": {},
   "outputs": [
    {
     "name": "stdout",
     "output_type": "stream",
     "text": [
      "<class 'pandas.core.frame.DataFrame'>\n",
      "Int64Index: 128792 entries, 41879 to 83172\n",
      "Data columns (total 5 columns):\n",
      "userId      128792 non-null int64\n",
      "gameName    128792 non-null object\n",
      "play        128792 non-null float64\n",
      "Actions     128792 non-null float64\n",
      "gameId      128792 non-null int16\n",
      "dtypes: float64(2), int16(1), int64(1), object(1)\n",
      "memory usage: 5.2+ MB\n"
     ]
    }
   ],
   "source": [
    "data_copy.info()"
   ]
  },
  {
   "cell_type": "code",
   "execution_count": 11,
   "metadata": {},
   "outputs": [
    {
     "data": {
      "text/html": [
       "<div>\n",
       "<style scoped>\n",
       "    .dataframe tbody tr th:only-of-type {\n",
       "        vertical-align: middle;\n",
       "    }\n",
       "\n",
       "    .dataframe tbody tr th {\n",
       "        vertical-align: top;\n",
       "    }\n",
       "\n",
       "    .dataframe thead th {\n",
       "        text-align: right;\n",
       "    }\n",
       "</style>\n",
       "<table border=\"1\" class=\"dataframe\">\n",
       "  <thead>\n",
       "    <tr style=\"text-align: right;\">\n",
       "      <th></th>\n",
       "      <th>gameName</th>\n",
       "      <th>gameId</th>\n",
       "    </tr>\n",
       "  </thead>\n",
       "  <tbody>\n",
       "    <tr>\n",
       "      <th>40639</th>\n",
       "      <td>007 Legends</td>\n",
       "      <td>0</td>\n",
       "    </tr>\n",
       "    <tr>\n",
       "      <th>72197</th>\n",
       "      <td>0RBITALIS</td>\n",
       "      <td>1</td>\n",
       "    </tr>\n",
       "    <tr>\n",
       "      <th>58190</th>\n",
       "      <td>1... 2... 3... KICK IT! (Drop That Beat Like a...</td>\n",
       "      <td>2</td>\n",
       "    </tr>\n",
       "    <tr>\n",
       "      <th>72198</th>\n",
       "      <td>10 Second Ninja</td>\n",
       "      <td>3</td>\n",
       "    </tr>\n",
       "    <tr>\n",
       "      <th>47824</th>\n",
       "      <td>10,000,000</td>\n",
       "      <td>4</td>\n",
       "    </tr>\n",
       "  </tbody>\n",
       "</table>\n",
       "</div>"
      ],
      "text/plain": [
       "                                                gameName  gameId\n",
       "40639                                        007 Legends       0\n",
       "72197                                          0RBITALIS       1\n",
       "58190  1... 2... 3... KICK IT! (Drop That Beat Like a...       2\n",
       "72198                                    10 Second Ninja       3\n",
       "47824                                         10,000,000       4"
      ]
     },
     "execution_count": 11,
     "metadata": {},
     "output_type": "execute_result"
    }
   ],
   "source": [
    "game_map = data_copy[['gameName','gameId']].copy().drop_duplicates().sort_values(by=['gameId'])\n",
    "game_map.head()"
   ]
  },
  {
   "cell_type": "markdown",
   "metadata": {},
   "source": [
    "### Item - Item similarity model in Turicreate"
   ]
  },
  {
   "cell_type": "markdown",
   "metadata": {},
   "source": [
    "According to the documentation [here](https://apple.github.io/turicreate/docs/userguide/recommender/using-trained-models.html), turicreate excludes the items that are observed for each user. In order to test the accuracy of the model, it is important to split a proportion of user's data into train and test for validation. \n",
    "but for now, let us just feed all the data in to our model.\n",
    "\n",
    "There are 3 similarity measurements for similarity type - jaccard, cosine and pearson. In our case, We choose Pearson to measure the loss."
   ]
  },
  {
   "cell_type": "code",
   "execution_count": 12,
   "metadata": {},
   "outputs": [
    {
     "data": {
      "text/html": [
       "<pre>Warning: Ignoring columns gameName, play;</pre>"
      ],
      "text/plain": [
       "Warning: Ignoring columns gameName, play;"
      ]
     },
     "metadata": {},
     "output_type": "display_data"
    },
    {
     "data": {
      "text/html": [
       "<pre>    To use these columns in scoring predictions, use a model that allows the use of additional features.</pre>"
      ],
      "text/plain": [
       "    To use these columns in scoring predictions, use a model that allows the use of additional features."
      ]
     },
     "metadata": {},
     "output_type": "display_data"
    },
    {
     "data": {
      "text/html": [
       "<pre>Preparing data set.</pre>"
      ],
      "text/plain": [
       "Preparing data set."
      ]
     },
     "metadata": {},
     "output_type": "display_data"
    },
    {
     "data": {
      "text/html": [
       "<pre>    Data has 128792 observations with 12393 users and 5155 items.</pre>"
      ],
      "text/plain": [
       "    Data has 128792 observations with 12393 users and 5155 items."
      ]
     },
     "metadata": {},
     "output_type": "display_data"
    },
    {
     "data": {
      "text/html": [
       "<pre>    Data prepared in: 0.280377s</pre>"
      ],
      "text/plain": [
       "    Data prepared in: 0.280377s"
      ]
     },
     "metadata": {},
     "output_type": "display_data"
    },
    {
     "data": {
      "text/html": [
       "<pre>Training model from provided data.</pre>"
      ],
      "text/plain": [
       "Training model from provided data."
      ]
     },
     "metadata": {},
     "output_type": "display_data"
    },
    {
     "data": {
      "text/html": [
       "<pre>Gathering per-item and per-user statistics.</pre>"
      ],
      "text/plain": [
       "Gathering per-item and per-user statistics."
      ]
     },
     "metadata": {},
     "output_type": "display_data"
    },
    {
     "data": {
      "text/html": [
       "<pre>+--------------------------------+------------+</pre>"
      ],
      "text/plain": [
       "+--------------------------------+------------+"
      ]
     },
     "metadata": {},
     "output_type": "display_data"
    },
    {
     "data": {
      "text/html": [
       "<pre>| Elapsed Time (Item Statistics) | % Complete |</pre>"
      ],
      "text/plain": [
       "| Elapsed Time (Item Statistics) | % Complete |"
      ]
     },
     "metadata": {},
     "output_type": "display_data"
    },
    {
     "data": {
      "text/html": [
       "<pre>+--------------------------------+------------+</pre>"
      ],
      "text/plain": [
       "+--------------------------------+------------+"
      ]
     },
     "metadata": {},
     "output_type": "display_data"
    },
    {
     "data": {
      "text/html": [
       "<pre>| 48.99ms                        | 8          |</pre>"
      ],
      "text/plain": [
       "| 48.99ms                        | 8          |"
      ]
     },
     "metadata": {},
     "output_type": "display_data"
    },
    {
     "data": {
      "text/html": [
       "<pre>| 109.132ms                      | 100        |</pre>"
      ],
      "text/plain": [
       "| 109.132ms                      | 100        |"
      ]
     },
     "metadata": {},
     "output_type": "display_data"
    },
    {
     "data": {
      "text/html": [
       "<pre>+--------------------------------+------------+</pre>"
      ],
      "text/plain": [
       "+--------------------------------+------------+"
      ]
     },
     "metadata": {},
     "output_type": "display_data"
    },
    {
     "data": {
      "text/html": [
       "<pre>Setting up lookup tables.</pre>"
      ],
      "text/plain": [
       "Setting up lookup tables."
      ]
     },
     "metadata": {},
     "output_type": "display_data"
    },
    {
     "data": {
      "text/html": [
       "<pre>Processing data in one pass using dense lookup tables.</pre>"
      ],
      "text/plain": [
       "Processing data in one pass using dense lookup tables."
      ]
     },
     "metadata": {},
     "output_type": "display_data"
    },
    {
     "data": {
      "text/html": [
       "<pre>+-------------------------------------+------------------+-----------------+</pre>"
      ],
      "text/plain": [
       "+-------------------------------------+------------------+-----------------+"
      ]
     },
     "metadata": {},
     "output_type": "display_data"
    },
    {
     "data": {
      "text/html": [
       "<pre>| Elapsed Time (Constructing Lookups) | Total % Complete | Items Processed |</pre>"
      ],
      "text/plain": [
       "| Elapsed Time (Constructing Lookups) | Total % Complete | Items Processed |"
      ]
     },
     "metadata": {},
     "output_type": "display_data"
    },
    {
     "data": {
      "text/html": [
       "<pre>+-------------------------------------+------------------+-----------------+</pre>"
      ],
      "text/plain": [
       "+-------------------------------------+------------------+-----------------+"
      ]
     },
     "metadata": {},
     "output_type": "display_data"
    },
    {
     "data": {
      "text/html": [
       "<pre>| 196.862ms                           | 0                | 0               |</pre>"
      ],
      "text/plain": [
       "| 196.862ms                           | 0                | 0               |"
      ]
     },
     "metadata": {},
     "output_type": "display_data"
    },
    {
     "data": {
      "text/html": [
       "<pre>| 1.49s                               | 100              | 5155            |</pre>"
      ],
      "text/plain": [
       "| 1.49s                               | 100              | 5155            |"
      ]
     },
     "metadata": {},
     "output_type": "display_data"
    },
    {
     "data": {
      "text/html": [
       "<pre>+-------------------------------------+------------------+-----------------+</pre>"
      ],
      "text/plain": [
       "+-------------------------------------+------------------+-----------------+"
      ]
     },
     "metadata": {},
     "output_type": "display_data"
    },
    {
     "data": {
      "text/html": [
       "<pre>Finalizing lookup tables.</pre>"
      ],
      "text/plain": [
       "Finalizing lookup tables."
      ]
     },
     "metadata": {},
     "output_type": "display_data"
    },
    {
     "data": {
      "text/html": [
       "<pre>Generating candidate set for working with new users.</pre>"
      ],
      "text/plain": [
       "Generating candidate set for working with new users."
      ]
     },
     "metadata": {},
     "output_type": "display_data"
    },
    {
     "data": {
      "text/html": [
       "<pre>Finished training in 2.6161s</pre>"
      ],
      "text/plain": [
       "Finished training in 2.6161s"
      ]
     },
     "metadata": {},
     "output_type": "display_data"
    }
   ],
   "source": [
    "# create SFrame from DataFrame\n",
    "from turicreate import SFrame\n",
    "\n",
    "game_sf = SFrame(data=data_copy)\n",
    "\n",
    "item_item_reco = turicreate.recommender.item_similarity_recommender.create( \\\n",
    "    game_sf, user_id='userId', item_id='gameId', \\\n",
    "    target=\"Actions\", similarity_type='pearson')"
   ]
  },
  {
   "cell_type": "code",
   "execution_count": 13,
   "metadata": {},
   "outputs": [],
   "source": [
    "# Get the k most similar items for each item in items. Default number is 10.\n",
    "similar_games = item_item_reco.get_similar_items()"
   ]
  },
  {
   "cell_type": "code",
   "execution_count": 14,
   "metadata": {},
   "outputs": [
    {
     "name": "stdout",
     "output_type": "stream",
     "text": [
      "+--------+-------------------------+---------+-------------------------------+\n",
      "| gameId |         gameName        | similar |          similar_game         |\n",
      "+--------+-------------------------+---------+-------------------------------+\n",
      "|  2072  | Half-Life 2 Episode One |   2070  |          Half-Life 2          |\n",
      "|  2072  | Half-Life 2 Episode One |   2077  |  Half-Life Deathmatch Source  |\n",
      "|  2072  | Half-Life 2 Episode One |   2073  |    Half-Life 2 Episode Two    |\n",
      "|  2072  | Half-Life 2 Episode One |   2074  |     Half-Life 2 Lost Coast    |\n",
      "|  2072  | Half-Life 2 Episode One |   3627  |       SEGA Bass Fishing       |\n",
      "|  2072  | Half-Life 2 Episode One |   1003  |           Crazy Taxi          |\n",
      "|  2072  | Half-Life 2 Episode One |   480   | Battlefield Bad Company 2 ... |\n",
      "|  2072  | Half-Life 2 Episode One |   3222  |             Portal            |\n",
      "|  2072  | Half-Life 2 Episode One |   2076  |      Half-Life Blue Shift     |\n",
      "|  2072  | Half-Life 2 Episode One |   1073  |             DEFCON            |\n",
      "+--------+-------------------------+---------+-------------------------------+\n",
      "+----------------------+------+\n",
      "|        score         | rank |\n",
      "+----------------------+------+\n",
      "| 0.12549066543579102  |  1   |\n",
      "| 0.11610662937164307  |  2   |\n",
      "| 0.09407681226730347  |  3   |\n",
      "| 0.07755649089813232  |  4   |\n",
      "| 0.07511734962463379  |  5   |\n",
      "| 0.06992805004119873  |  6   |\n",
      "| 0.05807262659072876  |  7   |\n",
      "| 0.055140018463134766 |  8   |\n",
      "| 0.04686927795410156  |  9   |\n",
      "| 0.045857906341552734 |  10  |\n",
      "+----------------------+------+\n",
      "[10 rows x 6 columns]\n",
      "\n"
     ]
    }
   ],
   "source": [
    "# for example to check some results\n",
    "game_map_sframe = turicreate.SFrame(game_map)\n",
    "\n",
    "similar_games_named = similar_games.join(game_map_sframe, on=\"gameId\", how=\"left\") \\\n",
    "   .join(game_map_sframe, on={\"similar\":\"gameId\"}, how=\"left\") \\\n",
    "  .rename({\"gameName.1\":\"similar_game\"}, True) \\\n",
    "   .select_columns([\"gameId\", \"gameName\", \"similar\", \"similar_game\", \"score\", \"rank\"])\n",
    "\n",
    "# print the result of one game for testing\n",
    "a =similar_games_named[similar_games_named['gameName']== \"Half-Life 2 Episode One\"]\n",
    "a.print_rows(num_rows=10, num_columns=6) \n"
   ]
  },
  {
   "cell_type": "markdown",
   "metadata": {},
   "source": [
    "### Let's pick a user and see what recommendations he / she gets:"
   ]
  },
  {
   "cell_type": "code",
   "execution_count": 45,
   "metadata": {},
   "outputs": [
    {
     "data": {
      "text/html": [
       "<pre>recommendations finished on 1000/12393 queries. users per second: 14727.1</pre>"
      ],
      "text/plain": [
       "recommendations finished on 1000/12393 queries. users per second: 14727.1"
      ]
     },
     "metadata": {},
     "output_type": "display_data"
    },
    {
     "data": {
      "text/html": [
       "<pre>recommendations finished on 2000/12393 queries. users per second: 16494.7</pre>"
      ],
      "text/plain": [
       "recommendations finished on 2000/12393 queries. users per second: 16494.7"
      ]
     },
     "metadata": {},
     "output_type": "display_data"
    },
    {
     "data": {
      "text/html": [
       "<pre>recommendations finished on 3000/12393 queries. users per second: 17283.4</pre>"
      ],
      "text/plain": [
       "recommendations finished on 3000/12393 queries. users per second: 17283.4"
      ]
     },
     "metadata": {},
     "output_type": "display_data"
    },
    {
     "data": {
      "text/html": [
       "<pre>recommendations finished on 4000/12393 queries. users per second: 18242</pre>"
      ],
      "text/plain": [
       "recommendations finished on 4000/12393 queries. users per second: 18242"
      ]
     },
     "metadata": {},
     "output_type": "display_data"
    },
    {
     "data": {
      "text/html": [
       "<pre>recommendations finished on 5000/12393 queries. users per second: 18170.1</pre>"
      ],
      "text/plain": [
       "recommendations finished on 5000/12393 queries. users per second: 18170.1"
      ]
     },
     "metadata": {},
     "output_type": "display_data"
    },
    {
     "data": {
      "text/html": [
       "<pre>recommendations finished on 6000/12393 queries. users per second: 17607.7</pre>"
      ],
      "text/plain": [
       "recommendations finished on 6000/12393 queries. users per second: 17607.7"
      ]
     },
     "metadata": {},
     "output_type": "display_data"
    },
    {
     "data": {
      "text/html": [
       "<pre>recommendations finished on 7000/12393 queries. users per second: 18140.2</pre>"
      ],
      "text/plain": [
       "recommendations finished on 7000/12393 queries. users per second: 18140.2"
      ]
     },
     "metadata": {},
     "output_type": "display_data"
    },
    {
     "data": {
      "text/html": [
       "<pre>recommendations finished on 8000/12393 queries. users per second: 18301.9</pre>"
      ],
      "text/plain": [
       "recommendations finished on 8000/12393 queries. users per second: 18301.9"
      ]
     },
     "metadata": {},
     "output_type": "display_data"
    },
    {
     "data": {
      "text/html": [
       "<pre>recommendations finished on 9000/12393 queries. users per second: 18662.6</pre>"
      ],
      "text/plain": [
       "recommendations finished on 9000/12393 queries. users per second: 18662.6"
      ]
     },
     "metadata": {},
     "output_type": "display_data"
    },
    {
     "data": {
      "text/html": [
       "<pre>recommendations finished on 10000/12393 queries. users per second: 18072.9</pre>"
      ],
      "text/plain": [
       "recommendations finished on 10000/12393 queries. users per second: 18072.9"
      ]
     },
     "metadata": {},
     "output_type": "display_data"
    },
    {
     "data": {
      "text/html": [
       "<pre>recommendations finished on 11000/12393 queries. users per second: 17807.3</pre>"
      ],
      "text/plain": [
       "recommendations finished on 11000/12393 queries. users per second: 17807.3"
      ]
     },
     "metadata": {},
     "output_type": "display_data"
    },
    {
     "data": {
      "text/html": [
       "<pre>recommendations finished on 12000/12393 queries. users per second: 17633.1</pre>"
      ],
      "text/plain": [
       "recommendations finished on 12000/12393 queries. users per second: 17633.1"
      ]
     },
     "metadata": {},
     "output_type": "display_data"
    },
    {
     "name": "stdout",
     "output_type": "stream",
     "text": [
      "+--------+--------+--------------------+------+-------------------------------+\n",
      "| userId | gameId |       score        | rank |            gameName           |\n",
      "+--------+--------+--------------------+------+-------------------------------+\n",
      "|  5250  |  1705  |        1.0         |  1   |    Fast & Furious Showdown    |\n",
      "|  5250  |  831   |        1.0         |  2   |       Chip's Challenge 2      |\n",
      "|  5250  |  4934  |        1.0         |  3   |     Warrior Kings Battles     |\n",
      "|  5250  |  1271  |        1.0         |  4   |          Diaper Dash          |\n",
      "|  5250  |  1607  |        1.0         |  5   |        FIFA Manager 10        |\n",
      "|  5250  |  1837  |        1.0         |  6   |         Funk of Titans        |\n",
      "|  5250  |  4013  | 0.9385474860335195 |  7   |    Star Traders 4X Empires    |\n",
      "|  5250  |  3609  | 0.9222188130095555 |  8   |        Runestone Keeper       |\n",
      "|  5250  |  714   |        0.7         |  9   |  Cabela's Hunting Expeditions |\n",
      "|  5250  |  2535  | 0.696555909573661  |  10  | London 2012 The Official V... |\n",
      "+--------+--------+--------------------+------+-------------------------------+\n",
      "[123930 rows x 5 columns]\n",
      "Note: Only the head of the SFrame is printed.\n",
      "You can use print_rows(num_rows=m, num_columns=n) to print more rows and columns.\n"
     ]
    }
   ],
   "source": [
    "rec_result = item_item_reco.recommend(diversity=3,random_seed=42).join(game_map_sframe, on=\"gameId\", how=\"left\")\n",
    "print (rec_result)"
   ]
  },
  {
   "cell_type": "markdown",
   "metadata": {},
   "source": [
    "### In order to better estimate the accuracy of our model, we decide to split the training and testing set, and use \"precision_recall\" as our metric. \n",
    "check [here](https://apple.github.io/turicreate/docs/api/generated/turicreate.recommender.item_similarity_recommender.ItemSimilarityRecommender.evaluate.html#turicreate.recommender.item_similarity_recommender.ItemSimilarityRecommender.evaluate) for more info."
   ]
  },
  {
   "cell_type": "code",
   "execution_count": 46,
   "metadata": {},
   "outputs": [],
   "source": [
    "game_sf2 = SFrame(data=data_copy)\n",
    "\n",
    "#The test dataset is generated by first choosing max_num_users out of the total number of users in dataset. Then, for each of the chosen test users, \n",
    "#a portion of the user’s items (determined by item_test_proportion) is randomly chosen to be included in the test set. \n",
    "#This split allows the training data to retain enough information about the users in the testset, so that adequate recommendations can be made. \n",
    "#The total number of users in the test set may be fewer than max_num_users if a user was chosen for the test set but none of their items are selected.\n",
    "\n",
    "train_sframe, test_sframe = turicreate.recommender.util.random_split_by_user(game_sf2, user_id=\"userId\", item_id=\"gameId\", max_num_users=500)"
   ]
  },
  {
   "cell_type": "code",
   "execution_count": 69,
   "metadata": {},
   "outputs": [
    {
     "data": {
      "text/html": [
       "<pre>Warning: Ignoring columns gameName, play;</pre>"
      ],
      "text/plain": [
       "Warning: Ignoring columns gameName, play;"
      ]
     },
     "metadata": {},
     "output_type": "display_data"
    },
    {
     "data": {
      "text/html": [
       "<pre>    To use these columns in scoring predictions, use a model that allows the use of additional features.</pre>"
      ],
      "text/plain": [
       "    To use these columns in scoring predictions, use a model that allows the use of additional features."
      ]
     },
     "metadata": {},
     "output_type": "display_data"
    },
    {
     "data": {
      "text/html": [
       "<pre>Preparing data set.</pre>"
      ],
      "text/plain": [
       "Preparing data set."
      ]
     },
     "metadata": {},
     "output_type": "display_data"
    },
    {
     "data": {
      "text/html": [
       "<pre>    Data has 128792 observations with 12393 users and 5155 items.</pre>"
      ],
      "text/plain": [
       "    Data has 128792 observations with 12393 users and 5155 items."
      ]
     },
     "metadata": {},
     "output_type": "display_data"
    },
    {
     "data": {
      "text/html": [
       "<pre>    Data prepared in: 0.162605s</pre>"
      ],
      "text/plain": [
       "    Data prepared in: 0.162605s"
      ]
     },
     "metadata": {},
     "output_type": "display_data"
    },
    {
     "data": {
      "text/html": [
       "<pre>Training model from provided data.</pre>"
      ],
      "text/plain": [
       "Training model from provided data."
      ]
     },
     "metadata": {},
     "output_type": "display_data"
    },
    {
     "data": {
      "text/html": [
       "<pre>Gathering per-item and per-user statistics.</pre>"
      ],
      "text/plain": [
       "Gathering per-item and per-user statistics."
      ]
     },
     "metadata": {},
     "output_type": "display_data"
    },
    {
     "data": {
      "text/html": [
       "<pre>+--------------------------------+------------+</pre>"
      ],
      "text/plain": [
       "+--------------------------------+------------+"
      ]
     },
     "metadata": {},
     "output_type": "display_data"
    },
    {
     "data": {
      "text/html": [
       "<pre>| Elapsed Time (Item Statistics) | % Complete |</pre>"
      ],
      "text/plain": [
       "| Elapsed Time (Item Statistics) | % Complete |"
      ]
     },
     "metadata": {},
     "output_type": "display_data"
    },
    {
     "data": {
      "text/html": [
       "<pre>+--------------------------------+------------+</pre>"
      ],
      "text/plain": [
       "+--------------------------------+------------+"
      ]
     },
     "metadata": {},
     "output_type": "display_data"
    },
    {
     "data": {
      "text/html": [
       "<pre>| 3.247ms                        | 8          |</pre>"
      ],
      "text/plain": [
       "| 3.247ms                        | 8          |"
      ]
     },
     "metadata": {},
     "output_type": "display_data"
    },
    {
     "data": {
      "text/html": [
       "<pre>| 13.475ms                       | 100        |</pre>"
      ],
      "text/plain": [
       "| 13.475ms                       | 100        |"
      ]
     },
     "metadata": {},
     "output_type": "display_data"
    },
    {
     "data": {
      "text/html": [
       "<pre>+--------------------------------+------------+</pre>"
      ],
      "text/plain": [
       "+--------------------------------+------------+"
      ]
     },
     "metadata": {},
     "output_type": "display_data"
    },
    {
     "data": {
      "text/html": [
       "<pre>Setting up lookup tables.</pre>"
      ],
      "text/plain": [
       "Setting up lookup tables."
      ]
     },
     "metadata": {},
     "output_type": "display_data"
    },
    {
     "data": {
      "text/html": [
       "<pre>Processing data in one pass using dense lookup tables.</pre>"
      ],
      "text/plain": [
       "Processing data in one pass using dense lookup tables."
      ]
     },
     "metadata": {},
     "output_type": "display_data"
    },
    {
     "data": {
      "text/html": [
       "<pre>+-------------------------------------+------------------+-----------------+</pre>"
      ],
      "text/plain": [
       "+-------------------------------------+------------------+-----------------+"
      ]
     },
     "metadata": {},
     "output_type": "display_data"
    },
    {
     "data": {
      "text/html": [
       "<pre>| Elapsed Time (Constructing Lookups) | Total % Complete | Items Processed |</pre>"
      ],
      "text/plain": [
       "| Elapsed Time (Constructing Lookups) | Total % Complete | Items Processed |"
      ]
     },
     "metadata": {},
     "output_type": "display_data"
    },
    {
     "data": {
      "text/html": [
       "<pre>+-------------------------------------+------------------+-----------------+</pre>"
      ],
      "text/plain": [
       "+-------------------------------------+------------------+-----------------+"
      ]
     },
     "metadata": {},
     "output_type": "display_data"
    },
    {
     "data": {
      "text/html": [
       "<pre>| 71.586ms                            | 0                | 0               |</pre>"
      ],
      "text/plain": [
       "| 71.586ms                            | 0                | 0               |"
      ]
     },
     "metadata": {},
     "output_type": "display_data"
    },
    {
     "data": {
      "text/html": [
       "<pre>| 859.276ms                           | 100              | 5155            |</pre>"
      ],
      "text/plain": [
       "| 859.276ms                           | 100              | 5155            |"
      ]
     },
     "metadata": {},
     "output_type": "display_data"
    },
    {
     "data": {
      "text/html": [
       "<pre>+-------------------------------------+------------------+-----------------+</pre>"
      ],
      "text/plain": [
       "+-------------------------------------+------------------+-----------------+"
      ]
     },
     "metadata": {},
     "output_type": "display_data"
    },
    {
     "data": {
      "text/html": [
       "<pre>Finalizing lookup tables.</pre>"
      ],
      "text/plain": [
       "Finalizing lookup tables."
      ]
     },
     "metadata": {},
     "output_type": "display_data"
    },
    {
     "data": {
      "text/html": [
       "<pre>Generating candidate set for working with new users.</pre>"
      ],
      "text/plain": [
       "Generating candidate set for working with new users."
      ]
     },
     "metadata": {},
     "output_type": "display_data"
    },
    {
     "data": {
      "text/html": [
       "<pre>Finished training in 0.954564s</pre>"
      ],
      "text/plain": [
       "Finished training in 0.954564s"
      ]
     },
     "metadata": {},
     "output_type": "display_data"
    },
    {
     "data": {
      "text/html": [
       "<pre>recommendations finished on 1000/12393 queries. users per second: 4213.45</pre>"
      ],
      "text/plain": [
       "recommendations finished on 1000/12393 queries. users per second: 4213.45"
      ]
     },
     "metadata": {},
     "output_type": "display_data"
    },
    {
     "data": {
      "text/html": [
       "<pre>recommendations finished on 2000/12393 queries. users per second: 6399.47</pre>"
      ],
      "text/plain": [
       "recommendations finished on 2000/12393 queries. users per second: 6399.47"
      ]
     },
     "metadata": {},
     "output_type": "display_data"
    },
    {
     "data": {
      "text/html": [
       "<pre>recommendations finished on 3000/12393 queries. users per second: 8343.65</pre>"
      ],
      "text/plain": [
       "recommendations finished on 3000/12393 queries. users per second: 8343.65"
      ]
     },
     "metadata": {},
     "output_type": "display_data"
    },
    {
     "data": {
      "text/html": [
       "<pre>recommendations finished on 4000/12393 queries. users per second: 9678.01</pre>"
      ],
      "text/plain": [
       "recommendations finished on 4000/12393 queries. users per second: 9678.01"
      ]
     },
     "metadata": {},
     "output_type": "display_data"
    },
    {
     "data": {
      "text/html": [
       "<pre>recommendations finished on 5000/12393 queries. users per second: 10567.7</pre>"
      ],
      "text/plain": [
       "recommendations finished on 5000/12393 queries. users per second: 10567.7"
      ]
     },
     "metadata": {},
     "output_type": "display_data"
    },
    {
     "data": {
      "text/html": [
       "<pre>recommendations finished on 6000/12393 queries. users per second: 10904</pre>"
      ],
      "text/plain": [
       "recommendations finished on 6000/12393 queries. users per second: 10904"
      ]
     },
     "metadata": {},
     "output_type": "display_data"
    },
    {
     "data": {
      "text/html": [
       "<pre>recommendations finished on 7000/12393 queries. users per second: 11171.7</pre>"
      ],
      "text/plain": [
       "recommendations finished on 7000/12393 queries. users per second: 11171.7"
      ]
     },
     "metadata": {},
     "output_type": "display_data"
    },
    {
     "data": {
      "text/html": [
       "<pre>recommendations finished on 8000/12393 queries. users per second: 11553.9</pre>"
      ],
      "text/plain": [
       "recommendations finished on 8000/12393 queries. users per second: 11553.9"
      ]
     },
     "metadata": {},
     "output_type": "display_data"
    },
    {
     "data": {
      "text/html": [
       "<pre>recommendations finished on 9000/12393 queries. users per second: 12002</pre>"
      ],
      "text/plain": [
       "recommendations finished on 9000/12393 queries. users per second: 12002"
      ]
     },
     "metadata": {},
     "output_type": "display_data"
    },
    {
     "data": {
      "text/html": [
       "<pre>recommendations finished on 10000/12393 queries. users per second: 12368.7</pre>"
      ],
      "text/plain": [
       "recommendations finished on 10000/12393 queries. users per second: 12368.7"
      ]
     },
     "metadata": {},
     "output_type": "display_data"
    },
    {
     "data": {
      "text/html": [
       "<pre>recommendations finished on 11000/12393 queries. users per second: 12781.6</pre>"
      ],
      "text/plain": [
       "recommendations finished on 11000/12393 queries. users per second: 12781.6"
      ]
     },
     "metadata": {},
     "output_type": "display_data"
    },
    {
     "data": {
      "text/html": [
       "<pre>recommendations finished on 12000/12393 queries. users per second: 12513.9</pre>"
      ],
      "text/plain": [
       "recommendations finished on 12000/12393 queries. users per second: 12513.9"
      ]
     },
     "metadata": {},
     "output_type": "display_data"
    }
   ],
   "source": [
    "item_item_reco = turicreate.recommender.item_similarity_recommender.create( \\\n",
    "    game_sf2, user_id='userId', item_id='gameId', \\\n",
    "    target=\"Actions\", similarity_type='pearson')\n",
    "rec = item_item_reco.recommend(diversity=3,random_seed=42)\n",
    "rec = rec.join(game_map_sframe, on=\"gameId\", how=\"left\") \n",
    "from turicreate.toolkits.recommender.util import precision_recall_by_user\n",
    "\n",
    "result = precision_recall_by_user(test_sframe, rec)"
   ]
  },
  {
   "cell_type": "code",
   "execution_count": 74,
   "metadata": {},
   "outputs": [
    {
     "name": "stdout",
     "output_type": "stream",
     "text": [
      "+---------+-------------------------------+--------------------+\n",
      "|  userId |            gameName           |       score        |\n",
      "+---------+-------------------------------+--------------------+\n",
      "| 8585433 |       Chip's Challenge 2      |        1.0         |\n",
      "| 8585433 |          Diaper Dash          |        1.0         |\n",
      "| 8585433 |            Insane 2           |        1.0         |\n",
      "| 8585433 |           Jack Keane          |        1.0         |\n",
      "| 8585433 | TyranoBuilder Visual Novel... |        1.0         |\n",
      "| 8585433 |         Funk of Titans        |        1.0         |\n",
      "| 8585433 | NOBUNAGA'S AMBITION Kakush... | 0.975877192982456  |\n",
      "| 8585433 |    Eastside Hockey Manager    | 0.9458077709611452 |\n",
      "| 8585433 |           Monochroma          |        0.75        |\n",
      "| 8585433 |     Football Manager 2010     | 0.5283422527644849 |\n",
      "+---------+-------------------------------+--------------------+\n",
      "[10 rows x 3 columns]\n",
      "\n"
     ]
    }
   ],
   "source": [
    "#look at the data of user 858433 in recommendation\n",
    "\n",
    "# Filtering\n",
    "filter_sf =rec[(rec['userId']== 8585433)] \n",
    "# Displaying\n",
    "(filter_sf[['userId','gameName','score']]). print_rows(num_rows=21, num_columns=3)"
   ]
  },
  {
   "cell_type": "code",
   "execution_count": 75,
   "metadata": {},
   "outputs": [
    {
     "name": "stdout",
     "output_type": "stream",
     "text": [
      "+---------+-------------------------------+\n",
      "|  userId |            gameName           |\n",
      "+---------+-------------------------------+\n",
      "| 8585433 |             VVVVVV            |\n",
      "| 8585433 |         Super Meat Boy        |\n",
      "| 8585433 | Sang-Froid - Tales of Were... |\n",
      "| 8585433 |    Ori and the Blind Forest   |\n",
      "| 8585433 | Rising Storm/Red Orchestra... |\n",
      "| 8585433 |             Saira             |\n",
      "| 8585433 |  The Walking Dead Season Two  |\n",
      "| 8585433 |       Shadowrun Returns       |\n",
      "| 8585433 |            Distance           |\n",
      "| 8585433 |         Mirror's Edge         |\n",
      "| 8585433 |    Crysis 2 Maximum Edition   |\n",
      "| 8585433 |         SteamWorld Dig        |\n",
      "| 8585433 | Never Alone (Kisima Ingitc... |\n",
      "| 8585433 | The Misadventures of P.B. ... |\n",
      "| 8585433 |         Secret Ponchos        |\n",
      "| 8585433 |            Spelunky           |\n",
      "| 8585433 |     Euro Truck Simulator 2    |\n",
      "| 8585433 |       Tabletop Simulator      |\n",
      "| 8585433 | Sword of the Stars The Pit... |\n",
      "| 8585433 |       Surgeon Simulator       |\n",
      "| 8585433 |      Starbound - Unstable     |\n",
      "+---------+-------------------------------+\n",
      "[64 rows x 2 columns]\n",
      "\n"
     ]
    }
   ],
   "source": [
    "# Filtering\n",
    "test_sf = test_sframe[(test_sframe['userId']==  8585433 )] \n",
    "# Displaying\n",
    "test_sf.materialize()\n",
    "(test_sf[['userId', 'gameName']]). print_rows(num_rows=21, num_columns=2)"
   ]
  },
  {
   "cell_type": "code",
   "execution_count": 20,
   "metadata": {},
   "outputs": [],
   "source": [
    "# obviously for those users the precision will be 0  because there is no data about those users' in testsframe"
   ]
  },
  {
   "cell_type": "code",
   "execution_count": 76,
   "metadata": {},
   "outputs": [],
   "source": [
    "result = test_sframe.join(result, on=\"userId\", how=\"left\") \\\n",
    "   .select_columns([\"userId\",\"gameId\", \"gameName\", \"precision\", \"recall\", \"count\"])"
   ]
  },
  {
   "cell_type": "code",
   "execution_count": 77,
   "metadata": {},
   "outputs": [
    {
     "name": "stdout",
     "output_type": "stream",
     "text": [
      "+----------+--------+-------------------------------+-----------+--------+-------+\n",
      "|  userId  | gameId |            gameName           | precision | recall | count |\n",
      "+----------+--------+-------------------------------+-----------+--------+-------+\n",
      "| 1024319  |  2078  |    Half-Life Opposing Force   |    0.0    |  0.0   |   1   |\n",
      "| 1364546  |  1179  |       Deathmatch Classic      |    0.0    |  0.0   |   1   |\n",
      "| 4325465  |  1179  |       Deathmatch Classic      |    0.0    |  0.0   |   1   |\n",
      "| 8542204  |  2712  |           Metro 2033          |    0.0    |  0.0   |   9   |\n",
      "| 8542204  |  4527  |  The Witcher Enhanced Edition |    0.0    |  0.0   |   9   |\n",
      "| 8542204  |  1978  |       Grand Theft Auto V      |    0.0    |  0.0   |   9   |\n",
      "| 8542204  |  4343  |            The Crew           |    0.0    |  0.0   |   9   |\n",
      "| 8542204  |  726   |     Call of Duty Black Ops    |    0.0    |  0.0   |   9   |\n",
      "| 8542204  |  3223  |            Portal 2           |    0.0    |  0.0   |   9   |\n",
      "| 8542204  |   84   |      ARK Survival Evolved     |    0.0    |  0.0   |   9   |\n",
      "| 8542204  |  4658  |         Torchlight II         |    0.0    |  0.0   |   9   |\n",
      "| 8542204  |  3898  |        Sniper Elite V2        |    0.0    |  0.0   |   9   |\n",
      "| 8585433  |  4797  |             VVVVVV            |    0.0    |  0.0   |   64  |\n",
      "| 8585433  |  4146  |         Super Meat Boy        |    0.0    |  0.0   |   64  |\n",
      "| 8585433  |  3696  | Sang-Froid - Tales of Were... |    0.0    |  0.0   |   64  |\n",
      "| 8585433  |  3034  |    Ori and the Blind Forest   |    0.0    |  0.0   |   64  |\n",
      "| 8585433  |  3553  | Rising Storm/Red Orchestra... |    0.0    |  0.0   |   64  |\n",
      "| 8585433  |  3662  |             Saira             |    0.0    |  0.0   |   64  |\n",
      "| 8585433  |  4517  |  The Walking Dead Season Two  |    0.0    |  0.0   |   64  |\n",
      "| 8585433  |  3772  |       Shadowrun Returns       |    0.0    |  0.0   |   64  |\n",
      "| 8585433  |  1294  |            Distance           |    0.0    |  0.0   |   64  |\n",
      "| 8585433  |  2748  |         Mirror's Edge         |    0.0    |  0.0   |   64  |\n",
      "| 8585433  |  1039  |    Crysis 2 Maximum Edition   |    0.0    |  0.0   |   64  |\n",
      "| 8585433  |  4065  |         SteamWorld Dig        |    0.0    |  0.0   |   64  |\n",
      "| 8585433  |  2921  | Never Alone (Kisima Ingitc... |    0.0    |  0.0   |   64  |\n",
      "| 8585433  |  4439  | The Misadventures of P.B. ... |    0.0    |  0.0   |   64  |\n",
      "| 8585433  |  3727  |         Secret Ponchos        |    0.0    |  0.0   |   64  |\n",
      "| 8585433  |  3982  |            Spelunky           |    0.0    |  0.0   |   64  |\n",
      "| 8585433  |  1552  |     Euro Truck Simulator 2    |    0.0    |  0.0   |   64  |\n",
      "| 8585433  |  4229  |       Tabletop Simulator      |    0.0    |  0.0   |   64  |\n",
      "| 8585433  |  4182  | Sword of the Stars The Pit... |    0.0    |  0.0   |   64  |\n",
      "| 8585433  |  4166  |       Surgeon Simulator       |    0.0    |  0.0   |   64  |\n",
      "| 8585433  |  4039  |      Starbound - Unstable     |    0.0    |  0.0   |   64  |\n",
      "| 8585433  |  3865  |    Skullgirls Endless Beta    |    0.0    |  0.0   |   64  |\n",
      "| 8585433  |  3859  |   Sir, You Are Being Hunted   |    0.0    |  0.0   |   64  |\n",
      "| 8585433  |  3809  | Shower With Your Dad Simul... |    0.0    |  0.0   |   64  |\n",
      "| 8585433  |  4798  |            Vagante            |    0.0    |  0.0   |   64  |\n",
      "| 8585433  |  4771  |             Unepic            |    0.0    |  0.0   |   64  |\n",
      "| 8585433  |  4719  |           Tropico 4           |    0.0    |  0.0   |   64  |\n",
      "| 8585433  |  4698  |           Transistor          |    0.0    |  0.0   |   64  |\n",
      "| 8585433  |  4408  |     The Jackbox Party Pack    |    0.0    |  0.0   |   64  |\n",
      "| 8585433  |  4376  |       The First Templar       |    0.0    |  0.0   |   64  |\n",
      "| 8585433  |  4367  | The Elder Scrolls V Skyrim... |    0.0    |  0.0   |   64  |\n",
      "| 8585433  |  787   |        Castle Crashers        |    0.0    |  0.0   |   64  |\n",
      "| 8585433  |  1178  |  DeathSpank Thongs Of Virtue  |    0.0    |  0.0   |   64  |\n",
      "| 8585433  |  1679  |       Fallout New Vegas       |    0.0    |  0.0   |   64  |\n",
      "| 8585433  |  723   | Call of Duty 4 Modern Warfare |    0.0    |  0.0   |   64  |\n",
      "| 8585433  |  1872  |        Game Dev Tycoon        |    0.0    |  0.0   |   64  |\n",
      "| 8585433  |  649   |       Bridge Constructor      |    0.0    |  0.0   |   64  |\n",
      "| 8585433  |  1966  |      Governor of Poker 2      |    0.0    |  0.0   |   64  |\n",
      "| 8585433  |  1925  |  Giana Sisters Twisted Dreams |    0.0    |  0.0   |   64  |\n",
      "| 8585433  |  2069  |           Half-Life           |    0.0    |  0.0   |   64  |\n",
      "| 8585433  |  2040  |     Guns of Icarus Online     |    0.0    |  0.0   |   64  |\n",
      "| 8585433  |  1328  |   Don't Starve Together Beta  |    0.0    |  0.0   |   64  |\n",
      "| 8585433  |  4239  |       Tales of Maj'Eyal       |    0.0    |  0.0   |   64  |\n",
      "| 8585433  |  2702  |        Mercenary Kings        |    0.0    |  0.0   |   64  |\n",
      "| 8585433  |  2679  |    Medal of Honor Pre-Order   |    0.0    |  0.0   |   64  |\n",
      "| 8585433  |  2508  |       Lichdom Battlemage      |    0.0    |  0.0   |   64  |\n",
      "| 8585433  |  2609  |            Magicite           |    0.0    |  0.0   |   64  |\n",
      "| 8585433  |  2452  |          LUFTRAUSERS          |    0.0    |  0.0   |   64  |\n",
      "| 8585433  |  2423  |          Kraven Manor         |    0.0    |  0.0   |   64  |\n",
      "| 8585433  |  2366  |      Kerbal Space Program     |    0.0    |  0.0   |   64  |\n",
      "| 8585433  |  2760  |             Monaco            |    0.0    |  0.0   |   64  |\n",
      "| 8585433  |  5021  |        Worms Armageddon       |    0.0    |  0.0   |   64  |\n",
      "| 8585433  |  5020  |             Worms             |    0.0    |  0.0   |   64  |\n",
      "| 8585433  |  4944  |            Waveform           |    0.0    |  0.0   |   64  |\n",
      "| 8585433  |  4858  |              Volt             |    0.0    |  0.0   |   64  |\n",
      "| 8585433  |  3113  |   Patch testing for Chivalry  |    0.0    |  0.0   |   64  |\n",
      "| 8585433  |  3029  |        Orcs Must Die! 2       |    0.0    |  0.0   |   64  |\n",
      "| 8585433  |  2275  |     Intergalactic Bubbles     |    0.0    |  0.0   |   64  |\n",
      "| 8585433  |  271   | Angels of Fasaria Version 2.0 |    0.0    |  0.0   |   64  |\n",
      "| 8585433  |  400   |          Awesomenauts         |    0.0    |  0.0   |   64  |\n",
      "| 8585433  |  439   |  Ballpoint Universe Infinite  |    0.0    |  0.0   |   64  |\n",
      "| 8585433  |  958   |    Cook, Serve, Delicious!    |    0.0    |  0.0   |   64  |\n",
      "| 8585433  |  2023  |     Guild of Dungeoneering    |    0.0    |  0.0   |   64  |\n",
      "| 8585433  |  3653  |         Sacred Citadel        |    0.0    |  0.0   |   64  |\n",
      "| 8776918  |  2070  |          Half-Life 2          |    0.0    |  0.0   |   17  |\n",
      "| 8776918  |  4366  | The Elder Scrolls V Skyrim... |    0.0    |  0.0   |   17  |\n",
      "| 8776918  |  3531  |            Ricochet           |    0.0    |  0.0   |   17  |\n",
      "| 8776918  |  2659  |         Mass Effect 2         |    0.0    |  0.0   |   17  |\n",
      "| 8776918  |  2079  |        Half-Life Source       |    0.0    |  0.0   |   17  |\n",
      "| 8776918  |  2073  |    Half-Life 2 Episode Two    |    0.0    |  0.0   |   17  |\n",
      "| 8776918  |  620   | Borderlands 2 Headhunter 1... |    0.0    |  0.0   |   17  |\n",
      "| 8776918  |  1682  | Fallout New Vegas Honest H... |    0.0    |  0.0   |   17  |\n",
      "| 8776918  |  1179  |       Deathmatch Classic      |    0.0    |  0.0   |   17  |\n",
      "| 8776918  |  980   | Counter-Strike Condition Z... |    0.0    |  0.0   |   17  |\n",
      "| 8776918  |  726   |     Call of Duty Black Ops    |    0.0    |  0.0   |   17  |\n",
      "| 8776918  |  737   | Call of Duty Modern Warfar... |    0.0    |  0.0   |   17  |\n",
      "| 8776918  |  619   |         Borderlands 2         |    0.0    |  0.0   |   17  |\n",
      "| 8776918  |  1678  |           Fallout 4           |    0.0    |  0.0   |   17  |\n",
      "| 8776918  |  4994  |   Wolfenstein The New Order   |    0.0    |  0.0   |   17  |\n",
      "| 8776918  |  522   |       BioShock Infinite       |    0.0    |  0.0   |   17  |\n",
      "| 8776918  |  2715  |        Metro Last Light       |    0.0    |  0.0   |   17  |\n",
      "| 12312878 |  2074  |     Half-Life 2 Lost Coast    |    0.0    |  0.0   |   2   |\n",
      "| 12312878 |  984   |     Counter-Strike Source     |    0.0    |  0.0   |   2   |\n",
      "| 15841586 |  2071  |     Half-Life 2 Deathmatch    |    0.0    |  0.0   |   1   |\n",
      "| 23154676 |  2071  |     Half-Life 2 Deathmatch    |    0.0    |  0.0   |   1   |\n",
      "| 25272022 |  2069  |           Half-Life           |    0.0    |  0.0   |   2   |\n",
      "| 25272022 |  2076  |      Half-Life Blue Shift     |    0.0    |  0.0   |   2   |\n",
      "| 28939171 |  2074  |     Half-Life 2 Lost Coast    |    0.0    |  0.0   |   1   |\n",
      "+----------+--------+-------------------------------+-----------+--------+-------+\n",
      "[797 rows x 6 columns]\n",
      "\n"
     ]
    }
   ],
   "source": [
    "result.print_rows(num_rows=100, num_columns=6)"
   ]
  },
  {
   "cell_type": "code",
   "execution_count": null,
   "metadata": {},
   "outputs": [],
   "source": []
  }
 ],
 "metadata": {
  "kernelspec": {
   "display_name": "Python 3",
   "language": "python",
   "name": "python3"
  },
  "language_info": {
   "codemirror_mode": {
    "name": "ipython",
    "version": 3
   },
   "file_extension": ".py",
   "mimetype": "text/x-python",
   "name": "python",
   "nbconvert_exporter": "python",
   "pygments_lexer": "ipython3",
   "version": "3.6.4"
  }
 },
 "nbformat": 4,
 "nbformat_minor": 2
}
